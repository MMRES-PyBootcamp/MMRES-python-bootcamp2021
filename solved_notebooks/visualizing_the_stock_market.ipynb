{
 "cells": [
  {
   "cell_type": "markdown",
   "id": "detailed-nebraska",
   "metadata": {},
   "source": [
    "# Egor Folli solution for Final Projects - Visualizing the Stock Market"
   ]
  },
  {
   "cell_type": "code",
   "execution_count": 1,
   "id": "average-wayne",
   "metadata": {},
   "outputs": [
    {
     "name": "stdout",
     "output_type": "stream",
     "text": [
      "Requirement already satisfied: bokeh in /home/folley/.pyenv/versions/3.7.9/lib/python3.7/site-packages (2.4.0)\n",
      "Requirement already satisfied: packaging>=16.8 in /home/folley/.pyenv/versions/3.7.9/lib/python3.7/site-packages (from bokeh) (21.0)\n",
      "Requirement already satisfied: pillow>=7.1.0 in /home/folley/.pyenv/versions/3.7.9/lib/python3.7/site-packages (from bokeh) (8.3.2)\n",
      "Requirement already satisfied: tornado>=5.1 in /home/folley/.pyenv/versions/3.7.9/lib/python3.7/site-packages (from bokeh) (6.1)\n",
      "Requirement already satisfied: numpy>=1.11.3 in /home/folley/.pyenv/versions/3.7.9/lib/python3.7/site-packages (from bokeh) (1.19.3)\n",
      "Requirement already satisfied: Jinja2>=2.9 in /home/folley/.pyenv/versions/3.7.9/lib/python3.7/site-packages (from bokeh) (2.11.3)\n",
      "Requirement already satisfied: PyYAML>=3.10 in /home/folley/.pyenv/versions/3.7.9/lib/python3.7/site-packages (from bokeh) (5.4.1)\n",
      "Requirement already satisfied: typing-extensions>=3.10.0 in /home/folley/.pyenv/versions/3.7.9/lib/python3.7/site-packages (from bokeh) (3.10.0.2)\n",
      "Requirement already satisfied: MarkupSafe>=0.23 in /home/folley/.pyenv/versions/3.7.9/lib/python3.7/site-packages (from Jinja2>=2.9->bokeh) (1.1.1)\n",
      "Requirement already satisfied: pyparsing>=2.0.2 in /home/folley/.pyenv/versions/3.7.9/lib/python3.7/site-packages (from packaging>=16.8->bokeh) (2.4.7)\n",
      "\u001b[33mWARNING: You are using pip version 21.0.1; however, version 21.2.4 is available.\n",
      "You should consider upgrading via the '/home/folley/.pyenv/versions/3.7.9/bin/python3.7 -m pip install --upgrade pip' command.\u001b[0m\n"
     ]
    }
   ],
   "source": [
    "!pip install bokeh"
   ]
  },
  {
   "cell_type": "code",
   "execution_count": 2,
   "id": "fifteen-auckland",
   "metadata": {},
   "outputs": [
    {
     "name": "stdout",
     "output_type": "stream",
     "text": [
      "Using data directory: /home/folley/.bokeh/data\n",
      "Skipping 'CGM.csv' (checksum match)\n",
      "Skipping 'US_Counties.zip' (checksum match)\n",
      "Skipping 'us_cities.json' (checksum match)\n",
      "Skipping 'unemployment09.csv' (checksum match)\n",
      "Skipping 'AAPL.csv' (checksum match)\n",
      "Skipping 'FB.csv' (checksum match)\n",
      "Skipping 'GOOG.csv' (checksum match)\n",
      "Skipping 'IBM.csv' (checksum match)\n",
      "Skipping 'MSFT.csv' (checksum match)\n",
      "Skipping 'WPP2012_SA_DB03_POPULATION_QUINQUENNIAL.zip' (checksum match)\n",
      "Skipping 'gapminder_fertility.csv' (checksum match)\n",
      "Skipping 'gapminder_population.csv' (checksum match)\n",
      "Skipping 'gapminder_life_expectancy.csv' (checksum match)\n",
      "Skipping 'gapminder_regions.csv' (checksum match)\n",
      "Skipping 'world_cities.zip' (checksum match)\n",
      "Skipping 'airports.json' (checksum match)\n",
      "Skipping 'movies.db.zip' (checksum match)\n",
      "Skipping 'airports.csv' (checksum match)\n",
      "Skipping 'routes.csv' (checksum match)\n",
      "Skipping 'haarcascade_frontalface_default.xml' (checksum match)\n"
     ]
    }
   ],
   "source": [
    "import bokeh\n",
    "import bokeh.plotting as bkh\n",
    "\n",
    "bokeh.sampledata.download()\n",
    "\n",
    "from bokeh.sampledata.stocks import AAPL, FB, GOOG, IBM, MSFT"
   ]
  },
  {
   "cell_type": "markdown",
   "id": "sealed-distance",
   "metadata": {},
   "source": [
    "___"
   ]
  },
  {
   "cell_type": "code",
   "execution_count": 3,
   "id": "complex-advocacy",
   "metadata": {},
   "outputs": [],
   "source": [
    "from bokeh.plotting import figure, output_file, show\n",
    "from bokeh.models import ColumnDataSource\n",
    "from bokeh.models.tools import HoverTool\n",
    "import pandas as pd\n",
    "\n",
    "import warnings\n",
    "warnings.filterwarnings(\"ignore\")"
   ]
  },
  {
   "cell_type": "markdown",
   "id": "monthly-replication",
   "metadata": {},
   "source": [
    "# Data examination"
   ]
  },
  {
   "cell_type": "code",
   "execution_count": 4,
   "id": "selective-staff",
   "metadata": {},
   "outputs": [
    {
     "data": {
      "text/html": [
       "<div>\n",
       "<style scoped>\n",
       "    .dataframe tbody tr th:only-of-type {\n",
       "        vertical-align: middle;\n",
       "    }\n",
       "\n",
       "    .dataframe tbody tr th {\n",
       "        vertical-align: top;\n",
       "    }\n",
       "\n",
       "    .dataframe thead th {\n",
       "        text-align: right;\n",
       "    }\n",
       "</style>\n",
       "<table border=\"1\" class=\"dataframe\">\n",
       "  <thead>\n",
       "    <tr style=\"text-align: right;\">\n",
       "      <th></th>\n",
       "      <th>date</th>\n",
       "      <th>open</th>\n",
       "      <th>high</th>\n",
       "      <th>low</th>\n",
       "      <th>close</th>\n",
       "      <th>volume</th>\n",
       "      <th>adj_close</th>\n",
       "    </tr>\n",
       "  </thead>\n",
       "  <tbody>\n",
       "    <tr>\n",
       "      <th>0</th>\n",
       "      <td>2000-03-01</td>\n",
       "      <td>118.56</td>\n",
       "      <td>132.06</td>\n",
       "      <td>118.50</td>\n",
       "      <td>130.31</td>\n",
       "      <td>38478000</td>\n",
       "      <td>31.68</td>\n",
       "    </tr>\n",
       "    <tr>\n",
       "      <th>1</th>\n",
       "      <td>2000-03-02</td>\n",
       "      <td>127.00</td>\n",
       "      <td>127.94</td>\n",
       "      <td>120.69</td>\n",
       "      <td>122.00</td>\n",
       "      <td>11136800</td>\n",
       "      <td>29.66</td>\n",
       "    </tr>\n",
       "    <tr>\n",
       "      <th>2</th>\n",
       "      <td>2000-03-03</td>\n",
       "      <td>124.87</td>\n",
       "      <td>128.23</td>\n",
       "      <td>120.00</td>\n",
       "      <td>128.00</td>\n",
       "      <td>11565200</td>\n",
       "      <td>31.12</td>\n",
       "    </tr>\n",
       "    <tr>\n",
       "      <th>3</th>\n",
       "      <td>2000-03-06</td>\n",
       "      <td>126.00</td>\n",
       "      <td>129.13</td>\n",
       "      <td>125.00</td>\n",
       "      <td>125.69</td>\n",
       "      <td>7520000</td>\n",
       "      <td>30.56</td>\n",
       "    </tr>\n",
       "    <tr>\n",
       "      <th>4</th>\n",
       "      <td>2000-03-07</td>\n",
       "      <td>126.44</td>\n",
       "      <td>127.44</td>\n",
       "      <td>121.12</td>\n",
       "      <td>122.87</td>\n",
       "      <td>9767600</td>\n",
       "      <td>29.87</td>\n",
       "    </tr>\n",
       "  </tbody>\n",
       "</table>\n",
       "</div>"
      ],
      "text/plain": [
       "         date    open    high     low   close    volume  adj_close\n",
       "0  2000-03-01  118.56  132.06  118.50  130.31  38478000      31.68\n",
       "1  2000-03-02  127.00  127.94  120.69  122.00  11136800      29.66\n",
       "2  2000-03-03  124.87  128.23  120.00  128.00  11565200      31.12\n",
       "3  2000-03-06  126.00  129.13  125.00  125.69   7520000      30.56\n",
       "4  2000-03-07  126.44  127.44  121.12  122.87   9767600      29.87"
      ]
     },
     "execution_count": 4,
     "metadata": {},
     "output_type": "execute_result"
    }
   ],
   "source": [
    "df = pd.DataFrame(AAPL)\n",
    "df.head()"
   ]
  },
  {
   "cell_type": "code",
   "execution_count": 5,
   "id": "verified-survey",
   "metadata": {},
   "outputs": [
    {
     "data": {
      "text/plain": [
       "dtype('O')"
      ]
     },
     "execution_count": 5,
     "metadata": {},
     "output_type": "execute_result"
    }
   ],
   "source": [
    "df.date.dtype"
   ]
  },
  {
   "cell_type": "markdown",
   "id": "variable-guard",
   "metadata": {},
   "source": [
    "# Plot function"
   ]
  },
  {
   "cell_type": "code",
   "execution_count": 6,
   "id": "binding-ready",
   "metadata": {},
   "outputs": [],
   "source": [
    "# Input format is dict originally\n",
    "def plot_stocks(stock_symbol: dict):\n",
    "    \n",
    "    # Convert data to data frame \n",
    "    df = pd.DataFrame(stock_symbol)\n",
    "    \n",
    "    # Convert date column to format date\n",
    "    df.date = pd.to_datetime(df.date, format='%Y-%m-%d')\n",
    "    \n",
    "    # Convert to bokeh model format\n",
    "    data = ColumnDataSource(df)\n",
    "\n",
    "    # Create a figure and add title\n",
    "    fig = bkh.figure(width=800, height=400, x_axis_type='datetime')\n",
    "    fig.title.text = 'Highest values for each day'\n",
    "\n",
    "    # Plotting \n",
    "    fig.line(x='date', y='high',\n",
    "             source=data,\n",
    "             line_width=3,\n",
    "             alpha=.8)\n",
    "\n",
    "    # Legend for our data\n",
    "    # FIXME: Date formatting error\n",
    "    fig.legend.location = \"top_left\"\n",
    "    fig.legend.click_policy='hide'\n",
    "\n",
    "    # Add Hover for more information at each point\n",
    "    hover = HoverTool()\n",
    "    hover.tooltips=[\n",
    "        ('open price', '@open'),\n",
    "        ('highest value', '@high'),\n",
    "        ('close price', '@close'),\n",
    "        ('date', '@d{%F}')\n",
    "    ]\n",
    "    hover.formatters = {'@d': 'datetime'}\n",
    "    \n",
    "    # Add hover tools\n",
    "    fig.add_tools(hover)\n",
    "    show(fig)"
   ]
  },
  {
   "cell_type": "markdown",
   "id": "certain-commander",
   "metadata": {},
   "source": [
    "# Example"
   ]
  },
  {
   "cell_type": "code",
   "execution_count": 7,
   "id": "dramatic-story",
   "metadata": {},
   "outputs": [],
   "source": [
    "plot_stocks(stock_symbol=AAPL)"
   ]
  }
 ],
 "metadata": {
  "kernelspec": {
   "display_name": "Python 3",
   "language": "python",
   "name": "python3"
  },
  "language_info": {
   "codemirror_mode": {
    "name": "ipython",
    "version": 3
   },
   "file_extension": ".py",
   "mimetype": "text/x-python",
   "name": "python",
   "nbconvert_exporter": "python",
   "pygments_lexer": "ipython3",
   "version": "3.7.9"
  }
 },
 "nbformat": 4,
 "nbformat_minor": 5
}
