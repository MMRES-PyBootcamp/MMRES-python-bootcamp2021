{
  "nbformat": 4,
  "nbformat_minor": 0,
  "metadata": {
    "kernelspec": {
      "display_name": "Python 3",
      "language": "python",
      "name": "python3"
    },
    "colab": {
      "name": "03_NumPy_solved.ipynb",
      "provenance": [],
      "toc_visible": true,
      "include_colab_link": true
    }
  },
  "cells": [
    {
      "cell_type": "markdown",
      "metadata": {
        "id": "view-in-github",
        "colab_type": "text"
      },
      "source": [
        "<a href=\"https://colab.research.google.com/github/MMRES-PyBootcamp/MMRES-python-bootcamp2021/blob/master/03_NumPy_solved.ipynb\" target=\"_parent\"><img src=\"https://colab.research.google.com/assets/colab-badge.svg\" alt=\"Open In Colab\"/></a>"
      ]
    },
    {
      "cell_type": "markdown",
      "metadata": {
        "id": "H-qec1q_e75x"
      },
      "source": [
        "# 3 NumPy\n",
        "\n",
        "## Introduction\n",
        "\n",
        "After getting used to how Python works, it is the moment to begin getting our hands dirty with data analysis. We will study two packages: [NumPy](http://www.numpy.org/) and [Pandas](http://pandas.pydata.org/). NumPy is the fundamental numeric computing and linear algebra package in Python. We will learn it not only for the data analysis, but more importantly, because it will be a package that will be always present in our `import` section as scientists. In the next notebook, we will dive into Pandas. Pandas is a dedicated data analysis package with more functionalities than NumPy, making our life much easier in terms of data visualization and manipulation. \n",
        "\n",
        "Let us start importing the necessary packages."
      ]
    },
    {
      "cell_type": "code",
      "metadata": {
        "id": "JZbfI1L9e750",
        "colab": {
          "base_uri": "https://localhost:8080/"
        },
        "outputId": "29ffb55f-f21a-4e8e-8ad0-f4fbf063e612"
      },
      "source": [
        "import numpy as np\n",
        "print('NumPy:', np.__version__)"
      ],
      "execution_count": null,
      "outputs": [
        {
          "output_type": "stream",
          "name": "stdout",
          "text": [
            "NumPy: 1.19.5\n"
          ]
        }
      ]
    },
    {
      "cell_type": "markdown",
      "metadata": {
        "id": "EszZedIye751"
      },
      "source": [
        "## Numeric Python (NumPy)\n",
        "\n",
        "NumPy is an open-source add-on module to Python that provides common mathematical and numerical routines in pre-compiled, fast functions. These are growing into highly mature packages that provide functionalities that meets that\n",
        "associated with common commercial software like [MATLAB](https://www.mathworks.com/). The [NumPy](http://www.numpy.org/) (Numeric Python) package provides basic routines for manipulating large arrays and matrices of numerical data. With NumPy we will be working with *homogeneous multidimensional array* or, simply, **NumPy arrays**.\n",
        "\n",
        "We will now explore some capabilities of NumPy that will prove very useful not only for data analyisis, but for almost any Python application."
      ]
    },
    {
      "cell_type": "markdown",
      "metadata": {
        "id": "Sgy5vYMFe752"
      },
      "source": [
        "### Creating Arrays\n",
        "\n",
        "As mentioned before, the main object in NumPy is the *array*. Creating one is as easy as calling the command `array`"
      ]
    },
    {
      "cell_type": "code",
      "metadata": {
        "id": "JCJrbnJoe752",
        "colab": {
          "base_uri": "https://localhost:8080/"
        },
        "outputId": "466ee4cf-b494-4737-d9bc-ce567cc30a12"
      },
      "source": [
        "# Create a list\n",
        "mylist = [1, 2, 3, 4, 5, 6, 7, 8, 9]\n",
        "\n",
        "# Create a numpy array from a list\n",
        "my1darr = np.array(mylist)\n",
        "\n",
        "# Data type of a numpy array\n",
        "print(type(my1darr))\n",
        "\n",
        "my1darr"
      ],
      "execution_count": null,
      "outputs": [
        {
          "output_type": "stream",
          "name": "stdout",
          "text": [
            "<class 'numpy.ndarray'>\n"
          ]
        },
        {
          "output_type": "execute_result",
          "data": {
            "text/plain": [
              "array([1, 2, 3, 4, 5, 6, 7, 8, 9])"
            ]
          },
          "metadata": {},
          "execution_count": 2
        }
      ]
    },
    {
      "cell_type": "markdown",
      "metadata": {
        "id": "kE8Kv6WWe753"
      },
      "source": [
        "The same applies to multidimensional arrays"
      ]
    },
    {
      "cell_type": "code",
      "metadata": {
        "id": "7ARNZR_me753",
        "colab": {
          "base_uri": "https://localhost:8080/"
        },
        "outputId": "6d68a5d2-e2a8-4b36-fc12-091d9c41a999"
      },
      "source": [
        "# Create a numpy array with three elemets, with three elements each.\n",
        "my2darr = np.array([[1, 2, 3], [4, 5, 6], [7, 8, 9]])\n",
        "my2darr"
      ],
      "execution_count": null,
      "outputs": [
        {
          "output_type": "execute_result",
          "data": {
            "text/plain": [
              "array([[1, 2, 3],\n",
              "       [4, 5, 6],\n",
              "       [7, 8, 9]])"
            ]
          },
          "metadata": {},
          "execution_count": 3
        }
      ]
    },
    {
      "cell_type": "code",
      "metadata": {
        "id": "gFq7T_AYe754",
        "colab": {
          "base_uri": "https://localhost:8080/"
        },
        "outputId": "7cda7a04-d4af-42b1-913f-13d38d86cd90"
      },
      "source": [
        "# Create a numpy array with three elemets, with three elements each, with a single element each\n",
        "my3darr = np.array([  [[1], [2], [3]], [[4], [5], [6]], [[7], [8], [9]]  ])\n",
        "my3darr"
      ],
      "execution_count": null,
      "outputs": [
        {
          "output_type": "execute_result",
          "data": {
            "text/plain": [
              "array([[[1],\n",
              "        [2],\n",
              "        [3]],\n",
              "\n",
              "       [[4],\n",
              "        [5],\n",
              "        [6]],\n",
              "\n",
              "       [[7],\n",
              "        [8],\n",
              "        [9]]])"
            ]
          },
          "metadata": {},
          "execution_count": 4
        }
      ]
    },
    {
      "cell_type": "markdown",
      "metadata": {
        "id": "WjOC0xlge755"
      },
      "source": [
        "A NumPy array has a number of dimensions (or *axes*). To obtain the number of axes and the size of each of them you use the command `shape`. For 2-dimensional arrays (matrices), the order corresponds to (rows, columns)\n",
        "\n",
        "There are two different ways of calling the `shape` command, either with `np.shape(arr)` or `arr.shape`. This is not the only command that works in both formats, and we will be finding some more in our way."
      ]
    },
    {
      "cell_type": "code",
      "metadata": {
        "id": "3RCrb7xFe756",
        "colab": {
          "base_uri": "https://localhost:8080/"
        },
        "outputId": "dbaa9833-12fc-4c1a-e4e4-8a87594534d0"
      },
      "source": [
        "# Shape using `.shape`\n",
        "print(my1darr.shape)\n",
        "print(my2darr.shape)\n",
        "print(my3darr.shape)\n",
        "\n",
        "# Shape using `np.shape()`\n",
        "print(np.shape(my1darr))\n",
        "print(np.shape(my2darr))\n",
        "print(np.shape(my3darr))"
      ],
      "execution_count": null,
      "outputs": [
        {
          "output_type": "stream",
          "name": "stdout",
          "text": [
            "(9,)\n",
            "(3, 3)\n",
            "(3, 3, 1)\n",
            "(9,)\n",
            "(3, 3)\n",
            "(3, 3, 1)\n"
          ]
        }
      ]
    },
    {
      "cell_type": "markdown",
      "metadata": {
        "id": "T9mvYKVQe756"
      },
      "source": [
        "There is one restriction with respect to the use of lists: while we can make lists containing any kind of data, all the data in a numpy array must be of the same type, and it is converted automatically."
      ]
    },
    {
      "cell_type": "code",
      "metadata": {
        "id": "xxVbOcAYe756",
        "colab": {
          "base_uri": "https://localhost:8080/"
        },
        "outputId": "9a0062d8-04ff-4b82-e615-c10e4275392c"
      },
      "source": [
        "# Create a list with floats and strings\n",
        "lst = [1., 'cat']\n",
        "print(lst)\n",
        "\n",
        "# Create a numpy array from a list with mixed data types\n",
        "arr = np.array(lst)\n",
        "print(arr)\n",
        "\n",
        "# The data type of the 1. in the list is the same data type than the 1. in the array?\n",
        "print(f\"Type list = type array? {((lst[0])) == type((arr[0]))}\")\n",
        "print(f\"Type list: {type(lst[0])}\")\n",
        "print(f\"Type array: {type(arr[0])}\")"
      ],
      "execution_count": null,
      "outputs": [
        {
          "output_type": "stream",
          "name": "stdout",
          "text": [
            "[1.0, 'cat']\n",
            "['1.0' 'cat']\n",
            "Type list = type array? False\n",
            "Type list: <class 'float'>\n",
            "Type array: <class 'numpy.str_'>\n"
          ]
        }
      ]
    },
    {
      "cell_type": "markdown",
      "metadata": {
        "id": "PeBhkkbBe757"
      },
      "source": [
        "### Special Arrays\n",
        "\n",
        "There are some functionalities that allow us to create arrays filled with determined values. `ones` and `zeros` provide arrays of the given shape and type (default is float64), filled with ones or zeros, respectively."
      ]
    },
    {
      "cell_type": "code",
      "metadata": {
        "id": "Gn8GXq4se757",
        "colab": {
          "base_uri": "https://localhost:8080/"
        },
        "outputId": "bbe08ea7-f92b-4570-f99d-2fd9cc83cafe"
      },
      "source": [
        "# Create a zero-filled numpy array of shape 3 x 2\n",
        "np.zeros((3, 2))"
      ],
      "execution_count": null,
      "outputs": [
        {
          "output_type": "execute_result",
          "data": {
            "text/plain": [
              "array([[0., 0.],\n",
              "       [0., 0.],\n",
              "       [0., 0.]])"
            ]
          },
          "metadata": {},
          "execution_count": 7
        }
      ]
    },
    {
      "cell_type": "code",
      "metadata": {
        "id": "_0tqDheme758",
        "colab": {
          "base_uri": "https://localhost:8080/"
        },
        "outputId": "747b6c7a-4fc2-4907-d856-fdbc10a3183b"
      },
      "source": [
        "# Create a one-filled numpy array of shape 3 x 2 x 4\n",
        "np.ones((3, 2, 4), dtype=np.int8)"
      ],
      "execution_count": null,
      "outputs": [
        {
          "output_type": "execute_result",
          "data": {
            "text/plain": [
              "array([[[1, 1, 1, 1],\n",
              "        [1, 1, 1, 1]],\n",
              "\n",
              "       [[1, 1, 1, 1],\n",
              "        [1, 1, 1, 1]],\n",
              "\n",
              "       [[1, 1, 1, 1],\n",
              "        [1, 1, 1, 1]]], dtype=int8)"
            ]
          },
          "metadata": {},
          "execution_count": 8
        }
      ]
    },
    {
      "cell_type": "markdown",
      "metadata": {
        "id": "mWB_xQJRe758"
      },
      "source": [
        "`eye(d)` returns a 2-D array, of size $d$ with ones in the diagonal and zeros elsewhere. It's an identity matrix."
      ]
    },
    {
      "cell_type": "code",
      "metadata": {
        "id": "BoMamZ4Ne758",
        "colab": {
          "base_uri": "https://localhost:8080/"
        },
        "outputId": "c8ba6567-ff1e-4d85-deeb-93453029e450"
      },
      "source": [
        "# Create an numpy array of shape 3 x 3 with ones in the diagonal\n",
        "np.eye(3)"
      ],
      "execution_count": null,
      "outputs": [
        {
          "output_type": "execute_result",
          "data": {
            "text/plain": [
              "array([[1., 0., 0.],\n",
              "       [0., 1., 0.],\n",
              "       [0., 0., 1.]])"
            ]
          },
          "metadata": {},
          "execution_count": 9
        }
      ]
    },
    {
      "cell_type": "markdown",
      "metadata": {
        "id": "bnS3oxwBe758"
      },
      "source": [
        "`eye` can also make arrays with ones in upper and lower diagonals. To achieve this, you must call `eye(d, d, k)` where $k$ denotes the diagonal (positive for above the center diagonal, negative for below), or `eye(d, k=num)`"
      ]
    },
    {
      "cell_type": "code",
      "metadata": {
        "id": "HKd4xhfze759",
        "colab": {
          "base_uri": "https://localhost:8080/"
        },
        "outputId": "42839c62-736e-4020-fea0-51e912d5eca1"
      },
      "source": [
        "# Create an numpy array of shape 5 x 5 with ones in the diagonal shifted-up 2 positions\n",
        "print(np.eye(5, 5, 2))\n",
        "print('\\n')\n",
        "\n",
        "# Create an numpy array of shape 4 x 4 with ones in the diagonal shifted-down 1 position\n",
        "print(np.eye(4, k=-1))"
      ],
      "execution_count": null,
      "outputs": [
        {
          "output_type": "stream",
          "name": "stdout",
          "text": [
            "[[0. 0. 1. 0. 0.]\n",
            " [0. 0. 0. 1. 0.]\n",
            " [0. 0. 0. 0. 1.]\n",
            " [0. 0. 0. 0. 0.]\n",
            " [0. 0. 0. 0. 0.]]\n",
            "\n",
            "\n",
            "[[0. 0. 0. 0.]\n",
            " [1. 0. 0. 0.]\n",
            " [0. 1. 0. 0.]\n",
            " [0. 0. 1. 0.]]\n"
          ]
        }
      ]
    },
    {
      "cell_type": "markdown",
      "metadata": {
        "id": "lr-y04mAe759"
      },
      "source": [
        "`diag`, depending on the input, either constructs a diagonal array (if the input is a 1-D array) or extracts a diagonal from a matrix (if the input is a 2-D array)."
      ]
    },
    {
      "cell_type": "code",
      "metadata": {
        "id": "k5g-9XNZe75-",
        "colab": {
          "base_uri": "https://localhost:8080/"
        },
        "outputId": "4d5b65b6-6fd7-4722-a5d8-bf581aea8347"
      },
      "source": [
        "# Create a 2-D array with the array `my1darr` shifted-up 1 position with respect the diagonal \n",
        "np.diag(my1darr, 1)"
      ],
      "execution_count": null,
      "outputs": [
        {
          "output_type": "execute_result",
          "data": {
            "text/plain": [
              "array([[0, 1, 0, 0, 0, 0, 0, 0, 0, 0],\n",
              "       [0, 0, 2, 0, 0, 0, 0, 0, 0, 0],\n",
              "       [0, 0, 0, 3, 0, 0, 0, 0, 0, 0],\n",
              "       [0, 0, 0, 0, 4, 0, 0, 0, 0, 0],\n",
              "       [0, 0, 0, 0, 0, 5, 0, 0, 0, 0],\n",
              "       [0, 0, 0, 0, 0, 0, 6, 0, 0, 0],\n",
              "       [0, 0, 0, 0, 0, 0, 0, 7, 0, 0],\n",
              "       [0, 0, 0, 0, 0, 0, 0, 0, 8, 0],\n",
              "       [0, 0, 0, 0, 0, 0, 0, 0, 0, 9],\n",
              "       [0, 0, 0, 0, 0, 0, 0, 0, 0, 0]])"
            ]
          },
          "metadata": {},
          "execution_count": 11
        }
      ]
    },
    {
      "cell_type": "code",
      "metadata": {
        "id": "ry51T2w1e75-",
        "colab": {
          "base_uri": "https://localhost:8080/"
        },
        "outputId": "ac38b91b-cb12-4254-a560-78535de421bd"
      },
      "source": [
        "# The the diagonal from the 2-D array `my2darr`\n",
        "np.diag(my2darr)"
      ],
      "execution_count": null,
      "outputs": [
        {
          "output_type": "execute_result",
          "data": {
            "text/plain": [
              "array([1, 5, 9])"
            ]
          },
          "metadata": {},
          "execution_count": 12
        }
      ]
    },
    {
      "cell_type": "code",
      "metadata": {
        "id": "GcWhE8RTe75-",
        "colab": {
          "base_uri": "https://localhost:8080/"
        },
        "outputId": "6e52fc56-0e0a-4191-f483-e10b4bc5f9f6"
      },
      "source": [
        "# Create a 2-D array with the diagonal from the 2-D array `my2darr` shifted-down 1 position with respect the diagonal \n",
        "np.diag(np.diag(my2darr), -1)"
      ],
      "execution_count": null,
      "outputs": [
        {
          "output_type": "execute_result",
          "data": {
            "text/plain": [
              "array([[0, 0, 0, 0],\n",
              "       [1, 0, 0, 0],\n",
              "       [0, 5, 0, 0],\n",
              "       [0, 0, 9, 0]])"
            ]
          },
          "metadata": {},
          "execution_count": 13
        }
      ]
    },
    {
      "cell_type": "markdown",
      "metadata": {
        "id": "ysMwQLqBe75-"
      },
      "source": [
        "`arange(begin, end, step)` returns evenly spaced values within a given interval. Note that the beginning point is included, but not the ending."
      ]
    },
    {
      "cell_type": "code",
      "metadata": {
        "id": "Wv748BI8e75-",
        "colab": {
          "base_uri": "https://localhost:8080/"
        },
        "outputId": "6bc327e6-a6af-4bf1-ab65-80b7bd6c906a"
      },
      "source": [
        "# Create range with start at 0, stop before 16\n",
        "myrange = np.arange(0, 16)\n",
        "myrange"
      ],
      "execution_count": null,
      "outputs": [
        {
          "output_type": "execute_result",
          "data": {
            "text/plain": [
              "array([ 0,  1,  2,  3,  4,  5,  6,  7,  8,  9, 10, 11, 12, 13, 14, 15])"
            ]
          },
          "metadata": {},
          "execution_count": 14
        }
      ]
    },
    {
      "cell_type": "markdown",
      "metadata": {
        "id": "AscgRd_oe75_"
      },
      "source": [
        "**Exercise 1**: Create an array of the first million of odd numbers, both with `arange` and using loops. Try timing both methods to see which one is faster. Use the magic command `%timeit`"
      ]
    },
    {
      "cell_type": "code",
      "metadata": {
        "id": "wEGJb1hie75_",
        "colab": {
          "base_uri": "https://localhost:8080/"
        },
        "outputId": "9c393c80-9743-4fd6-d20c-f75d6a97ebac"
      },
      "source": [
        "%timeit np.arange(0, 2000000, 2)\n",
        "\n",
        "%timeit [i for i in range(2000000) if i % 2 == 0]"
      ],
      "execution_count": null,
      "outputs": [
        {
          "output_type": "stream",
          "name": "stdout",
          "text": [
            "The slowest run took 5.52 times longer than the fastest. This could mean that an intermediate result is being cached.\n",
            "1000 loops, best of 5: 891 µs per loop\n",
            "1 loop, best of 5: 207 ms per loop\n"
          ]
        }
      ]
    },
    {
      "cell_type": "markdown",
      "metadata": {
        "id": "yRa9eYF_e75_"
      },
      "source": [
        "Similarly, `linspace(begin, end, points)` returns evenly spaced numbers over a specified interval. Here, instead of specifying the step, we provide the amount of points that we need. Beware that `linspace` includes the end of the interval!"
      ]
    },
    {
      "cell_type": "code",
      "metadata": {
        "id": "YjZ-lyEle75_",
        "colab": {
          "base_uri": "https://localhost:8080/"
        },
        "outputId": "68e84b77-58fd-481f-fd4b-ffc5d420638f"
      },
      "source": [
        "# Create line with start at 0, stop at 14, with 8 evenly spaced points\n",
        "myline = np.linspace(0, 14, 8) # \n",
        "myline"
      ],
      "execution_count": null,
      "outputs": [
        {
          "output_type": "execute_result",
          "data": {
            "text/plain": [
              "array([ 0.,  2.,  4.,  6.,  8., 10., 12., 14.])"
            ]
          },
          "metadata": {},
          "execution_count": 16
        }
      ]
    },
    {
      "cell_type": "markdown",
      "metadata": {
        "id": "Lu0eeQNEe75_"
      },
      "source": [
        "`reshape` changes the shape of an array, but not its data. This is another of the commands that can be called before or after the array."
      ]
    },
    {
      "cell_type": "code",
      "metadata": {
        "id": "Mow776Hie75_",
        "colab": {
          "base_uri": "https://localhost:8080/"
        },
        "outputId": "b3f08bb8-c5dd-4b89-acf2-b64d84ab6cf9"
      },
      "source": [
        "# Reshape `myrange` using `np.reshape()`\n",
        "print(np.reshape(myline, (2, 4)))\n",
        "\n",
        "print('\\n')\n",
        "\n",
        "# Reshape `myrange` using `.reshape()`\n",
        "print(myline.reshape(4, 2))"
      ],
      "execution_count": null,
      "outputs": [
        {
          "output_type": "stream",
          "name": "stdout",
          "text": [
            "[[ 0.  2.  4.  6.]\n",
            " [ 8. 10. 12. 14.]]\n",
            "\n",
            "\n",
            "[[ 0.  2.]\n",
            " [ 4.  6.]\n",
            " [ 8. 10.]\n",
            " [12. 14.]]\n"
          ]
        }
      ]
    },
    {
      "cell_type": "markdown",
      "metadata": {
        "id": "MLD7dllwe75_"
      },
      "source": [
        "Note that, however, this only provides a copy of the array. In order for them to be permanent we need to reasign the variable value."
      ]
    },
    {
      "cell_type": "code",
      "metadata": {
        "id": "v1tqeUFYe76A",
        "colab": {
          "base_uri": "https://localhost:8080/"
        },
        "outputId": "01f85db6-4881-486d-ce5d-6b7f124225db"
      },
      "source": [
        "# After the reshapings above, the original array stays being the same\n",
        "myline  "
      ],
      "execution_count": null,
      "outputs": [
        {
          "output_type": "execute_result",
          "data": {
            "text/plain": [
              "array([ 0.,  2.,  4.,  6.,  8., 10., 12., 14.])"
            ]
          },
          "metadata": {},
          "execution_count": 18
        }
      ]
    },
    {
      "cell_type": "code",
      "metadata": {
        "id": "SwORozYEe76A",
        "colab": {
          "base_uri": "https://localhost:8080/"
        },
        "outputId": "67d307a7-1ebe-4ecf-8b5b-f3ef2aa26607"
      },
      "source": [
        "new_line = myline.reshape(2, 4)\n",
        "new_line"
      ],
      "execution_count": null,
      "outputs": [
        {
          "output_type": "execute_result",
          "data": {
            "text/plain": [
              "array([[ 0.,  2.,  4.,  6.],\n",
              "       [ 8., 10., 12., 14.]])"
            ]
          },
          "metadata": {},
          "execution_count": 19
        }
      ]
    },
    {
      "cell_type": "markdown",
      "metadata": {
        "id": "4mXQgMHUe76A"
      },
      "source": [
        "### Combining Arrays\n",
        "\n",
        "The most general command for combining arrays is `concatenate(arrs, d)`. It takes a list of arrays and concatenates them along axis $d$. Remember your 3-D array:"
      ]
    },
    {
      "cell_type": "code",
      "metadata": {
        "id": "B4l13fMie76A",
        "colab": {
          "base_uri": "https://localhost:8080/"
        },
        "outputId": "31ed716e-700e-4ffa-ca65-e14dcb7e43be"
      },
      "source": [
        "# Remember the `my2darr` 2-D numpy array\n",
        "print(my2darr)\n",
        "print(my2darr.shape)"
      ],
      "execution_count": null,
      "outputs": [
        {
          "output_type": "stream",
          "name": "stdout",
          "text": [
            "[[1 2 3]\n",
            " [4 5 6]\n",
            " [7 8 9]]\n",
            "(3, 3)\n"
          ]
        }
      ]
    },
    {
      "cell_type": "code",
      "metadata": {
        "id": "XOdbaQoKe76A",
        "colab": {
          "base_uri": "https://localhost:8080/"
        },
        "outputId": "69ee9ab1-605e-4c3a-ae0d-f3ac236fe346"
      },
      "source": [
        "# Concatenate `my2darr` with itsef multiplied by 10 along dimension 0\n",
        "conc_along0 = np.concatenate([my2darr, 10*my2darr], 0)\n",
        "print(conc_along0)\n",
        "print(conc_along0.shape)"
      ],
      "execution_count": null,
      "outputs": [
        {
          "output_type": "stream",
          "name": "stdout",
          "text": [
            "[[ 1  2  3]\n",
            " [ 4  5  6]\n",
            " [ 7  8  9]\n",
            " [10 20 30]\n",
            " [40 50 60]\n",
            " [70 80 90]]\n",
            "(6, 3)\n"
          ]
        }
      ]
    },
    {
      "cell_type": "code",
      "metadata": {
        "id": "e2WN-lpSe76A",
        "colab": {
          "base_uri": "https://localhost:8080/"
        },
        "outputId": "853d2067-fe27-4faa-b486-03ca039b6afc"
      },
      "source": [
        "# Concatenate `my2darr` with itsef multiplied by 10 along dimension 1\n",
        "conc_along1 = np.concatenate([my2darr, 10*my2darr], 1)\n",
        "print(conc_along1)\n",
        "print(conc_along1.shape)"
      ],
      "execution_count": null,
      "outputs": [
        {
          "output_type": "stream",
          "name": "stdout",
          "text": [
            "[[ 1  2  3 10 20 30]\n",
            " [ 4  5  6 40 50 60]\n",
            " [ 7  8  9 70 80 90]]\n",
            "(3, 6)\n"
          ]
        }
      ]
    },
    {
      "cell_type": "markdown",
      "metadata": {
        "id": "AiX3vFQoe76A"
      },
      "source": [
        "However, for common combinations there are special commands. We can use `vstack` to stack arrays in sequence vertically (row wise) or `hstack` to stack arrays in sequence horizontally (column wise)."
      ]
    },
    {
      "cell_type": "code",
      "metadata": {
        "id": "lfIS45vJe76A",
        "colab": {
          "base_uri": "https://localhost:8080/"
        },
        "outputId": "6fc5f800-eec7-44f3-be7f-b2928c889f3e"
      },
      "source": [
        "# Stack `my2darr` vertically and horizontally\n",
        "print(np.vstack([my2darr, 10 * my2darr]))\n",
        "print('\\n')\n",
        "print(np.hstack([my2darr, 10 * my2darr]))"
      ],
      "execution_count": null,
      "outputs": [
        {
          "output_type": "stream",
          "name": "stdout",
          "text": [
            "[[ 1  2  3]\n",
            " [ 4  5  6]\n",
            " [ 7  8  9]\n",
            " [10 20 30]\n",
            " [40 50 60]\n",
            " [70 80 90]]\n",
            "\n",
            "\n",
            "[[ 1  2  3 10 20 30]\n",
            " [ 4  5  6 40 50 60]\n",
            " [ 7  8  9 70 80 90]]\n"
          ]
        }
      ]
    },
    {
      "cell_type": "markdown",
      "metadata": {
        "id": "vKEFoQ6ke76B"
      },
      "source": [
        "### Operations\n",
        "\n",
        "We can perform element-wise operations on arrays of any shape."
      ]
    },
    {
      "cell_type": "code",
      "metadata": {
        "id": "enZADVaVe76B"
      },
      "source": [
        "x_list = [1, 2, 3]"
      ],
      "execution_count": null,
      "outputs": []
    },
    {
      "cell_type": "code",
      "metadata": {
        "id": "vpQ_NfFJe76B",
        "colab": {
          "base_uri": "https://localhost:8080/"
        },
        "outputId": "1ed8d08e-6872-4fa4-dfca-a912c68d0f2b"
      },
      "source": [
        "x = np.array([1, 2, 3])\n",
        "\n",
        "print(x + 10)\n",
        "print(3 * x)\n",
        "print(1 / x)\n",
        "print(x ** (-2 / 3))\n",
        "print(2 ** x)"
      ],
      "execution_count": null,
      "outputs": [
        {
          "output_type": "stream",
          "name": "stdout",
          "text": [
            "[11 12 13]\n",
            "[3 6 9]\n",
            "[1.         0.5        0.33333333]\n",
            "[1.         0.62996052 0.48074986]\n",
            "[2 4 8]\n"
          ]
        }
      ]
    },
    {
      "cell_type": "markdown",
      "metadata": {
        "id": "_VCVQGCae76B"
      },
      "source": [
        "We can also operate between arrays, which must be of the same shape. If this is the case, they also do element-wise operations"
      ]
    },
    {
      "cell_type": "code",
      "metadata": {
        "id": "3RVbwFS2e76B",
        "colab": {
          "base_uri": "https://localhost:8080/"
        },
        "outputId": "8c114232-d486-46fc-95bf-a5415d7dec9b"
      },
      "source": [
        "y = np.arange(4, 7, 1)\n",
        "print(x + y)     # [1+4, 2+5, 3+6]\n",
        "print(x * y)     # [1*4, 2*5, 3*6]\n",
        "print(x / y)     # [1/4, 2/5, 3/6]\n",
        "print(x ** y)    # [1**4, 2**5, 3**6]"
      ],
      "execution_count": null,
      "outputs": [
        {
          "output_type": "stream",
          "name": "stdout",
          "text": [
            "[5 7 9]\n",
            "[ 4 10 18]\n",
            "[0.25 0.4  0.5 ]\n",
            "[  1  32 729]\n"
          ]
        }
      ]
    },
    {
      "cell_type": "markdown",
      "metadata": {
        "id": "iq_ItBgCe76B"
      },
      "source": [
        "For doing vector or matrix multiplication, the command to be used is `dot`"
      ]
    },
    {
      "cell_type": "code",
      "metadata": {
        "id": "rlAHTYMye76B",
        "colab": {
          "base_uri": "https://localhost:8080/"
        },
        "outputId": "461d73f5-d93d-4ba9-8dcb-927be9dc9fad"
      },
      "source": [
        "print(x)\n",
        "print(y)\n",
        "x.dot(y)  # 1*4 + 2*5 + 3*6"
      ],
      "execution_count": null,
      "outputs": [
        {
          "output_type": "stream",
          "name": "stdout",
          "text": [
            "[1 2 3]\n",
            "[4 5 6]\n"
          ]
        },
        {
          "output_type": "execute_result",
          "data": {
            "text/plain": [
              "32"
            ]
          },
          "metadata": {},
          "execution_count": 27
        }
      ]
    },
    {
      "cell_type": "markdown",
      "metadata": {
        "id": "k_bjejqPe76C"
      },
      "source": [
        "With python 3.5 matrix multiplication got it's own operator"
      ]
    },
    {
      "cell_type": "code",
      "metadata": {
        "id": "pIjqTp1be76C",
        "colab": {
          "base_uri": "https://localhost:8080/"
        },
        "outputId": "1d9ce4cb-cee6-47a3-ed00-f5944899466c"
      },
      "source": [
        "x @ y  # x.dot(y)"
      ],
      "execution_count": null,
      "outputs": [
        {
          "output_type": "execute_result",
          "data": {
            "text/plain": [
              "32"
            ]
          },
          "metadata": {},
          "execution_count": 28
        }
      ]
    },
    {
      "cell_type": "code",
      "metadata": {
        "id": "Plj2liSee76C",
        "colab": {
          "base_uri": "https://localhost:8080/"
        },
        "outputId": "987753ba-b192-4612-8b44-4161e27f6b75"
      },
      "source": [
        "X = np.array([[i + j for i in range(3, 6)] for j in range(3)])\n",
        "Y = np.diag([1, 1], 1) + np.diag([1], -2)\n",
        "\n",
        "print(X)\n",
        "print('\\n')\n",
        "print(Y)"
      ],
      "execution_count": null,
      "outputs": [
        {
          "output_type": "stream",
          "name": "stdout",
          "text": [
            "[[3 4 5]\n",
            " [4 5 6]\n",
            " [5 6 7]]\n",
            "\n",
            "\n",
            "[[0 1 0]\n",
            " [0 0 1]\n",
            " [1 0 0]]\n"
          ]
        }
      ]
    },
    {
      "cell_type": "markdown",
      "metadata": {
        "id": "SYqHTg75e76C"
      },
      "source": [
        "The operator `*` returns the elements-wise multiplication of arrays with the same shape."
      ]
    },
    {
      "cell_type": "code",
      "metadata": {
        "id": "_AfWjlTve76C",
        "colab": {
          "base_uri": "https://localhost:8080/"
        },
        "outputId": "a51f21d0-d2a1-408e-be10-1d9b407213a4"
      },
      "source": [
        "X * Y"
      ],
      "execution_count": null,
      "outputs": [
        {
          "output_type": "execute_result",
          "data": {
            "text/plain": [
              "array([[0, 4, 0],\n",
              "       [0, 0, 6],\n",
              "       [5, 0, 0]])"
            ]
          },
          "metadata": {},
          "execution_count": 30
        }
      ]
    },
    {
      "cell_type": "markdown",
      "metadata": {
        "id": "WoMd7msae76C"
      },
      "source": [
        "The operator `@` returns the matrix product of arrays with compatible shapes."
      ]
    },
    {
      "cell_type": "code",
      "metadata": {
        "id": "q4dg0Cbee76C",
        "colab": {
          "base_uri": "https://localhost:8080/"
        },
        "outputId": "4c684c11-5c2d-4af0-8e30-3dbcdde94d68"
      },
      "source": [
        "X @ Y"
      ],
      "execution_count": null,
      "outputs": [
        {
          "output_type": "execute_result",
          "data": {
            "text/plain": [
              "array([[5, 3, 4],\n",
              "       [6, 4, 5],\n",
              "       [7, 5, 6]])"
            ]
          },
          "metadata": {},
          "execution_count": 31
        }
      ]
    },
    {
      "cell_type": "markdown",
      "metadata": {
        "id": "e-s4fUt3e76C"
      },
      "source": [
        "**Exercise 2**: Take a 10x2 matrix representing $(x1,x2)$ coordinates and transform them into polar coordinates $(r,\\theta)$.\n",
        "\n",
        "*Hint 1: the inverse transformation is given by $x1 = r\\cos\\theta$, $x2 = r\\sin\\theta$*\n",
        "\n",
        "*Hint 2: generate random numbers with the functions in numpy.random*"
      ]
    },
    {
      "cell_type": "code",
      "metadata": {
        "id": "DinGN-nce76C",
        "colab": {
          "base_uri": "https://localhost:8080/"
        },
        "outputId": "30bb367d-979b-4991-cc56-81b15dadd43b"
      },
      "source": [
        "z = np.random.random((10, 2))\n",
        "x1, x2 = z[:, 0], z[:, 1]\n",
        "R = np.sqrt(x1 ** 2 + x2 ** 2)\n",
        "T = np.arctan2(x2, x1)\n",
        "print(R)\n",
        "print(T)"
      ],
      "execution_count": null,
      "outputs": [
        {
          "output_type": "stream",
          "name": "stdout",
          "text": [
            "[0.89443755 0.42947447 0.85358767 0.22931268 0.97892671 0.6847799\n",
            " 0.87595739 0.32789525 0.42679899 0.513422  ]\n",
            "[1.16582672 0.86152423 0.30427044 0.77782633 0.1248172  0.91699322\n",
            " 1.00846732 1.23983948 0.09356017 0.69849248]\n"
          ]
        }
      ]
    },
    {
      "cell_type": "markdown",
      "metadata": {
        "id": "GBJqGo0pe76D"
      },
      "source": [
        "#### Transposing\n",
        "\n",
        "Transposition is a very important operation for linear algebra. Although NumPy is capable of correctly doing matrix-vector products regardless of the orientation of the vector, it is not the case for products of matrices."
      ]
    },
    {
      "cell_type": "code",
      "metadata": {
        "id": "9M7y6g4qe76D"
      },
      "source": [
        "Z = np.arange(0, 12, 1).reshape((4, 3))"
      ],
      "execution_count": null,
      "outputs": []
    },
    {
      "cell_type": "code",
      "metadata": {
        "id": "-OLaeVMye76D",
        "colab": {
          "base_uri": "https://localhost:8080/"
        },
        "outputId": "369b99d7-2c35-422b-b67a-c6cc24f4db4d"
      },
      "source": [
        "print(Z)\n",
        "print(y)\n",
        "Z @ y"
      ],
      "execution_count": null,
      "outputs": [
        {
          "output_type": "stream",
          "name": "stdout",
          "text": [
            "[[ 0  1  2]\n",
            " [ 3  4  5]\n",
            " [ 6  7  8]\n",
            " [ 9 10 11]]\n",
            "[4 5 6]\n"
          ]
        },
        {
          "output_type": "execute_result",
          "data": {
            "text/plain": [
              "array([ 17,  62, 107, 152])"
            ]
          },
          "metadata": {},
          "execution_count": 34
        }
      ]
    },
    {
      "cell_type": "code",
      "metadata": {
        "id": "PeEo_G-Se76D",
        "colab": {
          "base_uri": "https://localhost:8080/"
        },
        "outputId": "5d746e17-3fc1-4810-f4d0-28c6c4484445"
      },
      "source": [
        "print(Z)\n",
        "print(y.T)\n",
        "Z @ y.T"
      ],
      "execution_count": null,
      "outputs": [
        {
          "output_type": "stream",
          "name": "stdout",
          "text": [
            "[[ 0  1  2]\n",
            " [ 3  4  5]\n",
            " [ 6  7  8]\n",
            " [ 9 10 11]]\n",
            "[4 5 6]\n"
          ]
        },
        {
          "output_type": "execute_result",
          "data": {
            "text/plain": [
              "array([ 17,  62, 107, 152])"
            ]
          },
          "metadata": {},
          "execution_count": 35
        }
      ]
    },
    {
      "cell_type": "code",
      "metadata": {
        "id": "PyPIzu0Pe76D",
        "colab": {
          "base_uri": "https://localhost:8080/"
        },
        "outputId": "45fdb9ed-d04f-481e-fde6-f8925e89a4bd"
      },
      "source": [
        "print(Z)\n",
        "print(X)\n",
        "Z @ X  # (4 x 3) @ (3 x 3 cols) yields (4 x 3)"
      ],
      "execution_count": null,
      "outputs": [
        {
          "output_type": "stream",
          "name": "stdout",
          "text": [
            "[[ 0  1  2]\n",
            " [ 3  4  5]\n",
            " [ 6  7  8]\n",
            " [ 9 10 11]]\n",
            "[[3 4 5]\n",
            " [4 5 6]\n",
            " [5 6 7]]\n"
          ]
        },
        {
          "output_type": "execute_result",
          "data": {
            "text/plain": [
              "array([[ 14,  17,  20],\n",
              "       [ 50,  62,  74],\n",
              "       [ 86, 107, 128],\n",
              "       [122, 152, 182]])"
            ]
          },
          "metadata": {},
          "execution_count": 36
        }
      ]
    },
    {
      "cell_type": "code",
      "metadata": {
        "id": "vbkioIufe76D",
        "colab": {
          "base_uri": "https://localhost:8080/",
          "height": 317
        },
        "outputId": "e4990970-eb74-4ef4-92d8-f85127c254bf"
      },
      "source": [
        "print(Z.T)\n",
        "print(X)\n",
        "Z.T @ X  # (3 x 4) @ (3 x 3) yields error"
      ],
      "execution_count": null,
      "outputs": [
        {
          "output_type": "stream",
          "name": "stdout",
          "text": [
            "[[ 0  3  6  9]\n",
            " [ 1  4  7 10]\n",
            " [ 2  5  8 11]]\n",
            "[[3 4 5]\n",
            " [4 5 6]\n",
            " [5 6 7]]\n"
          ]
        },
        {
          "output_type": "error",
          "ename": "ValueError",
          "evalue": "ignored",
          "traceback": [
            "\u001b[0;31m---------------------------------------------------------------------------\u001b[0m",
            "\u001b[0;31mValueError\u001b[0m                                Traceback (most recent call last)",
            "\u001b[0;32m<ipython-input-37-c661270dbc21>\u001b[0m in \u001b[0;36m<module>\u001b[0;34m()\u001b[0m\n\u001b[1;32m      1\u001b[0m \u001b[0mprint\u001b[0m\u001b[0;34m(\u001b[0m\u001b[0mZ\u001b[0m\u001b[0;34m.\u001b[0m\u001b[0mT\u001b[0m\u001b[0;34m)\u001b[0m\u001b[0;34m\u001b[0m\u001b[0;34m\u001b[0m\u001b[0m\n\u001b[1;32m      2\u001b[0m \u001b[0mprint\u001b[0m\u001b[0;34m(\u001b[0m\u001b[0mX\u001b[0m\u001b[0;34m)\u001b[0m\u001b[0;34m\u001b[0m\u001b[0;34m\u001b[0m\u001b[0m\n\u001b[0;32m----> 3\u001b[0;31m \u001b[0mZ\u001b[0m\u001b[0;34m.\u001b[0m\u001b[0mT\u001b[0m \u001b[0;34m@\u001b[0m \u001b[0mX\u001b[0m  \u001b[0;31m# (3 x 4) @ (3 x 3) yields error\u001b[0m\u001b[0;34m\u001b[0m\u001b[0;34m\u001b[0m\u001b[0m\n\u001b[0m",
            "\u001b[0;31mValueError\u001b[0m: matmul: Input operand 1 has a mismatch in its core dimension 0, with gufunc signature (n?,k),(k,m?)->(n?,m?) (size 3 is different from 4)"
          ]
        }
      ]
    },
    {
      "cell_type": "markdown",
      "metadata": {
        "id": "957z74Vee76D"
      },
      "source": [
        "#### Array Methods\n",
        "\n",
        "NumPy provides some functions to make operations with the elements of our arrays, similar to the list functionalities. In fact, NumPy provides more functionalities than standard Python."
      ]
    },
    {
      "cell_type": "code",
      "metadata": {
        "id": "aMHNYgoTe76D",
        "colab": {
          "base_uri": "https://localhost:8080/"
        },
        "outputId": "78bdb283-3658-4563-e4f6-f4c590e93421"
      },
      "source": [
        "a = np.array([-4, -2, 1, 3, 5])\n",
        "print(a.max())\n",
        "print(a.min())\n",
        "print(a.sum())\n",
        "print(a.mean())\n",
        "print(a.std())"
      ],
      "execution_count": null,
      "outputs": [
        {
          "output_type": "stream",
          "name": "stdout",
          "text": [
            "5\n",
            "-4\n",
            "3\n",
            "0.6\n",
            "3.2619012860600183\n"
          ]
        }
      ]
    },
    {
      "cell_type": "markdown",
      "metadata": {
        "id": "Foch5FFTe76E"
      },
      "source": [
        "Some interesting functions are `argmax` and `argmin`, which return the index of the maximum and minimum values in the array."
      ]
    },
    {
      "cell_type": "code",
      "metadata": {
        "id": "Kiq66bwte76E",
        "colab": {
          "base_uri": "https://localhost:8080/"
        },
        "outputId": "55e53e0b-a1cf-491c-fc6f-e5ff2653840e"
      },
      "source": [
        "print(a.argmax())\n",
        "print(a.argmin())"
      ],
      "execution_count": null,
      "outputs": [
        {
          "output_type": "stream",
          "name": "stdout",
          "text": [
            "4\n",
            "0\n"
          ]
        }
      ]
    },
    {
      "cell_type": "markdown",
      "metadata": {
        "id": "G77gjfrse76E"
      },
      "source": [
        "### Indexing/Slicing\n",
        "\n",
        "We have already seen briefly that to access individual elements you use the bracket notation: `array[ax_0, ax_1, ...]`, where the `ax_i` denotes the coordinate in the `i`-th axis. Just like with lists, we can assign new values to existing elements."
      ]
    },
    {
      "cell_type": "code",
      "metadata": {
        "id": "V-sTc_85e76E",
        "colab": {
          "base_uri": "https://localhost:8080/"
        },
        "outputId": "70f6a397-f26d-4359-f9fe-b26d5480d3ab"
      },
      "source": [
        "r = [4, 5, 6, 7]\n",
        "print(r[2])\n",
        "# Reassigning the value stored in index 0\n",
        "r[0] = 198\n",
        "r"
      ],
      "execution_count": null,
      "outputs": [
        {
          "output_type": "stream",
          "name": "stdout",
          "text": [
            "6\n"
          ]
        },
        {
          "output_type": "execute_result",
          "data": {
            "text/plain": [
              "[198, 5, 6, 7]"
            ]
          },
          "metadata": {},
          "execution_count": 40
        }
      ]
    },
    {
      "cell_type": "markdown",
      "metadata": {
        "id": "ennc6NQ9e76E"
      },
      "source": [
        "We can slice within an index using `:`, just like we have seen in lists. A second `:` can be used to indicate the step size. `array[start:stop:stepsize]`. If we do not provide any `start` and `stop`, the selection will go from the very beginning until the end of the array."
      ]
    },
    {
      "cell_type": "code",
      "metadata": {
        "id": "gUm1BCkUe76E",
        "colab": {
          "base_uri": "https://localhost:8080/"
        },
        "outputId": "7166cddb-7ac6-4a03-b0da-1b659d40608e"
      },
      "source": [
        "s = np.arange(13)**2\n",
        "print(s)\n",
        "\n",
        "# Slice from 2 to 10\n",
        "print(s[3:10])\n",
        "\n",
        "# Starting by index 2, until index 10, take one every 3 elements \n",
        "print(s[2:10:3])\n",
        "\n",
        "# Starting by index -5, until the end, pick every 2 elements\n",
        "print(s[-5::2])\n",
        "\n",
        "# Starting by index -5, until the end, pick every 2 elements backwards\n",
        "print(s[-5::-2])"
      ],
      "execution_count": null,
      "outputs": [
        {
          "output_type": "stream",
          "name": "stdout",
          "text": [
            "[  0   1   4   9  16  25  36  49  64  81 100 121 144]\n",
            "[ 9 16 25 36 49 64 81]\n",
            "[ 4 25 64]\n",
            "[ 64 100 144]\n",
            "[64 36 16  4  0]\n"
          ]
        }
      ]
    },
    {
      "cell_type": "markdown",
      "metadata": {
        "id": "h2tcvbwBe76E"
      },
      "source": [
        "The same applies to higher-dimensional arrays for every axis they have."
      ]
    },
    {
      "cell_type": "code",
      "metadata": {
        "id": "IhyoFupDe76E",
        "colab": {
          "base_uri": "https://localhost:8080/"
        },
        "outputId": "cbeb980c-56fe-4b18-8014-c01e2738c1b1"
      },
      "source": [
        "r = np.arange(36).reshape((6, 6))\n",
        "r"
      ],
      "execution_count": null,
      "outputs": [
        {
          "output_type": "execute_result",
          "data": {
            "text/plain": [
              "array([[ 0,  1,  2,  3,  4,  5],\n",
              "       [ 6,  7,  8,  9, 10, 11],\n",
              "       [12, 13, 14, 15, 16, 17],\n",
              "       [18, 19, 20, 21, 22, 23],\n",
              "       [24, 25, 26, 27, 28, 29],\n",
              "       [30, 31, 32, 33, 34, 35]])"
            ]
          },
          "metadata": {},
          "execution_count": 42
        }
      ]
    },
    {
      "cell_type": "code",
      "metadata": {
        "id": "tSmgVxq-e76E",
        "colab": {
          "base_uri": "https://localhost:8080/"
        },
        "outputId": "497b3ca3-3496-4d33-916b-6904ea1a81c6"
      },
      "source": [
        "# Pick rows 2 to 5, and cols 1 to 3 (remember, row 5 and col 3 not included)\n",
        "r[2:5, 1:3]"
      ],
      "execution_count": null,
      "outputs": [
        {
          "output_type": "execute_result",
          "data": {
            "text/plain": [
              "array([[13, 14],\n",
              "       [19, 20],\n",
              "       [25, 26]])"
            ]
          },
          "metadata": {},
          "execution_count": 43
        }
      ]
    },
    {
      "cell_type": "markdown",
      "metadata": {
        "id": "c702eMGTe76F"
      },
      "source": [
        "We can select specific rows and columns, separated by commas"
      ]
    },
    {
      "cell_type": "code",
      "metadata": {
        "id": "e0JK5tY_e76F",
        "colab": {
          "base_uri": "https://localhost:8080/"
        },
        "outputId": "531ef6dd-91cc-49bc-a9e5-5a81b5f0bfa7"
      },
      "source": [
        "# Pick rows 1, 3 and 4, and cols 1 to 3 (remember, col 3 not included)\n",
        "r[[1, 3, 4], 1:3]"
      ],
      "execution_count": null,
      "outputs": [
        {
          "output_type": "execute_result",
          "data": {
            "text/plain": [
              "array([[ 7,  8],\n",
              "       [19, 20],\n",
              "       [25, 26]])"
            ]
          },
          "metadata": {},
          "execution_count": 44
        }
      ]
    },
    {
      "cell_type": "markdown",
      "metadata": {
        "id": "HlRc2kzYe76F"
      },
      "source": [
        "A very useful tool is *boolean indexing*, where we apply a function, assignment... only to those elements of an array that satisfy some condition"
      ]
    },
    {
      "cell_type": "code",
      "metadata": {
        "id": "RURCblyCe76F",
        "colab": {
          "base_uri": "https://localhost:8080/"
        },
        "outputId": "61e839df-2bfb-44c3-b363-956ab360c9aa"
      },
      "source": [
        "r[r > 30] = 30\n",
        "r"
      ],
      "execution_count": null,
      "outputs": [
        {
          "output_type": "execute_result",
          "data": {
            "text/plain": [
              "array([[ 0,  1,  2,  3,  4,  5],\n",
              "       [ 6,  7,  8,  9, 10, 11],\n",
              "       [12, 13, 14, 15, 16, 17],\n",
              "       [18, 19, 20, 21, 22, 23],\n",
              "       [24, 25, 26, 27, 28, 29],\n",
              "       [30, 30, 30, 30, 30, 30]])"
            ]
          },
          "metadata": {},
          "execution_count": 45
        }
      ]
    },
    {
      "cell_type": "markdown",
      "metadata": {
        "id": "U5YiuqbXe76F"
      },
      "source": [
        "**Exercise 3**: Create a random 1-dimensional array, and find which element is closest to 0.7"
      ]
    },
    {
      "cell_type": "code",
      "metadata": {
        "id": "NjEVwucfe76F",
        "colab": {
          "base_uri": "https://localhost:8080/"
        },
        "outputId": "256a9c24-2f96-4441-aa17-11507eb01b43"
      },
      "source": [
        "Z = np.random.uniform(0,1,100)\n",
        "z = 0.7\n",
        "m = Z[np.abs(Z - z).argmin()]\n",
        "print(m)"
      ],
      "execution_count": null,
      "outputs": [
        {
          "output_type": "stream",
          "name": "stdout",
          "text": [
            "0.693966490440682\n"
          ]
        }
      ]
    },
    {
      "cell_type": "markdown",
      "metadata": {
        "id": "ZCXFtc8ae76F"
      },
      "source": [
        "#### Copying Data\n",
        "\n",
        "**Be very careful with copying and modifying arrays in NumPy!** Defining variables as parts of others will only provide a pointer to the allocated memory. Let us start with an example: let us define `r2` as a slice of `r`."
      ]
    },
    {
      "cell_type": "code",
      "metadata": {
        "id": "BNHZOLWpe76F",
        "colab": {
          "base_uri": "https://localhost:8080/"
        },
        "outputId": "2ba4a377-1670-4933-fa33-0a99245b7f68"
      },
      "source": [
        "r2 = r[:3,:3]\n",
        "r2"
      ],
      "execution_count": null,
      "outputs": [
        {
          "output_type": "execute_result",
          "data": {
            "text/plain": [
              "array([[0, 0, 0],\n",
              "       [0, 0, 0],\n",
              "       [0, 0, 0]])"
            ]
          },
          "metadata": {},
          "execution_count": 52
        }
      ]
    },
    {
      "cell_type": "markdown",
      "metadata": {
        "id": "b0LBlPtfe76F"
      },
      "source": [
        "And now let's set all its elements to zero"
      ]
    },
    {
      "cell_type": "code",
      "metadata": {
        "id": "MUTIonJ6e76F",
        "colab": {
          "base_uri": "https://localhost:8080/"
        },
        "outputId": "0ab7188a-3267-4413-835f-c420687db1a7"
      },
      "source": [
        "r2[:] = 0\n",
        "r2"
      ],
      "execution_count": null,
      "outputs": [
        {
          "output_type": "execute_result",
          "data": {
            "text/plain": [
              "array([[0, 0, 0],\n",
              "       [0, 0, 0],\n",
              "       [0, 0, 0]])"
            ]
          },
          "metadata": {},
          "execution_count": 57
        }
      ]
    },
    {
      "cell_type": "markdown",
      "metadata": {
        "id": "V38mH3r-e76G"
      },
      "source": [
        "If we now look at `r`, we see that it has also been changed!"
      ]
    },
    {
      "cell_type": "code",
      "metadata": {
        "id": "tEhRwUKre76G",
        "colab": {
          "base_uri": "https://localhost:8080/"
        },
        "outputId": "dae3b704-2cad-454b-9740-cd3db6d87fdd"
      },
      "source": [
        "r"
      ],
      "execution_count": null,
      "outputs": [
        {
          "output_type": "execute_result",
          "data": {
            "text/plain": [
              "array([[ 0,  0,  0,  3,  4,  5],\n",
              "       [ 0,  0,  0,  9, 10, 11],\n",
              "       [ 0,  0,  0, 15, 16, 17],\n",
              "       [18, 19, 20, 21, 22, 23],\n",
              "       [24, 25, 26, 27, 28, 29],\n",
              "       [30, 30, 30, 30, 30, 30]])"
            ]
          },
          "metadata": {},
          "execution_count": 54
        }
      ]
    },
    {
      "cell_type": "markdown",
      "metadata": {
        "id": "7-yfBrT6e76G"
      },
      "source": [
        "The proper way of handling selections without modifying the original arrays is through the `copy` command."
      ]
    },
    {
      "cell_type": "code",
      "metadata": {
        "id": "9fRcrSk4e76G",
        "colab": {
          "base_uri": "https://localhost:8080/"
        },
        "outputId": "47bbe111-beca-44bb-d5ba-741b15635e3d"
      },
      "source": [
        "r_copy = r.copy()\n",
        "r_copy"
      ],
      "execution_count": null,
      "outputs": [
        {
          "output_type": "execute_result",
          "data": {
            "text/plain": [
              "array([[ 0,  0,  0,  3,  4,  5],\n",
              "       [ 0,  0,  0,  9, 10, 11],\n",
              "       [ 0,  0,  0, 15, 16, 17],\n",
              "       [18, 19, 20, 21, 22, 23],\n",
              "       [24, 25, 26, 27, 28, 29],\n",
              "       [30, 30, 30, 30, 30, 30]])"
            ]
          },
          "metadata": {},
          "execution_count": 55
        }
      ]
    },
    {
      "cell_type": "markdown",
      "metadata": {
        "id": "8rbJ7Ya2e76G"
      },
      "source": [
        "Now we can safely modify `r_copy` without affecting `r`."
      ]
    },
    {
      "cell_type": "code",
      "metadata": {
        "id": "ZGKSHHbde76G",
        "colab": {
          "base_uri": "https://localhost:8080/"
        },
        "outputId": "89c14e33-45c3-4ae1-c3c8-e07f8b5c92f1"
      },
      "source": [
        "r_copy[:] = 10\n",
        "print(f'{r_copy}\\n')\n",
        "print(f'{r}')"
      ],
      "execution_count": null,
      "outputs": [
        {
          "output_type": "stream",
          "name": "stdout",
          "text": [
            "[[10 10 10 10 10 10]\n",
            " [10 10 10 10 10 10]\n",
            " [10 10 10 10 10 10]\n",
            " [10 10 10 10 10 10]\n",
            " [10 10 10 10 10 10]\n",
            " [10 10 10 10 10 10]]\n",
            "\n",
            "[[ 0  0  0  3  4  5]\n",
            " [ 0  0  0  9 10 11]\n",
            " [ 0  0  0 15 16 17]\n",
            " [18 19 20 21 22 23]\n",
            " [24 25 26 27 28 29]\n",
            " [30 30 30 30 30 30]]\n"
          ]
        }
      ]
    },
    {
      "cell_type": "markdown",
      "metadata": {
        "id": "Wld6_eEPe76G"
      },
      "source": [
        "### Iterating Over Arrays"
      ]
    },
    {
      "cell_type": "markdown",
      "metadata": {
        "id": "kIutx4lce76G"
      },
      "source": [
        "Finally, you can iterate over arrays in the same way as you iterate over lists"
      ]
    },
    {
      "cell_type": "code",
      "metadata": {
        "id": "VFcEfYYDe76G",
        "colab": {
          "base_uri": "https://localhost:8080/"
        },
        "outputId": "1e7d6093-9abc-4402-d4ae-b2ff7fd413d5"
      },
      "source": [
        "test = np.random.randint(0, 10, (4,3))\n",
        "test"
      ],
      "execution_count": null,
      "outputs": [
        {
          "output_type": "execute_result",
          "data": {
            "text/plain": [
              "array([[8, 5, 8],\n",
              "       [9, 3, 0],\n",
              "       [3, 3, 9],\n",
              "       [0, 3, 3]])"
            ]
          },
          "metadata": {},
          "execution_count": 58
        }
      ]
    },
    {
      "cell_type": "markdown",
      "metadata": {
        "id": "XF_H-uDMe76H"
      },
      "source": [
        "By default, we iterate over the first index which, for 2D arrays, corresponds to the rows."
      ]
    },
    {
      "cell_type": "code",
      "metadata": {
        "id": "ytTwTJQte76H",
        "colab": {
          "base_uri": "https://localhost:8080/"
        },
        "outputId": "394d0ce5-a06f-412c-cf1f-0cdfdf079d34"
      },
      "source": [
        "for row in test:\n",
        "    print(row)"
      ],
      "execution_count": null,
      "outputs": [
        {
          "output_type": "stream",
          "name": "stdout",
          "text": [
            "[8 5 8]\n",
            "[9 3 0]\n",
            "[3 3 9]\n",
            "[0 3 3]\n"
          ]
        }
      ]
    },
    {
      "cell_type": "markdown",
      "metadata": {
        "id": "Nen65LG6e76H"
      },
      "source": [
        "Or by row index"
      ]
    },
    {
      "cell_type": "code",
      "metadata": {
        "id": "hfR_0B14e76H",
        "colab": {
          "base_uri": "https://localhost:8080/"
        },
        "outputId": "128c1c84-1d34-4795-b568-1953e6a8a081"
      },
      "source": [
        "for i in range(len(test)):\n",
        "    print(test[i])"
      ],
      "execution_count": null,
      "outputs": [
        {
          "output_type": "stream",
          "name": "stdout",
          "text": [
            "[8 5 8]\n",
            "[9 3 0]\n",
            "[3 3 9]\n",
            "[0 3 3]\n"
          ]
        }
      ]
    },
    {
      "cell_type": "markdown",
      "metadata": {
        "id": "uLnVnXU0e76H"
      },
      "source": [
        "Or by row and index:"
      ]
    },
    {
      "cell_type": "code",
      "metadata": {
        "id": "c0Fimolze76H",
        "colab": {
          "base_uri": "https://localhost:8080/"
        },
        "outputId": "0210796a-23cc-4064-cc54-849d702969fc"
      },
      "source": [
        "for i, row in enumerate(test):\n",
        "    print(f'Row {i} is {row}')"
      ],
      "execution_count": null,
      "outputs": [
        {
          "output_type": "stream",
          "name": "stdout",
          "text": [
            "Row 0 is [8 5 8]\n",
            "Row 1 is [9 3 0]\n",
            "Row 2 is [3 3 9]\n",
            "Row 3 is [0 3 3]\n"
          ]
        }
      ]
    },
    {
      "cell_type": "markdown",
      "metadata": {
        "id": "qqEeNRf-e76H"
      },
      "source": [
        "In the same way as with lists, you can use `zip` to iterate over multiple iterables."
      ]
    },
    {
      "cell_type": "code",
      "metadata": {
        "id": "JXZz_vKTe76H",
        "colab": {
          "base_uri": "https://localhost:8080/"
        },
        "outputId": "1a8d4987-e5b9-44d4-de26-d4cb92abfe13"
      },
      "source": [
        "test2 = test**2\n",
        "test2"
      ],
      "execution_count": null,
      "outputs": [
        {
          "output_type": "execute_result",
          "data": {
            "text/plain": [
              "array([[64, 25, 64],\n",
              "       [81,  9,  0],\n",
              "       [ 9,  9, 81],\n",
              "       [ 0,  9,  9]])"
            ]
          },
          "metadata": {},
          "execution_count": 62
        }
      ]
    },
    {
      "cell_type": "code",
      "metadata": {
        "id": "0RWBUDIoe76H",
        "colab": {
          "base_uri": "https://localhost:8080/"
        },
        "outputId": "be1e6e9d-2444-43ab-e555-1d001c27bc48"
      },
      "source": [
        "for i, j in zip(test, test2):\n",
        "    print(f'{i} + {j} = {i+j}')"
      ],
      "execution_count": null,
      "outputs": [
        {
          "output_type": "stream",
          "name": "stdout",
          "text": [
            "[8 5 8] + [64 25 64] = [72 30 72]\n",
            "[9 3 0] + [81  9  0] = [90 12  0]\n",
            "[3 3 9] + [ 9  9 81] = [12 12 90]\n",
            "[0 3 3] + [0 9 9] = [ 0 12 12]\n"
          ]
        }
      ]
    },
    {
      "cell_type": "markdown",
      "metadata": {
        "id": "-tA2eJrhe76I"
      },
      "source": [
        "**Exercise 4**: Create a function that iterates over the columns of a 2-dimensional array"
      ]
    },
    {
      "cell_type": "code",
      "metadata": {
        "id": "zGTjYm6Me76I",
        "colab": {
          "base_uri": "https://localhost:8080/"
        },
        "outputId": "0e232722-9243-4876-f007-44e9ccf9f6ca"
      },
      "source": [
        "def iterate(df):\n",
        "    rows, cols = df.shape\n",
        "    for i in range(cols):\n",
        "        column = df[:, i]\n",
        "        print(f'Column {i} is {column}')\n",
        "\n",
        "iterate(test)"
      ],
      "execution_count": null,
      "outputs": [
        {
          "output_type": "stream",
          "name": "stdout",
          "text": [
            "Column 0 is [8 9 3 0]\n",
            "Column 1 is [5 3 3 3]\n",
            "Column 2 is [8 0 9 3]\n"
          ]
        }
      ]
    },
    {
      "cell_type": "markdown",
      "metadata": {
        "id": "UlwmwODoe76I"
      },
      "source": [
        "### Loading and Saving Data\n",
        "\n",
        "To load and save data NumPy has the `loadtxt` and `savetxt` commands. However, they only work for two-dimensional arrays"
      ]
    },
    {
      "cell_type": "code",
      "metadata": {
        "id": "kJgi99Yle76I",
        "colab": {
          "base_uri": "https://localhost:8080/"
        },
        "outputId": "aa9293c3-a5e3-4051-ecbe-01213e46b2ba"
      },
      "source": [
        "np.savetxt('numpytest.txt', test)\n",
        "np.loadtxt('numpytest.txt')"
      ],
      "execution_count": null,
      "outputs": [
        {
          "output_type": "execute_result",
          "data": {
            "text/plain": [
              "array([[8., 5., 8.],\n",
              "       [9., 3., 0.],\n",
              "       [3., 3., 9.],\n",
              "       [0., 3., 3.]])"
            ]
          },
          "metadata": {},
          "execution_count": 65
        }
      ]
    }
  ]
}