{
  "cells": [
    {
      "cell_type": "markdown",
      "metadata": {
        "id": "view-in-github",
        "colab_type": "text"
      },
      "source": [
        "<a href=\"https://colab.research.google.com/github/MMRES-PyBootcamp/MMRES-python-bootcamp2021/blob/master/11_misophonia_II.ipynb\" target=\"_parent\"><img src=\"https://colab.research.google.com/assets/colab-badge.svg\" alt=\"Open In Colab\"/></a>"
      ]
    },
    {
      "cell_type": "markdown",
      "metadata": {
        "id": "iBiTnm-2Rwq9"
      },
      "source": [
        "# Session 11 - Misophonia (second part)\n",
        "When reporting the results of a study, we first describe the variables of interest in tables and figures.\n",
        "\n",
        "We describe demographics (sex, age, marital status, etc..)\n",
        "\n",
        "We describe outcome variables (misophonia)\n",
        "\n",
        "We describe explanatory variables (cephalometric measures, anxiety, depression)\n",
        "\n",
        "We then test the main hypotheses of the study.\n",
        "\n",
        "We state the main relationships we want to study and formulate the statistical hypothesis (Introduction)\n",
        "\n",
        "We describe how the study was performed and the statistical methods to test the hypothesis (Methods)\n",
        "\n",
        "We describe the results of the hypothesis tests with statistics, and significance measures.\n",
        "\n",
        "We illustrate the results with figures.\n",
        "\n",
        "\n",
        "\n",
        "\n",
        "Are the state and trait correlated?"
      ]
    },
    {
      "cell_type": "markdown",
      "source": [
        "<div class=\"alert alert-block alert-success\"><b>Practice:</b> \n",
        "Imagine we want to study the anxiety of participants in the misophonia study. We formulate the following hypothesis:\n",
        "\n",
        "> Participants who enrolled in the study had an increased level of anxiety from their baseline (trait) that is related to their:\n",
        "<ul>\n",
        "  <li> age\n",
        "  <li> sex\n",
        "  <li> misophonia state.\n",
        "</ul>\n",
        "</div>"
      ],
      "metadata": {
        "id": "fxWsg4OnWYCL"
      }
    },
    {
      "cell_type": "markdown",
      "metadata": {
        "id": "77XC87TbRwrE"
      },
      "source": [
        "**This document is devised as a tool to enable your self-learning process. If you get stuck at some step or need any kind of help, please don't hesitate to raise your hand and ask for the teacher's guidance.**\n",
        "\n",
        "---"
      ]
    },
    {
      "cell_type": "code",
      "source": [
        "import matplotlib.pyplot as plt\n",
        "import seaborn as sns\n",
        "import numpy as np\n",
        "from scipy import stats\n",
        "\n"
      ],
      "metadata": {
        "id": "xTJKZ1FK_w1L"
      },
      "execution_count": 7,
      "outputs": []
    },
    {
      "cell_type": "markdown",
      "metadata": {
        "id": "FATVWbEYRwrE"
      },
      "source": [
        "## Data loading\n",
        "\n",
        "Let's begin again by loading Pandas with the `pd` alias and by importing the misophonia dataset `misophonia_data.xlsx` from the `/MMRES-python-bootcamp2022/datasets` sub-folder:"
      ]
    },
    {
      "cell_type": "code",
      "execution_count": 1,
      "metadata": {
        "id": "f-GEQ74bRwrF",
        "colab": {
          "base_uri": "https://localhost:8080/",
          "height": 488
        },
        "outputId": "0fbd4839-6733-4eac-d423-38aee9a01ec0"
      },
      "outputs": [
        {
          "output_type": "execute_result",
          "data": {
            "text/plain": [
              "    Misofonia  Misofonia.dic      Estado  Estado.dic  ansiedad.rasgo  \\\n",
              "0          si            4.0  divorciado         2.0            99.0   \n",
              "1          si            2.0      casado         1.0            75.0   \n",
              "2          no            0.0  divorciado         2.0            77.0   \n",
              "3          si            3.0      casado         1.0            95.0   \n",
              "4          no            0.0      casado         1.0            30.0   \n",
              "..        ...            ...         ...         ...             ...   \n",
              "133       NaN            NaN         NaN         NaN             NaN   \n",
              "134       NaN            NaN         NaN         NaN             NaN   \n",
              "135       NaN            NaN         NaN         NaN             NaN   \n",
              "136       NaN            NaN         NaN         NaN             NaN   \n",
              "137       NaN            NaN         NaN         NaN             NaN   \n",
              "\n",
              "     ansiedad.rasgo.dic  ansiedad.estado  ansiedad.estado.dic  \\\n",
              "0                   1.0             99.0                  1.0   \n",
              "1                   1.0             75.0                  1.0   \n",
              "2                   1.0             55.0                  0.0   \n",
              "3                   1.0             99.0                  1.0   \n",
              "4                   0.0             40.0                  0.0   \n",
              "..                  ...              ...                  ...   \n",
              "133                 NaN              NaN                  NaN   \n",
              "134                 NaN              NaN                  NaN   \n",
              "135                 NaN              NaN                  NaN   \n",
              "136                 NaN              NaN                  NaN   \n",
              "137                 NaN              NaN                  NaN   \n",
              "\n",
              "    ansiedad.medicada  ansiedad.medicada.dic  ...  Edad  CLASE  \\\n",
              "0                  no                    0.0  ...  44.0    III   \n",
              "1                  no                    0.0  ...  43.0     II   \n",
              "2                  no                    0.0  ...  24.0      I   \n",
              "3                  no                    0.0  ...  33.0    III   \n",
              "4                  no                    0.0  ...  41.0      I   \n",
              "..                ...                    ...  ...   ...    ...   \n",
              "133               NaN                    NaN  ...   NaN    NaN   \n",
              "134               NaN                    NaN  ...   NaN    NaN   \n",
              "135               NaN                    NaN  ...   NaN    NaN   \n",
              "136               NaN                    NaN  ...   NaN    NaN   \n",
              "137               NaN                    NaN  ...   NaN    NaN   \n",
              "\n",
              "    Angulo_convexidad  protusion.mandibular Angulo_cuelloYtercio  Subnasal_H  \\\n",
              "0                7.97                  13.0                 89.6         1.5   \n",
              "1               18.23                  -5.0                107.2         7.3   \n",
              "2               12.27                  11.5                101.4         5.0   \n",
              "3                7.81                  16.8                 75.3         2.7   \n",
              "4                9.81                  33.0                105.5         6.0   \n",
              "..                ...                   ...                  ...         ...   \n",
              "133               NaN                   NaN                  NaN         NaN   \n",
              "134               NaN                   NaN                  NaN         NaN   \n",
              "135               NaN                   NaN                  NaN         NaN   \n",
              "136               NaN                   NaN                  NaN         NaN   \n",
              "137               NaN                   NaN                  NaN         NaN   \n",
              "\n",
              "     cambio.autoconcepto  Misofonia.post  Misofonia.pre  ansiedad.dif  \n",
              "0                    1.0            21.0           14.0           0.0  \n",
              "1                    0.0            14.0           13.0           0.0  \n",
              "2                    NaN             NaN            NaN         -22.0  \n",
              "3                    1.0             NaN            NaN           4.0  \n",
              "4                    NaN             NaN            NaN          10.0  \n",
              "..                   ...             ...            ...           ...  \n",
              "133                  NaN            17.0           15.0           NaN  \n",
              "134                  NaN            21.0           12.0           NaN  \n",
              "135                  NaN            18.0           18.0           NaN  \n",
              "136                  NaN            14.0           14.0           NaN  \n",
              "137                  NaN            12.0            0.0           NaN  \n",
              "\n",
              "[138 rows x 23 columns]"
            ],
            "text/html": [
              "\n",
              "  <div id=\"df-22916275-0cdc-48a0-b32c-76f38ba399d6\">\n",
              "    <div class=\"colab-df-container\">\n",
              "      <div>\n",
              "<style scoped>\n",
              "    .dataframe tbody tr th:only-of-type {\n",
              "        vertical-align: middle;\n",
              "    }\n",
              "\n",
              "    .dataframe tbody tr th {\n",
              "        vertical-align: top;\n",
              "    }\n",
              "\n",
              "    .dataframe thead th {\n",
              "        text-align: right;\n",
              "    }\n",
              "</style>\n",
              "<table border=\"1\" class=\"dataframe\">\n",
              "  <thead>\n",
              "    <tr style=\"text-align: right;\">\n",
              "      <th></th>\n",
              "      <th>Misofonia</th>\n",
              "      <th>Misofonia.dic</th>\n",
              "      <th>Estado</th>\n",
              "      <th>Estado.dic</th>\n",
              "      <th>ansiedad.rasgo</th>\n",
              "      <th>ansiedad.rasgo.dic</th>\n",
              "      <th>ansiedad.estado</th>\n",
              "      <th>ansiedad.estado.dic</th>\n",
              "      <th>ansiedad.medicada</th>\n",
              "      <th>ansiedad.medicada.dic</th>\n",
              "      <th>...</th>\n",
              "      <th>Edad</th>\n",
              "      <th>CLASE</th>\n",
              "      <th>Angulo_convexidad</th>\n",
              "      <th>protusion.mandibular</th>\n",
              "      <th>Angulo_cuelloYtercio</th>\n",
              "      <th>Subnasal_H</th>\n",
              "      <th>cambio.autoconcepto</th>\n",
              "      <th>Misofonia.post</th>\n",
              "      <th>Misofonia.pre</th>\n",
              "      <th>ansiedad.dif</th>\n",
              "    </tr>\n",
              "  </thead>\n",
              "  <tbody>\n",
              "    <tr>\n",
              "      <th>0</th>\n",
              "      <td>si</td>\n",
              "      <td>4.0</td>\n",
              "      <td>divorciado</td>\n",
              "      <td>2.0</td>\n",
              "      <td>99.0</td>\n",
              "      <td>1.0</td>\n",
              "      <td>99.0</td>\n",
              "      <td>1.0</td>\n",
              "      <td>no</td>\n",
              "      <td>0.0</td>\n",
              "      <td>...</td>\n",
              "      <td>44.0</td>\n",
              "      <td>III</td>\n",
              "      <td>7.97</td>\n",
              "      <td>13.0</td>\n",
              "      <td>89.6</td>\n",
              "      <td>1.5</td>\n",
              "      <td>1.0</td>\n",
              "      <td>21.0</td>\n",
              "      <td>14.0</td>\n",
              "      <td>0.0</td>\n",
              "    </tr>\n",
              "    <tr>\n",
              "      <th>1</th>\n",
              "      <td>si</td>\n",
              "      <td>2.0</td>\n",
              "      <td>casado</td>\n",
              "      <td>1.0</td>\n",
              "      <td>75.0</td>\n",
              "      <td>1.0</td>\n",
              "      <td>75.0</td>\n",
              "      <td>1.0</td>\n",
              "      <td>no</td>\n",
              "      <td>0.0</td>\n",
              "      <td>...</td>\n",
              "      <td>43.0</td>\n",
              "      <td>II</td>\n",
              "      <td>18.23</td>\n",
              "      <td>-5.0</td>\n",
              "      <td>107.2</td>\n",
              "      <td>7.3</td>\n",
              "      <td>0.0</td>\n",
              "      <td>14.0</td>\n",
              "      <td>13.0</td>\n",
              "      <td>0.0</td>\n",
              "    </tr>\n",
              "    <tr>\n",
              "      <th>2</th>\n",
              "      <td>no</td>\n",
              "      <td>0.0</td>\n",
              "      <td>divorciado</td>\n",
              "      <td>2.0</td>\n",
              "      <td>77.0</td>\n",
              "      <td>1.0</td>\n",
              "      <td>55.0</td>\n",
              "      <td>0.0</td>\n",
              "      <td>no</td>\n",
              "      <td>0.0</td>\n",
              "      <td>...</td>\n",
              "      <td>24.0</td>\n",
              "      <td>I</td>\n",
              "      <td>12.27</td>\n",
              "      <td>11.5</td>\n",
              "      <td>101.4</td>\n",
              "      <td>5.0</td>\n",
              "      <td>NaN</td>\n",
              "      <td>NaN</td>\n",
              "      <td>NaN</td>\n",
              "      <td>-22.0</td>\n",
              "    </tr>\n",
              "    <tr>\n",
              "      <th>3</th>\n",
              "      <td>si</td>\n",
              "      <td>3.0</td>\n",
              "      <td>casado</td>\n",
              "      <td>1.0</td>\n",
              "      <td>95.0</td>\n",
              "      <td>1.0</td>\n",
              "      <td>99.0</td>\n",
              "      <td>1.0</td>\n",
              "      <td>no</td>\n",
              "      <td>0.0</td>\n",
              "      <td>...</td>\n",
              "      <td>33.0</td>\n",
              "      <td>III</td>\n",
              "      <td>7.81</td>\n",
              "      <td>16.8</td>\n",
              "      <td>75.3</td>\n",
              "      <td>2.7</td>\n",
              "      <td>1.0</td>\n",
              "      <td>NaN</td>\n",
              "      <td>NaN</td>\n",
              "      <td>4.0</td>\n",
              "    </tr>\n",
              "    <tr>\n",
              "      <th>4</th>\n",
              "      <td>no</td>\n",
              "      <td>0.0</td>\n",
              "      <td>casado</td>\n",
              "      <td>1.0</td>\n",
              "      <td>30.0</td>\n",
              "      <td>0.0</td>\n",
              "      <td>40.0</td>\n",
              "      <td>0.0</td>\n",
              "      <td>no</td>\n",
              "      <td>0.0</td>\n",
              "      <td>...</td>\n",
              "      <td>41.0</td>\n",
              "      <td>I</td>\n",
              "      <td>9.81</td>\n",
              "      <td>33.0</td>\n",
              "      <td>105.5</td>\n",
              "      <td>6.0</td>\n",
              "      <td>NaN</td>\n",
              "      <td>NaN</td>\n",
              "      <td>NaN</td>\n",
              "      <td>10.0</td>\n",
              "    </tr>\n",
              "    <tr>\n",
              "      <th>...</th>\n",
              "      <td>...</td>\n",
              "      <td>...</td>\n",
              "      <td>...</td>\n",
              "      <td>...</td>\n",
              "      <td>...</td>\n",
              "      <td>...</td>\n",
              "      <td>...</td>\n",
              "      <td>...</td>\n",
              "      <td>...</td>\n",
              "      <td>...</td>\n",
              "      <td>...</td>\n",
              "      <td>...</td>\n",
              "      <td>...</td>\n",
              "      <td>...</td>\n",
              "      <td>...</td>\n",
              "      <td>...</td>\n",
              "      <td>...</td>\n",
              "      <td>...</td>\n",
              "      <td>...</td>\n",
              "      <td>...</td>\n",
              "      <td>...</td>\n",
              "    </tr>\n",
              "    <tr>\n",
              "      <th>133</th>\n",
              "      <td>NaN</td>\n",
              "      <td>NaN</td>\n",
              "      <td>NaN</td>\n",
              "      <td>NaN</td>\n",
              "      <td>NaN</td>\n",
              "      <td>NaN</td>\n",
              "      <td>NaN</td>\n",
              "      <td>NaN</td>\n",
              "      <td>NaN</td>\n",
              "      <td>NaN</td>\n",
              "      <td>...</td>\n",
              "      <td>NaN</td>\n",
              "      <td>NaN</td>\n",
              "      <td>NaN</td>\n",
              "      <td>NaN</td>\n",
              "      <td>NaN</td>\n",
              "      <td>NaN</td>\n",
              "      <td>NaN</td>\n",
              "      <td>17.0</td>\n",
              "      <td>15.0</td>\n",
              "      <td>NaN</td>\n",
              "    </tr>\n",
              "    <tr>\n",
              "      <th>134</th>\n",
              "      <td>NaN</td>\n",
              "      <td>NaN</td>\n",
              "      <td>NaN</td>\n",
              "      <td>NaN</td>\n",
              "      <td>NaN</td>\n",
              "      <td>NaN</td>\n",
              "      <td>NaN</td>\n",
              "      <td>NaN</td>\n",
              "      <td>NaN</td>\n",
              "      <td>NaN</td>\n",
              "      <td>...</td>\n",
              "      <td>NaN</td>\n",
              "      <td>NaN</td>\n",
              "      <td>NaN</td>\n",
              "      <td>NaN</td>\n",
              "      <td>NaN</td>\n",
              "      <td>NaN</td>\n",
              "      <td>NaN</td>\n",
              "      <td>21.0</td>\n",
              "      <td>12.0</td>\n",
              "      <td>NaN</td>\n",
              "    </tr>\n",
              "    <tr>\n",
              "      <th>135</th>\n",
              "      <td>NaN</td>\n",
              "      <td>NaN</td>\n",
              "      <td>NaN</td>\n",
              "      <td>NaN</td>\n",
              "      <td>NaN</td>\n",
              "      <td>NaN</td>\n",
              "      <td>NaN</td>\n",
              "      <td>NaN</td>\n",
              "      <td>NaN</td>\n",
              "      <td>NaN</td>\n",
              "      <td>...</td>\n",
              "      <td>NaN</td>\n",
              "      <td>NaN</td>\n",
              "      <td>NaN</td>\n",
              "      <td>NaN</td>\n",
              "      <td>NaN</td>\n",
              "      <td>NaN</td>\n",
              "      <td>NaN</td>\n",
              "      <td>18.0</td>\n",
              "      <td>18.0</td>\n",
              "      <td>NaN</td>\n",
              "    </tr>\n",
              "    <tr>\n",
              "      <th>136</th>\n",
              "      <td>NaN</td>\n",
              "      <td>NaN</td>\n",
              "      <td>NaN</td>\n",
              "      <td>NaN</td>\n",
              "      <td>NaN</td>\n",
              "      <td>NaN</td>\n",
              "      <td>NaN</td>\n",
              "      <td>NaN</td>\n",
              "      <td>NaN</td>\n",
              "      <td>NaN</td>\n",
              "      <td>...</td>\n",
              "      <td>NaN</td>\n",
              "      <td>NaN</td>\n",
              "      <td>NaN</td>\n",
              "      <td>NaN</td>\n",
              "      <td>NaN</td>\n",
              "      <td>NaN</td>\n",
              "      <td>NaN</td>\n",
              "      <td>14.0</td>\n",
              "      <td>14.0</td>\n",
              "      <td>NaN</td>\n",
              "    </tr>\n",
              "    <tr>\n",
              "      <th>137</th>\n",
              "      <td>NaN</td>\n",
              "      <td>NaN</td>\n",
              "      <td>NaN</td>\n",
              "      <td>NaN</td>\n",
              "      <td>NaN</td>\n",
              "      <td>NaN</td>\n",
              "      <td>NaN</td>\n",
              "      <td>NaN</td>\n",
              "      <td>NaN</td>\n",
              "      <td>NaN</td>\n",
              "      <td>...</td>\n",
              "      <td>NaN</td>\n",
              "      <td>NaN</td>\n",
              "      <td>NaN</td>\n",
              "      <td>NaN</td>\n",
              "      <td>NaN</td>\n",
              "      <td>NaN</td>\n",
              "      <td>NaN</td>\n",
              "      <td>12.0</td>\n",
              "      <td>0.0</td>\n",
              "      <td>NaN</td>\n",
              "    </tr>\n",
              "  </tbody>\n",
              "</table>\n",
              "<p>138 rows × 23 columns</p>\n",
              "</div>\n",
              "      <button class=\"colab-df-convert\" onclick=\"convertToInteractive('df-22916275-0cdc-48a0-b32c-76f38ba399d6')\"\n",
              "              title=\"Convert this dataframe to an interactive table.\"\n",
              "              style=\"display:none;\">\n",
              "        \n",
              "  <svg xmlns=\"http://www.w3.org/2000/svg\" height=\"24px\"viewBox=\"0 0 24 24\"\n",
              "       width=\"24px\">\n",
              "    <path d=\"M0 0h24v24H0V0z\" fill=\"none\"/>\n",
              "    <path d=\"M18.56 5.44l.94 2.06.94-2.06 2.06-.94-2.06-.94-.94-2.06-.94 2.06-2.06.94zm-11 1L8.5 8.5l.94-2.06 2.06-.94-2.06-.94L8.5 2.5l-.94 2.06-2.06.94zm10 10l.94 2.06.94-2.06 2.06-.94-2.06-.94-.94-2.06-.94 2.06-2.06.94z\"/><path d=\"M17.41 7.96l-1.37-1.37c-.4-.4-.92-.59-1.43-.59-.52 0-1.04.2-1.43.59L10.3 9.45l-7.72 7.72c-.78.78-.78 2.05 0 2.83L4 21.41c.39.39.9.59 1.41.59.51 0 1.02-.2 1.41-.59l7.78-7.78 2.81-2.81c.8-.78.8-2.07 0-2.86zM5.41 20L4 18.59l7.72-7.72 1.47 1.35L5.41 20z\"/>\n",
              "  </svg>\n",
              "      </button>\n",
              "      \n",
              "  <style>\n",
              "    .colab-df-container {\n",
              "      display:flex;\n",
              "      flex-wrap:wrap;\n",
              "      gap: 12px;\n",
              "    }\n",
              "\n",
              "    .colab-df-convert {\n",
              "      background-color: #E8F0FE;\n",
              "      border: none;\n",
              "      border-radius: 50%;\n",
              "      cursor: pointer;\n",
              "      display: none;\n",
              "      fill: #1967D2;\n",
              "      height: 32px;\n",
              "      padding: 0 0 0 0;\n",
              "      width: 32px;\n",
              "    }\n",
              "\n",
              "    .colab-df-convert:hover {\n",
              "      background-color: #E2EBFA;\n",
              "      box-shadow: 0px 1px 2px rgba(60, 64, 67, 0.3), 0px 1px 3px 1px rgba(60, 64, 67, 0.15);\n",
              "      fill: #174EA6;\n",
              "    }\n",
              "\n",
              "    [theme=dark] .colab-df-convert {\n",
              "      background-color: #3B4455;\n",
              "      fill: #D2E3FC;\n",
              "    }\n",
              "\n",
              "    [theme=dark] .colab-df-convert:hover {\n",
              "      background-color: #434B5C;\n",
              "      box-shadow: 0px 1px 3px 1px rgba(0, 0, 0, 0.15);\n",
              "      filter: drop-shadow(0px 1px 2px rgba(0, 0, 0, 0.3));\n",
              "      fill: #FFFFFF;\n",
              "    }\n",
              "  </style>\n",
              "\n",
              "      <script>\n",
              "        const buttonEl =\n",
              "          document.querySelector('#df-22916275-0cdc-48a0-b32c-76f38ba399d6 button.colab-df-convert');\n",
              "        buttonEl.style.display =\n",
              "          google.colab.kernel.accessAllowed ? 'block' : 'none';\n",
              "\n",
              "        async function convertToInteractive(key) {\n",
              "          const element = document.querySelector('#df-22916275-0cdc-48a0-b32c-76f38ba399d6');\n",
              "          const dataTable =\n",
              "            await google.colab.kernel.invokeFunction('convertToInteractive',\n",
              "                                                     [key], {});\n",
              "          if (!dataTable) return;\n",
              "\n",
              "          const docLinkHtml = 'Like what you see? Visit the ' +\n",
              "            '<a target=\"_blank\" href=https://colab.research.google.com/notebooks/data_table.ipynb>data table notebook</a>'\n",
              "            + ' to learn more about interactive tables.';\n",
              "          element.innerHTML = '';\n",
              "          dataTable['output_type'] = 'display_data';\n",
              "          await google.colab.output.renderOutput(dataTable, element);\n",
              "          const docLink = document.createElement('div');\n",
              "          docLink.innerHTML = docLinkHtml;\n",
              "          element.appendChild(docLink);\n",
              "        }\n",
              "      </script>\n",
              "    </div>\n",
              "  </div>\n",
              "  "
            ]
          },
          "metadata": {},
          "execution_count": 1
        }
      ],
      "source": [
        "# Load package with its corresponding alias\n",
        "import pandas as pd\n",
        "\n",
        "# Reading an Excel SpreadSheet and storing it in as a DataFrame called `df`\n",
        "df = pd.read_excel('https://github.com/MMRES-PyBootcamp/MMRES-python-bootcamp2022/blob/main/datasets/misophoinia_data.xlsx?raw=true')\n",
        "\n",
        "# Return the DataFrame\n",
        "df"
      ]
    },
    {
      "cell_type": "markdown",
      "metadata": {
        "id": "DicSHOp8RwrH"
      },
      "source": [
        "## Data description\n",
        "\n",
        "Here is the description of the variables\n",
        "\n",
        "[1] “Misofonia”: Binary (si: misophinic, no: no misophinic)\n",
        "\n",
        "[2] “Misofonia.dic”: Categorical (0: no misophinic, 1: severity 1, 2: severity 2, 3: severity 3, 4: severity 4)\n",
        "\n",
        "[3] “Estado”: Marital status (casado: married, soltero: single, viuda: widow, divorciado:divorced)\n",
        "\n",
        "[4] “Estado.dic”: Numeric Marital status\n",
        "\n",
        "[5] “ansiedad.rasgo”: Score from 0-100 with anxiety personality trait\n",
        "\n",
        "[6] “ansiedad.rasgo.dic”: Binary score (0,1) of anxiety personality trait\n",
        "\n",
        "[7] “ansiedad.estado”: Score from 0-100 with current state of anxiety\n",
        "\n",
        "[8] “ansiedad.estado.dic”: Binary score (0,1) with current state of anxiety\n",
        "\n",
        "[9] “ansiedad.medicada”: Diagnosed with anxiety disorder (si, no)\n",
        "\n",
        "[10] “ansiedad.medicada.dic”: Diagnosed with anxiety disorder (1, 0)\n",
        "\n",
        "[11] “depresion”: Score from 0-50 with current state of depression\n",
        "\n",
        "[12] “depresion.dic” : Binary score (0,1) with current state of depression\n",
        "\n",
        "[13] “Sexo”: Male=H, Female:M\n",
        "\n",
        "[14] “Edad”: Age\n",
        "\n",
        "[15] “CLASE”: Type of jaw\n",
        "\n",
        "[16] “Angulo_convexidad”: convexity angle\n",
        "\n",
        "[17] “protusion.mandibular”: Projection of the jaw [18] “Angulo_cuelloYtercio”: angle between jaw and neck [19] “Subnasal_H”: Nasal angle\n",
        "\n",
        "[20] “cambio.autoconcepto”: Whether people changed their self-concept after treatment.\n",
        "\n",
        "[21] “Misofonia.post”: Misophionia diagnosed (A-MISO) after an educational program, where patients were made aware of a condition called misophonia.\n",
        "\n",
        "[22] “Misofonia.pre”: Misophionia diagnosed (A-MISO) before an educational program, where patients were made aware of a condition called misophonia\n",
        "\n",
        "[23] “ansiedad.dif”: Difference between anxiety state and anxiety trait scores\n",
        "\n",
        "<br><br>\n",
        "\n",
        "When reporting the results of a study, we first describe the variables of interest in tables and figures.\n",
        "\n",
        "We describe demographics (sex, age, marital status, etc..)\n",
        "\n",
        "We describe outcome variables (misophonia)"
      ]
    },
    {
      "cell_type": "markdown",
      "source": [
        "## 1. Correlation\n",
        "\n",
        "Are the state and trait correlated?"
      ],
      "metadata": {
        "id": "JP2ZK7Kr0YqX"
      }
    },
    {
      "cell_type": "code",
      "execution_count": 5,
      "metadata": {
        "id": "bcEtDgM3RwrI",
        "colab": {
          "base_uri": "https://localhost:8080/",
          "height": 353
        },
        "outputId": "eb979884-f5d3-47c4-931a-059e3e0c3eb6"
      },
      "outputs": [
        {
          "output_type": "stream",
          "name": "stderr",
          "text": [
            "/usr/local/lib/python3.7/dist-packages/seaborn/_decorators.py:43: FutureWarning: Pass the following variables as keyword args: x, y. From version 0.12, the only valid positional argument will be `data`, and passing other arguments without an explicit keyword will result in an error or misinterpretation.\n",
            "  FutureWarning\n"
          ]
        },
        {
          "output_type": "execute_result",
          "data": {
            "text/plain": [
              "<matplotlib.axes._subplots.AxesSubplot at 0x7f7aca2a2950>"
            ]
          },
          "metadata": {},
          "execution_count": 5
        },
        {
          "output_type": "display_data",
          "data": {
            "text/plain": [
              "<Figure size 432x288 with 1 Axes>"
            ],
            "image/png": "[encoded data removed]"
          },
          "metadata": {
            "needs_background": "light"
          }
        }
      ],
      "source": [
        "sns.scatterplot(df['ansiedad.estado'],df['ansiedad.rasgo'])"
      ]
    },
    {
      "cell_type": "code",
      "source": [
        "sns.regplot(df['ansiedad.estado'],df['ansiedad.rasgo'])"
      ],
      "metadata": {
        "colab": {
          "base_uri": "https://localhost:8080/",
          "height": 353
        },
        "id": "8kb4KL43hL7k",
        "outputId": "b1ae13b2-c1ab-4e51-fcf3-fe5a51a93170"
      },
      "execution_count": 18,
      "outputs": [
        {
          "output_type": "stream",
          "name": "stderr",
          "text": [
            "/usr/local/lib/python3.7/dist-packages/seaborn/_decorators.py:43: FutureWarning: Pass the following variables as keyword args: x, y. From version 0.12, the only valid positional argument will be `data`, and passing other arguments without an explicit keyword will result in an error or misinterpretation.\n",
            "  FutureWarning\n"
          ]
        },
        {
          "output_type": "execute_result",
          "data": {
            "text/plain": [
              "<matplotlib.axes._subplots.AxesSubplot at 0x7f7ac8fabc10>"
            ]
          },
          "metadata": {},
          "execution_count": 18
        },
        {
          "output_type": "display_data",
          "data": {
            "text/plain": [
              "<Figure size 432x288 with 1 Axes>"
            ],
            "image/png": "[encoded data removed]"
          },
          "metadata": {
            "needs_background": "light"
          }
        }
      ]
    },
    {
      "cell_type": "code",
      "source": [
        "df['ansiedad.estado'].corr(df['ansiedad.rasgo'],method='pearson')"
      ],
      "metadata": {
        "colab": {
          "base_uri": "https://localhost:8080/"
        },
        "id": "unso4LN6dNL4",
        "outputId": "92d974d9-0b22-435b-cc99-d9ccc83c6233"
      },
      "execution_count": 9,
      "outputs": [
        {
          "output_type": "execute_result",
          "data": {
            "text/plain": [
              "0.9041608592851859"
            ]
          },
          "metadata": {},
          "execution_count": 9
        }
      ]
    },
    {
      "cell_type": "code",
      "source": [
        "# what happens here?\n",
        "stats.linregress(df['ansiedad.estado'],df['ansiedad.rasgo'])"
      ],
      "metadata": {
        "colab": {
          "base_uri": "https://localhost:8080/"
        },
        "id": "K9B3bpxtgZBC",
        "outputId": "5d596780-e5db-4e6f-c11e-be40cf86586e"
      },
      "execution_count": 14,
      "outputs": [
        {
          "output_type": "execute_result",
          "data": {
            "text/plain": [
              "LinregressResult(slope=nan, intercept=nan, rvalue=nan, pvalue=nan, stderr=nan, intercept_stderr=nan)"
            ]
          },
          "metadata": {},
          "execution_count": 14
        }
      ]
    },
    {
      "cell_type": "code",
      "source": [
        "# Let's remove NA values\n",
        "mask = ~np.isnan(df['ansiedad.estado']) & ~np.isnan(df['ansiedad.rasgo'])\n",
        "stats.linregress(df[mask]['ansiedad.estado'],df[mask]['ansiedad.rasgo'])"
      ],
      "metadata": {
        "colab": {
          "base_uri": "https://localhost:8080/"
        },
        "id": "NQfqNMgfgn2a",
        "outputId": "ed0d3d27-e72a-48e1-c274-c9efc665a793"
      },
      "execution_count": 15,
      "outputs": [
        {
          "output_type": "execute_result",
          "data": {
            "text/plain": [
              "LinregressResult(slope=0.8852595363554459, intercept=8.704259427458922, rvalue=0.9041608592851861, pvalue=1.6144910361829564e-46, stderr=0.03802379838485532, intercept_stderr=2.8140075434387404)"
            ]
          },
          "metadata": {},
          "execution_count": 15
        }
      ]
    },
    {
      "cell_type": "code",
      "source": [
        "slope, intercept, r_value, pv, se = stats.linregress(df[mask]['ansiedad.estado'],df[mask]['ansiedad.rasgo'])\n",
        "sns.regplot(x=\"ansiedad.estado\", y=\"ansiedad.rasgo\", data=df[mask], \n",
        "      ci=None, label=\"y={0:.2f}x+{1:.2f}\".format(slope, intercept)).legend(loc=\"best\")"
      ],
      "metadata": {
        "colab": {
          "base_uri": "https://localhost:8080/",
          "height": 297
        },
        "id": "RSzgQQcmf73r",
        "outputId": "89e32104-a52c-49c4-a607-90f75b6fc932"
      },
      "execution_count": 17,
      "outputs": [
        {
          "output_type": "execute_result",
          "data": {
            "text/plain": [
              "<matplotlib.legend.Legend at 0x7f7ac90b3110>"
            ]
          },
          "metadata": {},
          "execution_count": 17
        },
        {
          "output_type": "display_data",
          "data": {
            "text/plain": [
              "<Figure size 432x288 with 1 Axes>"
            ],
            "image/png": "[encoded data removed]"
          },
          "metadata": {
            "needs_background": "light"
          }
        }
      ]
    },
    {
      "cell_type": "markdown",
      "source": [
        "## Student’s t-test\n",
        "We are interested in the variable misofonia.dif, that is the observed excess of anxiety from the trait (excess=state−trait)\n",
        "\n",
        "Is excess in anxiety higher than 0?"
      ],
      "metadata": {
        "id": "eoDF_0Q2h6vd"
      }
    },
    {
      "cell_type": "code",
      "source": [
        "df['excess']=df['ansiedad.estado']-df['ansiedad.rasgo']\n",
        "sns.distplot(df['excess'])\n",
        "plt.axvline(0,color='r')"
      ],
      "metadata": {
        "colab": {
          "base_uri": "https://localhost:8080/",
          "height": 353
        },
        "id": "o-8b9VQuieBm",
        "outputId": "4e57e2c7-5ac0-4357-c2dd-1b9e639ebb0b"
      },
      "execution_count": 22,
      "outputs": [
        {
          "output_type": "stream",
          "name": "stderr",
          "text": [
            "/usr/local/lib/python3.7/dist-packages/seaborn/distributions.py:2619: FutureWarning: `distplot` is a deprecated function and will be removed in a future version. Please adapt your code to use either `displot` (a figure-level function with similar flexibility) or `histplot` (an axes-level function for histograms).\n",
            "  warnings.warn(msg, FutureWarning)\n"
          ]
        },
        {
          "output_type": "execute_result",
          "data": {
            "text/plain": [
              "<matplotlib.lines.Line2D at 0x7f7ac919d350>"
            ]
          },
          "metadata": {},
          "execution_count": 22
        },
        {
          "output_type": "display_data",
          "data": {
            "text/plain": [
              "<Figure size 432x288 with 1 Axes>"
            ],
            "image/png": "[encoded data removed]"
          },
          "metadata": {
            "needs_background": "light"
          }
        }
      ]
    },
    {
      "cell_type": "code",
      "source": [
        "df['excess'].describe()"
      ],
      "metadata": {
        "colab": {
          "base_uri": "https://localhost:8080/"
        },
        "id": "OVD-MmzYjDrl",
        "outputId": "0fd0ac23-af49-4953-87ec-87f80382c372"
      },
      "execution_count": 23,
      "outputs": [
        {
          "output_type": "execute_result",
          "data": {
            "text/plain": [
              "count    123.000000\n",
              "mean      -0.918699\n",
              "std       12.866014\n",
              "min      -45.000000\n",
              "25%       -8.000000\n",
              "50%        0.000000\n",
              "75%        8.000000\n",
              "max       37.000000\n",
              "Name: excess, dtype: float64"
            ]
          },
          "metadata": {},
          "execution_count": 23
        }
      ]
    },
    {
      "cell_type": "markdown",
      "source": [
        "scipy.stats.ttest_1samp() tests if the population mean of data is likely to be equal to a given value (technically if observations are drawn from a Gaussian distributions of given population mean). It returns the T statistic, and the p-value:"
      ],
      "metadata": {
        "id": "Phwm3AfWjaG1"
      }
    },
    {
      "cell_type": "code",
      "source": [
        "res=stats.ttest_1samp(df['excess'], 0) \n",
        "print (res[0])\n",
        "\n",
        "# What's wrong?"
      ],
      "metadata": {
        "colab": {
          "base_uri": "https://localhost:8080/"
        },
        "id": "Iw_XW6owjLWl",
        "outputId": "635acec9-3809-433b-e26f-586d96e17fb5"
      },
      "execution_count": 24,
      "outputs": [
        {
          "output_type": "stream",
          "name": "stdout",
          "text": [
            "nan\n"
          ]
        }
      ]
    },
    {
      "cell_type": "code",
      "source": [
        "# let's remove missing values\n",
        "res=stats.ttest_1samp(df['excess'].dropna(), 0) \n",
        "print (res)\n"
      ],
      "metadata": {
        "colab": {
          "base_uri": "https://localhost:8080/"
        },
        "id": "_XZucKCljkfR",
        "outputId": "1d10bbaf-b189-4ad4-b9c0-810a720e85a2"
      },
      "execution_count": 26,
      "outputs": [
        {
          "output_type": "stream",
          "name": "stdout",
          "text": [
            "Ttest_1sampResult(statistic=-0.7919210074245916, pvalue=0.42994382746707327)\n"
          ]
        }
      ]
    },
    {
      "cell_type": "code",
      "source": [
        "# or let's just ignore missing values\n",
        "res=stats.ttest_1samp(df['excess'], 0,nan_policy='omit') \n",
        "print (res)"
      ],
      "metadata": {
        "colab": {
          "base_uri": "https://localhost:8080/"
        },
        "id": "DFUnmxQGjrOI",
        "outputId": "6957ed5d-1ae8-4208-ae74-369dc55caf39"
      },
      "execution_count": 27,
      "outputs": [
        {
          "output_type": "stream",
          "name": "stdout",
          "text": [
            "Ttest_1sampResult(statistic=-0.7919210074245917, pvalue=0.4299438274670726)\n"
          ]
        }
      ]
    },
    {
      "cell_type": "markdown",
      "source": [
        "We do not see significant large values of the difference in anxiety; Enrollment in the study does not seem to detect individuals with an excess of anxiety.\n",
        "\n",
        "Is excess in anxiety higher than 0 for men and women separately?\n",
        "We first describe the conditional distributions\n",
        "\n"
      ],
      "metadata": {
        "id": "M66Owht9j65b"
      }
    },
    {
      "cell_type": "code",
      "source": [
        "sns.boxplot(data=df, y='excess',x='Sexo')\n"
      ],
      "metadata": {
        "colab": {
          "base_uri": "https://localhost:8080/",
          "height": 299
        },
        "id": "nPBV2WZEj0TF",
        "outputId": "9cbd0313-b0bf-4f4a-e1fd-5b9c653c98c7"
      },
      "execution_count": 28,
      "outputs": [
        {
          "output_type": "execute_result",
          "data": {
            "text/plain": [
              "<matplotlib.axes._subplots.AxesSubplot at 0x7f7ac6010890>"
            ]
          },
          "metadata": {},
          "execution_count": 28
        },
        {
          "output_type": "display_data",
          "data": {
            "text/plain": [
              "<Figure size 432x288 with 1 Axes>"
            ],
            "image/png": "[encoded data removed]"
          },
          "metadata": {
            "needs_background": "light"
          }
        }
      ]
    },
    {
      "cell_type": "markdown",
      "source": [
        "We perform the hypothesis test for each sex separately\n"
      ],
      "metadata": {
        "id": "OZVsqkV6kPOj"
      }
    },
    {
      "cell_type": "code",
      "source": [
        "# Males\n",
        "res=stats.ttest_1samp(df[df['Sexo']=='H']['excess'], 0,nan_policy='omit') \n",
        "print (res)\n"
      ],
      "metadata": {
        "colab": {
          "base_uri": "https://localhost:8080/"
        },
        "id": "uNhfDCZVkOxu",
        "outputId": "9726b293-2ee6-4f30-b526-af0cfe9d3160"
      },
      "execution_count": 31,
      "outputs": [
        {
          "output_type": "stream",
          "name": "stdout",
          "text": [
            "Ttest_1sampResult(statistic=1.1157597994294637, pvalue=0.27058167900144414)\n"
          ]
        }
      ]
    },
    {
      "cell_type": "code",
      "source": [
        "# Females\n",
        "res=stats.ttest_1samp(df[df['Sexo']=='M']['excess'], 0,nan_policy='omit') \n",
        "print (res)"
      ],
      "metadata": {
        "colab": {
          "base_uri": "https://localhost:8080/"
        },
        "id": "lEYw693gkYyC",
        "outputId": "0a2e1d3a-24e0-4c63-f492-7f31659b715a"
      },
      "execution_count": 32,
      "outputs": [
        {
          "output_type": "stream",
          "name": "stdout",
          "text": [
            "Ttest_1sampResult(statistic=-1.69939094369864, pvalue=0.09328238337986067)\n"
          ]
        }
      ]
    },
    {
      "cell_type": "markdown",
      "source": [
        "## 2-sample t-test: testing for difference across populations"
      ],
      "metadata": {
        "id": "W14JDg5Jk3JG"
      }
    },
    {
      "cell_type": "markdown",
      "source": [
        "We see that women (M) have a reduction in the excess of anxiety (almost significant), while men (H) had an increase (no significant). Why? perhaps because females tend to consult doctors before men do.\n",
        "\n",
        "Is the excess of anxiety significantly different between the sexes?\n",
        "\n",
        "To test if this is significant, we do a 2-sample t-test with scipy.stats.ttest_ind():"
      ],
      "metadata": {
        "id": "PnKLaygzkn_z"
      }
    },
    {
      "cell_type": "code",
      "source": [
        "female_excess = df[df['Sexo']=='M']['excess']\n",
        "male_excess = df[df['Sexo']=='H']['excess']\n",
        "stats.ttest_ind(female_excess, male_excess) "
      ],
      "metadata": {
        "colab": {
          "base_uri": "https://localhost:8080/"
        },
        "id": "Qje0mHX1lUoO",
        "outputId": "01666b93-7798-4941-905f-4a72c957c240"
      },
      "execution_count": 33,
      "outputs": [
        {
          "output_type": "execute_result",
          "data": {
            "text/plain": [
              "Ttest_indResult(statistic=-1.8868246077434936, pvalue=0.06158024922060582)"
            ]
          },
          "metadata": {},
          "execution_count": 33
        }
      ]
    },
    {
      "cell_type": "markdown",
      "source": [
        "We see that the difference between the group means is within the limit of significance with women having less excess anxiety than men.\n"
      ],
      "metadata": {
        "id": "B2D_-idolll5"
      }
    },
    {
      "cell_type": "code",
      "source": [
        "sns.distplot(female_excess,hist=False,color='purple')\n",
        "sns.distplot(male_excess,hist=False,color='blue')\n"
      ],
      "metadata": {
        "colab": {
          "base_uri": "https://localhost:8080/",
          "height": 391
        },
        "id": "ajFq0ZVDlGvs",
        "outputId": "70386da6-ff27-4c2e-aab6-d7e75bab84eb"
      },
      "execution_count": 34,
      "outputs": [
        {
          "output_type": "stream",
          "name": "stderr",
          "text": [
            "/usr/local/lib/python3.7/dist-packages/seaborn/distributions.py:2619: FutureWarning: `distplot` is a deprecated function and will be removed in a future version. Please adapt your code to use either `displot` (a figure-level function with similar flexibility) or `kdeplot` (an axes-level function for kernel density plots).\n",
            "  warnings.warn(msg, FutureWarning)\n",
            "/usr/local/lib/python3.7/dist-packages/seaborn/distributions.py:2619: FutureWarning: `distplot` is a deprecated function and will be removed in a future version. Please adapt your code to use either `displot` (a figure-level function with similar flexibility) or `kdeplot` (an axes-level function for kernel density plots).\n",
            "  warnings.warn(msg, FutureWarning)\n"
          ]
        },
        {
          "output_type": "execute_result",
          "data": {
            "text/plain": [
              "<matplotlib.axes._subplots.AxesSubplot at 0x7f7ac5f4a210>"
            ]
          },
          "metadata": {},
          "execution_count": 34
        },
        {
          "output_type": "display_data",
          "data": {
            "text/plain": [
              "<Figure size 432x288 with 1 Axes>"
            ],
            "image/png": "[encoded data removed]"
          },
          "metadata": {
            "needs_background": "light"
          }
        }
      ]
    },
    {
      "cell_type": "markdown",
      "source": [
        "## Lineal model\n",
        "Given two sets of observations, sex and excess of anxiety, we want to test the hypothesis that excess of anxiety is a linear function of sex.\n",
        "\n"
      ],
      "metadata": {
        "id": "F4Qgv_TFkpkn"
      }
    },
    {
      "cell_type": "code",
      "source": [
        "from statsmodels.formula.api import ols\n",
        "model = ols(\"excess ~ Sexo\", df).fit()\n",
        "print(model.summary())"
      ],
      "metadata": {
        "colab": {
          "base_uri": "https://localhost:8080/"
        },
        "id": "ab3VB-jkmBdk",
        "outputId": "a0944d92-b648-46c3-9269-1c26ae96ff43"
      },
      "execution_count": 35,
      "outputs": [
        {
          "output_type": "stream",
          "name": "stdout",
          "text": [
            "                            OLS Regression Results                            \n",
            "==============================================================================\n",
            "Dep. Variable:                 excess   R-squared:                       0.029\n",
            "Model:                            OLS   Adj. R-squared:                  0.021\n",
            "Method:                 Least Squares   F-statistic:                     3.560\n",
            "Date:                Thu, 25 Aug 2022   Prob (F-statistic):             0.0616\n",
            "Time:                        15:22:18   Log-Likelihood:                -486.46\n",
            "No. Observations:                 123   AIC:                             976.9\n",
            "Df Residuals:                     121   BIC:                             982.5\n",
            "Df Model:                           1                                         \n",
            "Covariance Type:            nonrobust                                         \n",
            "==============================================================================\n",
            "                 coef    std err          t      P>|t|      [0.025      0.975]\n",
            "------------------------------------------------------------------------------\n",
            "Intercept      1.9333      1.898      1.019      0.310      -1.825       5.691\n",
            "Sexo[T.M]     -4.4974      2.384     -1.887      0.062      -9.216       0.222\n",
            "==============================================================================\n",
            "Omnibus:                       10.296   Durbin-Watson:                   1.893\n",
            "Prob(Omnibus):                  0.006   Jarque-Bera (JB):               17.124\n",
            "Skew:                          -0.354   Prob(JB):                     0.000191\n",
            "Kurtosis:                       4.685   Cond. No.                         3.07\n",
            "==============================================================================\n",
            "\n",
            "Notes:\n",
            "[1] Standard Errors assume that the covariance matrix of the errors is correctly specified.\n"
          ]
        }
      ]
    },
    {
      "cell_type": "markdown",
      "source": [
        "\n",
        "Is excess in anxiety higher in older people?\n"
      ],
      "metadata": {
        "id": "MDdba0KlmhcM"
      }
    },
    {
      "cell_type": "code",
      "source": [
        "sns.regplot(data=df, x='Edad', y='excess')"
      ],
      "metadata": {
        "colab": {
          "base_uri": "https://localhost:8080/",
          "height": 299
        },
        "id": "z_2BEVarm1ed",
        "outputId": "4a86bf7a-97f6-477d-ede1-d243c21d6532"
      },
      "execution_count": 37,
      "outputs": [
        {
          "output_type": "execute_result",
          "data": {
            "text/plain": [
              "<matplotlib.axes._subplots.AxesSubplot at 0x7f7ac0d027d0>"
            ]
          },
          "metadata": {},
          "execution_count": 37
        },
        {
          "output_type": "display_data",
          "data": {
            "text/plain": [
              "<Figure size 432x288 with 1 Axes>"
            ],
            "image/png": "[encoded data removed]"
          },
          "metadata": {
            "needs_background": "light"
          }
        }
      ]
    },
    {
      "cell_type": "code",
      "source": [
        "# We fit the regression model\n",
        "model = ols(\"excess ~ Edad\", df).fit()\n",
        "print(model.summary())"
      ],
      "metadata": {
        "colab": {
          "base_uri": "https://localhost:8080/"
        },
        "id": "p4hf9Op5nEhG",
        "outputId": "22c8fd85-dda8-4f89-8b32-7a42d44cbd13"
      },
      "execution_count": 38,
      "outputs": [
        {
          "output_type": "stream",
          "name": "stdout",
          "text": [
            "                            OLS Regression Results                            \n",
            "==============================================================================\n",
            "Dep. Variable:                 excess   R-squared:                       0.013\n",
            "Model:                            OLS   Adj. R-squared:                  0.005\n",
            "Method:                 Least Squares   F-statistic:                     1.615\n",
            "Date:                Thu, 25 Aug 2022   Prob (F-statistic):              0.206\n",
            "Time:                        15:26:42   Log-Likelihood:                -487.43\n",
            "No. Observations:                 123   AIC:                             978.9\n",
            "Df Residuals:                     121   BIC:                             984.5\n",
            "Df Model:                           1                                         \n",
            "Covariance Type:            nonrobust                                         \n",
            "==============================================================================\n",
            "                 coef    std err          t      P>|t|      [0.025      0.975]\n",
            "------------------------------------------------------------------------------\n",
            "Intercept     -5.4917      3.780     -1.453      0.149     -12.975       1.992\n",
            "Edad           0.1041      0.082      1.271      0.206      -0.058       0.266\n",
            "==============================================================================\n",
            "Omnibus:                       10.357   Durbin-Watson:                   1.825\n",
            "Prob(Omnibus):                  0.006   Jarque-Bera (JB):               15.348\n",
            "Skew:                          -0.411   Prob(JB):                     0.000465\n",
            "Kurtosis:                       4.523   Cond. No.                         151.\n",
            "==============================================================================\n",
            "\n",
            "Notes:\n",
            "[1] Standard Errors assume that the covariance matrix of the errors is correctly specified.\n"
          ]
        }
      ]
    },
    {
      "cell_type": "markdown",
      "source": [
        "The association, while positive it is not significant. What happens if we adjust by sex?\n",
        "\n"
      ],
      "metadata": {
        "id": "2YZy-26hnVNX"
      }
    },
    {
      "cell_type": "code",
      "source": [
        "model = ols(\"excess ~ Edad + Sexo\", df).fit()\n",
        "print(model.summary())"
      ],
      "metadata": {
        "colab": {
          "base_uri": "https://localhost:8080/"
        },
        "id": "vuql0y7Znajf",
        "outputId": "e46a416c-5a45-4981-8ce4-c846258637e1"
      },
      "execution_count": 39,
      "outputs": [
        {
          "output_type": "stream",
          "name": "stdout",
          "text": [
            "                            OLS Regression Results                            \n",
            "==============================================================================\n",
            "Dep. Variable:                 excess   R-squared:                       0.050\n",
            "Model:                            OLS   Adj. R-squared:                  0.034\n",
            "Method:                 Least Squares   F-statistic:                     3.170\n",
            "Date:                Thu, 25 Aug 2022   Prob (F-statistic):             0.0455\n",
            "Time:                        15:27:56   Log-Likelihood:                -485.08\n",
            "No. Observations:                 123   AIC:                             976.2\n",
            "Df Residuals:                     120   BIC:                             984.6\n",
            "Df Model:                           2                                         \n",
            "Covariance Type:            nonrobust                                         \n",
            "==============================================================================\n",
            "                 coef    std err          t      P>|t|      [0.025      0.975]\n",
            "------------------------------------------------------------------------------\n",
            "Intercept     -3.5718      3.828     -0.933      0.353     -11.151       4.008\n",
            "Sexo[T.M]     -5.2002      2.405     -2.163      0.033      -9.961      -0.439\n",
            "Edad           0.1354      0.082      1.652      0.101      -0.027       0.298\n",
            "==============================================================================\n",
            "Omnibus:                        8.533   Durbin-Watson:                   1.909\n",
            "Prob(Omnibus):                  0.014   Jarque-Bera (JB):               11.047\n",
            "Skew:                          -0.384   Prob(JB):                      0.00399\n",
            "Kurtosis:                       4.251   Cond. No.                         158.\n",
            "==============================================================================\n",
            "\n",
            "Notes:\n",
            "[1] Standard Errors assume that the covariance matrix of the errors is correctly specified.\n"
          ]
        }
      ]
    },
    {
      "cell_type": "markdown",
      "source": [
        "If we adjust by sex the association is a bit stronger but still not significant."
      ],
      "metadata": {
        "id": "alJYhM4Kna8A"
      }
    },
    {
      "cell_type": "code",
      "source": [
        "sns.lmplot(data=df, x='Edad', y='excess', hue='Sexo')"
      ],
      "metadata": {
        "colab": {
          "base_uri": "https://localhost:8080/",
          "height": 387
        },
        "id": "P6X9wzXDnmbN",
        "outputId": "0cc03aa2-a31c-4d6d-ca57-f3e091e235d8"
      },
      "execution_count": 42,
      "outputs": [
        {
          "output_type": "execute_result",
          "data": {
            "text/plain": [
              "<seaborn.axisgrid.FacetGrid at 0x7f7ac0c0c690>"
            ]
          },
          "metadata": {},
          "execution_count": 42
        },
        {
          "output_type": "display_data",
          "data": {
            "text/plain": [
              "<Figure size 404.625x360 with 1 Axes>"
            ],
            "image/png": "[encoded data removed]"
          },
          "metadata": {
            "needs_background": "light"
          }
        }
      ]
    },
    {
      "cell_type": "markdown",
      "source": [
        "Is excess in anxiety different between monophonic grades?\n"
      ],
      "metadata": {
        "id": "pzCqUPNgn6gR"
      }
    },
    {
      "cell_type": "code",
      "source": [
        "sns.boxplot(data=df, y='excess',x= 'Misofonia.dic')"
      ],
      "metadata": {
        "colab": {
          "base_uri": "https://localhost:8080/",
          "height": 299
        },
        "id": "Kxp6yO0on_Pk",
        "outputId": "feb063c3-3d19-43b1-ad85-af811d08baf7"
      },
      "execution_count": 43,
      "outputs": [
        {
          "output_type": "execute_result",
          "data": {
            "text/plain": [
              "<matplotlib.axes._subplots.AxesSubplot at 0x7f7ac0b7b910>"
            ]
          },
          "metadata": {},
          "execution_count": 43
        },
        {
          "output_type": "display_data",
          "data": {
            "text/plain": [
              "<Figure size 432x288 with 1 Axes>"
            ],
            "image/png": "[encoded data removed]"
          },
          "metadata": {
            "needs_background": "light"
          }
        }
      ]
    },
    {
      "cell_type": "markdown",
      "source": [
        "We test the hypothesizes H0: means excess of anxiety are equal accross misophonic categories against H1: at least one of them is different"
      ],
      "metadata": {
        "id": "p_sFcauPoOim"
      }
    },
    {
      "cell_type": "code",
      "source": [
        "model = ols(\"excess ~ Misofonia.dic\", df).fit()\n",
        "print(model.summary())"
      ],
      "metadata": {
        "colab": {
          "base_uri": "https://localhost:8080/",
          "height": 425
        },
        "id": "ORUxV3jOofIf",
        "outputId": "b510dd47-bc65-4cbc-c66b-dd49a2d01a81"
      },
      "execution_count": 47,
      "outputs": [
        {
          "output_type": "error",
          "ename": "PatsyError",
          "evalue": "ignored",
          "traceback": [
            "\u001b[0;31m---------------------------------------------------------------------------\u001b[0m",
            "\u001b[0;31mAttributeError\u001b[0m                            Traceback (most recent call last)",
            "\u001b[0;32m/usr/local/lib/python3.7/dist-packages/patsy/compat.py\u001b[0m in \u001b[0;36mcall_and_wrap_exc\u001b[0;34m(msg, origin, f, *args, **kwargs)\u001b[0m\n\u001b[1;32m     35\u001b[0m     \u001b[0;32mtry\u001b[0m\u001b[0;34m:\u001b[0m\u001b[0;34m\u001b[0m\u001b[0;34m\u001b[0m\u001b[0m\n\u001b[0;32m---> 36\u001b[0;31m         \u001b[0;32mreturn\u001b[0m \u001b[0mf\u001b[0m\u001b[0;34m(\u001b[0m\u001b[0;34m*\u001b[0m\u001b[0margs\u001b[0m\u001b[0;34m,\u001b[0m \u001b[0;34m**\u001b[0m\u001b[0mkwargs\u001b[0m\u001b[0;34m)\u001b[0m\u001b[0;34m\u001b[0m\u001b[0;34m\u001b[0m\u001b[0m\n\u001b[0m\u001b[1;32m     37\u001b[0m     \u001b[0;32mexcept\u001b[0m \u001b[0mException\u001b[0m \u001b[0;32mas\u001b[0m \u001b[0me\u001b[0m\u001b[0;34m:\u001b[0m\u001b[0;34m\u001b[0m\u001b[0;34m\u001b[0m\u001b[0m\n",
            "\u001b[0;32m/usr/local/lib/python3.7/dist-packages/patsy/eval.py\u001b[0m in \u001b[0;36meval\u001b[0;34m(self, expr, source_name, inner_namespace)\u001b[0m\n\u001b[1;32m    165\u001b[0m         return eval(code, {}, VarLookupDict([inner_namespace]\n\u001b[0;32m--> 166\u001b[0;31m                                             + self._namespaces))\n\u001b[0m\u001b[1;32m    167\u001b[0m \u001b[0;34m\u001b[0m\u001b[0m\n",
            "\u001b[0;32m<string>\u001b[0m in \u001b[0;36m<module>\u001b[0;34m\u001b[0m\n",
            "\u001b[0;32m/usr/local/lib/python3.7/dist-packages/pandas/core/generic.py\u001b[0m in \u001b[0;36m__getattr__\u001b[0;34m(self, name)\u001b[0m\n\u001b[1;32m   5486\u001b[0m             \u001b[0;32mreturn\u001b[0m \u001b[0mself\u001b[0m\u001b[0;34m[\u001b[0m\u001b[0mname\u001b[0m\u001b[0;34m]\u001b[0m\u001b[0;34m\u001b[0m\u001b[0;34m\u001b[0m\u001b[0m\n\u001b[0;32m-> 5487\u001b[0;31m         \u001b[0;32mreturn\u001b[0m \u001b[0mobject\u001b[0m\u001b[0;34m.\u001b[0m\u001b[0m__getattribute__\u001b[0m\u001b[0;34m(\u001b[0m\u001b[0mself\u001b[0m\u001b[0;34m,\u001b[0m \u001b[0mname\u001b[0m\u001b[0;34m)\u001b[0m\u001b[0;34m\u001b[0m\u001b[0;34m\u001b[0m\u001b[0m\n\u001b[0m\u001b[1;32m   5488\u001b[0m \u001b[0;34m\u001b[0m\u001b[0m\n",
            "\u001b[0;31mAttributeError\u001b[0m: 'Series' object has no attribute 'dic'",
            "\nThe above exception was the direct cause of the following exception:\n",
            "\u001b[0;31mPatsyError\u001b[0m                                Traceback (most recent call last)",
            "\u001b[0;32m<ipython-input-47-966d2d808163>\u001b[0m in \u001b[0;36m<module>\u001b[0;34m\u001b[0m\n\u001b[0;32m----> 1\u001b[0;31m \u001b[0mmodel\u001b[0m \u001b[0;34m=\u001b[0m \u001b[0mols\u001b[0m\u001b[0;34m(\u001b[0m\u001b[0;34m\"excess ~ Misofonia.dic\"\u001b[0m\u001b[0;34m,\u001b[0m \u001b[0mdf\u001b[0m\u001b[0;34m)\u001b[0m\u001b[0;34m.\u001b[0m\u001b[0mfit\u001b[0m\u001b[0;34m(\u001b[0m\u001b[0;34m)\u001b[0m\u001b[0;34m\u001b[0m\u001b[0;34m\u001b[0m\u001b[0m\n\u001b[0m\u001b[1;32m      2\u001b[0m \u001b[0mprint\u001b[0m\u001b[0;34m(\u001b[0m\u001b[0mmodel\u001b[0m\u001b[0;34m.\u001b[0m\u001b[0msummary\u001b[0m\u001b[0;34m(\u001b[0m\u001b[0;34m)\u001b[0m\u001b[0;34m)\u001b[0m\u001b[0;34m\u001b[0m\u001b[0;34m\u001b[0m\u001b[0m\n",
            "\u001b[0;32m/usr/local/lib/python3.7/dist-packages/statsmodels/base/model.py\u001b[0m in \u001b[0;36mfrom_formula\u001b[0;34m(cls, formula, data, subset, drop_cols, *args, **kwargs)\u001b[0m\n\u001b[1;32m    168\u001b[0m \u001b[0;34m\u001b[0m\u001b[0m\n\u001b[1;32m    169\u001b[0m         tmp = handle_formula_data(data, None, formula, depth=eval_env,\n\u001b[0;32m--> 170\u001b[0;31m                                   missing=missing)\n\u001b[0m\u001b[1;32m    171\u001b[0m         \u001b[0;34m(\u001b[0m\u001b[0;34m(\u001b[0m\u001b[0mendog\u001b[0m\u001b[0;34m,\u001b[0m \u001b[0mexog\u001b[0m\u001b[0;34m)\u001b[0m\u001b[0;34m,\u001b[0m \u001b[0mmissing_idx\u001b[0m\u001b[0;34m,\u001b[0m \u001b[0mdesign_info\u001b[0m\u001b[0;34m)\u001b[0m \u001b[0;34m=\u001b[0m \u001b[0mtmp\u001b[0m\u001b[0;34m\u001b[0m\u001b[0;34m\u001b[0m\u001b[0m\n\u001b[1;32m    172\u001b[0m         \u001b[0mmax_endog\u001b[0m \u001b[0;34m=\u001b[0m \u001b[0mcls\u001b[0m\u001b[0;34m.\u001b[0m\u001b[0m_formula_max_endog\u001b[0m\u001b[0;34m\u001b[0m\u001b[0;34m\u001b[0m\u001b[0m\n",
            "\u001b[0;32m/usr/local/lib/python3.7/dist-packages/statsmodels/formula/formulatools.py\u001b[0m in \u001b[0;36mhandle_formula_data\u001b[0;34m(Y, X, formula, depth, missing)\u001b[0m\n\u001b[1;32m     62\u001b[0m         \u001b[0;32mif\u001b[0m \u001b[0mdata_util\u001b[0m\u001b[0;34m.\u001b[0m\u001b[0m_is_using_pandas\u001b[0m\u001b[0;34m(\u001b[0m\u001b[0mY\u001b[0m\u001b[0;34m,\u001b[0m \u001b[0;32mNone\u001b[0m\u001b[0;34m)\u001b[0m\u001b[0;34m:\u001b[0m\u001b[0;34m\u001b[0m\u001b[0;34m\u001b[0m\u001b[0m\n\u001b[1;32m     63\u001b[0m             result = dmatrices(formula, Y, depth, return_type='dataframe',\n\u001b[0;32m---> 64\u001b[0;31m                                NA_action=na_action)\n\u001b[0m\u001b[1;32m     65\u001b[0m         \u001b[0;32melse\u001b[0m\u001b[0;34m:\u001b[0m\u001b[0;34m\u001b[0m\u001b[0;34m\u001b[0m\u001b[0m\n\u001b[1;32m     66\u001b[0m             result = dmatrices(formula, Y, depth, return_type='dataframe',\n",
            "\u001b[0;32m/usr/local/lib/python3.7/dist-packages/patsy/highlevel.py\u001b[0m in \u001b[0;36mdmatrices\u001b[0;34m(formula_like, data, eval_env, NA_action, return_type)\u001b[0m\n\u001b[1;32m    308\u001b[0m     \u001b[0meval_env\u001b[0m \u001b[0;34m=\u001b[0m \u001b[0mEvalEnvironment\u001b[0m\u001b[0;34m.\u001b[0m\u001b[0mcapture\u001b[0m\u001b[0;34m(\u001b[0m\u001b[0meval_env\u001b[0m\u001b[0;34m,\u001b[0m \u001b[0mreference\u001b[0m\u001b[0;34m=\u001b[0m\u001b[0;36m1\u001b[0m\u001b[0;34m)\u001b[0m\u001b[0;34m\u001b[0m\u001b[0;34m\u001b[0m\u001b[0m\n\u001b[1;32m    309\u001b[0m     (lhs, rhs) = _do_highlevel_design(formula_like, data, eval_env,\n\u001b[0;32m--> 310\u001b[0;31m                                       NA_action, return_type)\n\u001b[0m\u001b[1;32m    311\u001b[0m     \u001b[0;32mif\u001b[0m \u001b[0mlhs\u001b[0m\u001b[0;34m.\u001b[0m\u001b[0mshape\u001b[0m\u001b[0;34m[\u001b[0m\u001b[0;36m1\u001b[0m\u001b[0;34m]\u001b[0m \u001b[0;34m==\u001b[0m \u001b[0;36m0\u001b[0m\u001b[0;34m:\u001b[0m\u001b[0;34m\u001b[0m\u001b[0;34m\u001b[0m\u001b[0m\n\u001b[1;32m    312\u001b[0m         \u001b[0;32mraise\u001b[0m \u001b[0mPatsyError\u001b[0m\u001b[0;34m(\u001b[0m\u001b[0;34m\"model is missing required outcome variables\"\u001b[0m\u001b[0;34m)\u001b[0m\u001b[0;34m\u001b[0m\u001b[0;34m\u001b[0m\u001b[0m\n",
            "\u001b[0;32m/usr/local/lib/python3.7/dist-packages/patsy/highlevel.py\u001b[0m in \u001b[0;36m_do_highlevel_design\u001b[0;34m(formula_like, data, eval_env, NA_action, return_type)\u001b[0m\n\u001b[1;32m    163\u001b[0m         \u001b[0;32mreturn\u001b[0m \u001b[0miter\u001b[0m\u001b[0;34m(\u001b[0m\u001b[0;34m[\u001b[0m\u001b[0mdata\u001b[0m\u001b[0;34m]\u001b[0m\u001b[0;34m)\u001b[0m\u001b[0;34m\u001b[0m\u001b[0;34m\u001b[0m\u001b[0m\n\u001b[1;32m    164\u001b[0m     design_infos = _try_incr_builders(formula_like, data_iter_maker, eval_env,\n\u001b[0;32m--> 165\u001b[0;31m                                       NA_action)\n\u001b[0m\u001b[1;32m    166\u001b[0m     \u001b[0;32mif\u001b[0m \u001b[0mdesign_infos\u001b[0m \u001b[0;32mis\u001b[0m \u001b[0;32mnot\u001b[0m \u001b[0;32mNone\u001b[0m\u001b[0;34m:\u001b[0m\u001b[0;34m\u001b[0m\u001b[0;34m\u001b[0m\u001b[0m\n\u001b[1;32m    167\u001b[0m         return build_design_matrices(design_infos, data,\n",
            "\u001b[0;32m/usr/local/lib/python3.7/dist-packages/patsy/highlevel.py\u001b[0m in \u001b[0;36m_try_incr_builders\u001b[0;34m(formula_like, data_iter_maker, eval_env, NA_action)\u001b[0m\n\u001b[1;32m     68\u001b[0m                                       \u001b[0mdata_iter_maker\u001b[0m\u001b[0;34m,\u001b[0m\u001b[0;34m\u001b[0m\u001b[0;34m\u001b[0m\u001b[0m\n\u001b[1;32m     69\u001b[0m                                       \u001b[0meval_env\u001b[0m\u001b[0;34m,\u001b[0m\u001b[0;34m\u001b[0m\u001b[0;34m\u001b[0m\u001b[0m\n\u001b[0;32m---> 70\u001b[0;31m                                       NA_action)\n\u001b[0m\u001b[1;32m     71\u001b[0m     \u001b[0;32melse\u001b[0m\u001b[0;34m:\u001b[0m\u001b[0;34m\u001b[0m\u001b[0;34m\u001b[0m\u001b[0m\n\u001b[1;32m     72\u001b[0m         \u001b[0;32mreturn\u001b[0m \u001b[0;32mNone\u001b[0m\u001b[0;34m\u001b[0m\u001b[0;34m\u001b[0m\u001b[0m\n",
            "\u001b[0;32m/usr/local/lib/python3.7/dist-packages/patsy/build.py\u001b[0m in \u001b[0;36mdesign_matrix_builders\u001b[0;34m(termlists, data_iter_maker, eval_env, NA_action)\u001b[0m\n\u001b[1;32m    694\u001b[0m                                                    \u001b[0mfactor_states\u001b[0m\u001b[0;34m,\u001b[0m\u001b[0;34m\u001b[0m\u001b[0;34m\u001b[0m\u001b[0m\n\u001b[1;32m    695\u001b[0m                                                    \u001b[0mdata_iter_maker\u001b[0m\u001b[0;34m,\u001b[0m\u001b[0;34m\u001b[0m\u001b[0;34m\u001b[0m\u001b[0m\n\u001b[0;32m--> 696\u001b[0;31m                                                    NA_action)\n\u001b[0m\u001b[1;32m    697\u001b[0m     \u001b[0;31m# Now we need the factor infos, which encapsulate the knowledge of\u001b[0m\u001b[0;34m\u001b[0m\u001b[0;34m\u001b[0m\u001b[0;34m\u001b[0m\u001b[0m\n\u001b[1;32m    698\u001b[0m     \u001b[0;31m# how to turn any given factor into a chunk of data:\u001b[0m\u001b[0;34m\u001b[0m\u001b[0;34m\u001b[0m\u001b[0;34m\u001b[0m\u001b[0m\n",
            "\u001b[0;32m/usr/local/lib/python3.7/dist-packages/patsy/build.py\u001b[0m in \u001b[0;36m_examine_factor_types\u001b[0;34m(factors, factor_states, data_iter_maker, NA_action)\u001b[0m\n\u001b[1;32m    441\u001b[0m     \u001b[0;32mfor\u001b[0m \u001b[0mdata\u001b[0m \u001b[0;32min\u001b[0m \u001b[0mdata_iter_maker\u001b[0m\u001b[0;34m(\u001b[0m\u001b[0;34m)\u001b[0m\u001b[0;34m:\u001b[0m\u001b[0;34m\u001b[0m\u001b[0;34m\u001b[0m\u001b[0m\n\u001b[1;32m    442\u001b[0m         \u001b[0;32mfor\u001b[0m \u001b[0mfactor\u001b[0m \u001b[0;32min\u001b[0m \u001b[0mlist\u001b[0m\u001b[0;34m(\u001b[0m\u001b[0mexamine_needed\u001b[0m\u001b[0;34m)\u001b[0m\u001b[0;34m:\u001b[0m\u001b[0;34m\u001b[0m\u001b[0;34m\u001b[0m\u001b[0m\n\u001b[0;32m--> 443\u001b[0;31m             \u001b[0mvalue\u001b[0m \u001b[0;34m=\u001b[0m \u001b[0mfactor\u001b[0m\u001b[0;34m.\u001b[0m\u001b[0meval\u001b[0m\u001b[0;34m(\u001b[0m\u001b[0mfactor_states\u001b[0m\u001b[0;34m[\u001b[0m\u001b[0mfactor\u001b[0m\u001b[0;34m]\u001b[0m\u001b[0;34m,\u001b[0m \u001b[0mdata\u001b[0m\u001b[0;34m)\u001b[0m\u001b[0;34m\u001b[0m\u001b[0;34m\u001b[0m\u001b[0m\n\u001b[0m\u001b[1;32m    444\u001b[0m             \u001b[0;32mif\u001b[0m \u001b[0mfactor\u001b[0m \u001b[0;32min\u001b[0m \u001b[0mcat_sniffers\u001b[0m \u001b[0;32mor\u001b[0m \u001b[0mguess_categorical\u001b[0m\u001b[0;34m(\u001b[0m\u001b[0mvalue\u001b[0m\u001b[0;34m)\u001b[0m\u001b[0;34m:\u001b[0m\u001b[0;34m\u001b[0m\u001b[0;34m\u001b[0m\u001b[0m\n\u001b[1;32m    445\u001b[0m                 \u001b[0;32mif\u001b[0m \u001b[0mfactor\u001b[0m \u001b[0;32mnot\u001b[0m \u001b[0;32min\u001b[0m \u001b[0mcat_sniffers\u001b[0m\u001b[0;34m:\u001b[0m\u001b[0;34m\u001b[0m\u001b[0;34m\u001b[0m\u001b[0m\n",
            "\u001b[0;32m/usr/local/lib/python3.7/dist-packages/patsy/eval.py\u001b[0m in \u001b[0;36meval\u001b[0;34m(self, memorize_state, data)\u001b[0m\n\u001b[1;32m    564\u001b[0m         return self._eval(memorize_state[\"eval_code\"],\n\u001b[1;32m    565\u001b[0m                           \u001b[0mmemorize_state\u001b[0m\u001b[0;34m,\u001b[0m\u001b[0;34m\u001b[0m\u001b[0;34m\u001b[0m\u001b[0m\n\u001b[0;32m--> 566\u001b[0;31m                           data)\n\u001b[0m\u001b[1;32m    567\u001b[0m \u001b[0;34m\u001b[0m\u001b[0m\n\u001b[1;32m    568\u001b[0m     \u001b[0m__getstate__\u001b[0m \u001b[0;34m=\u001b[0m \u001b[0mno_pickling\u001b[0m\u001b[0;34m\u001b[0m\u001b[0;34m\u001b[0m\u001b[0m\n",
            "\u001b[0;32m/usr/local/lib/python3.7/dist-packages/patsy/eval.py\u001b[0m in \u001b[0;36m_eval\u001b[0;34m(self, code, memorize_state, data)\u001b[0m\n\u001b[1;32m    549\u001b[0m                                  \u001b[0mmemorize_state\u001b[0m\u001b[0;34m[\u001b[0m\u001b[0;34m\"eval_env\"\u001b[0m\u001b[0;34m]\u001b[0m\u001b[0;34m.\u001b[0m\u001b[0meval\u001b[0m\u001b[0;34m,\u001b[0m\u001b[0;34m\u001b[0m\u001b[0;34m\u001b[0m\u001b[0m\n\u001b[1;32m    550\u001b[0m                                  \u001b[0mcode\u001b[0m\u001b[0;34m,\u001b[0m\u001b[0;34m\u001b[0m\u001b[0;34m\u001b[0m\u001b[0m\n\u001b[0;32m--> 551\u001b[0;31m                                  inner_namespace=inner_namespace)\n\u001b[0m\u001b[1;32m    552\u001b[0m \u001b[0;34m\u001b[0m\u001b[0m\n\u001b[1;32m    553\u001b[0m     \u001b[0;32mdef\u001b[0m \u001b[0mmemorize_chunk\u001b[0m\u001b[0;34m(\u001b[0m\u001b[0mself\u001b[0m\u001b[0;34m,\u001b[0m \u001b[0mstate\u001b[0m\u001b[0;34m,\u001b[0m \u001b[0mwhich_pass\u001b[0m\u001b[0;34m,\u001b[0m \u001b[0mdata\u001b[0m\u001b[0;34m)\u001b[0m\u001b[0;34m:\u001b[0m\u001b[0;34m\u001b[0m\u001b[0;34m\u001b[0m\u001b[0m\n",
            "\u001b[0;32m/usr/local/lib/python3.7/dist-packages/patsy/compat.py\u001b[0m in \u001b[0;36mcall_and_wrap_exc\u001b[0;34m(msg, origin, f, *args, **kwargs)\u001b[0m\n\u001b[1;32m     41\u001b[0m                                  origin)\n\u001b[1;32m     42\u001b[0m             \u001b[0;31m# Use 'exec' to hide this syntax from the Python 2 parser:\u001b[0m\u001b[0;34m\u001b[0m\u001b[0;34m\u001b[0m\u001b[0;34m\u001b[0m\u001b[0m\n\u001b[0;32m---> 43\u001b[0;31m             \u001b[0mexec\u001b[0m\u001b[0;34m(\u001b[0m\u001b[0;34m\"raise new_exc from e\"\u001b[0m\u001b[0;34m)\u001b[0m\u001b[0;34m\u001b[0m\u001b[0;34m\u001b[0m\u001b[0m\n\u001b[0m\u001b[1;32m     44\u001b[0m         \u001b[0;32melse\u001b[0m\u001b[0;34m:\u001b[0m\u001b[0;34m\u001b[0m\u001b[0;34m\u001b[0m\u001b[0m\n\u001b[1;32m     45\u001b[0m             \u001b[0;31m# In python 2, we just let the original exception escape -- better\u001b[0m\u001b[0;34m\u001b[0m\u001b[0;34m\u001b[0m\u001b[0;34m\u001b[0m\u001b[0m\n",
            "\u001b[0;32m/usr/local/lib/python3.7/dist-packages/patsy/compat.py\u001b[0m in \u001b[0;36m<module>\u001b[0;34m\u001b[0m\n",
            "\u001b[0;31mPatsyError\u001b[0m: Error evaluating factor: AttributeError: 'Series' object has no attribute 'dic'\n    excess ~ Misofonia.dic\n             ^^^^^^^^^^^^^"
          ]
        }
      ]
    },
    {
      "cell_type": "code",
      "source": [
        "# what happened here!!??\n",
        "# OLS has some requirements regarding variable names... it is a bit picky...\n",
        "\n",
        "# let's rename this variable:\n",
        "df=df.rename(columns={'Misofonia.dic':'misophonic'})\n",
        "\n",
        "# or alternatively you can just create an additional column with a different name\n",
        "#df['misophonic']=df['Misophonia.dic']\n",
        "\n",
        "model = ols(\"excess ~ misophonic\", df).fit()\n",
        "print(model.summary())"
      ],
      "metadata": {
        "colab": {
          "base_uri": "https://localhost:8080/"
        },
        "id": "9-c5ZlTKoy1Q",
        "outputId": "2a390b1b-aa90-4b83-c883-9bc6bf8b24b8"
      },
      "execution_count": 55,
      "outputs": [
        {
          "output_type": "stream",
          "name": "stdout",
          "text": [
            "                            OLS Regression Results                            \n",
            "==============================================================================\n",
            "Dep. Variable:                 excess   R-squared:                       0.041\n",
            "Model:                            OLS   Adj. R-squared:                  0.033\n",
            "Method:                 Least Squares   F-statistic:                     5.177\n",
            "Date:                Thu, 25 Aug 2022   Prob (F-statistic):             0.0246\n",
            "Time:                        16:08:22   Log-Likelihood:                -485.67\n",
            "No. Observations:                 123   AIC:                             975.3\n",
            "Df Residuals:                     121   BIC:                             981.0\n",
            "Df Model:                           1                                         \n",
            "Covariance Type:            nonrobust                                         \n",
            "==============================================================================\n",
            "                 coef    std err          t      P>|t|      [0.025      0.975]\n",
            "------------------------------------------------------------------------------\n",
            "Intercept     -4.1694      1.828     -2.281      0.024      -7.789      -0.550\n",
            "misophonic     1.9223      0.845      2.275      0.025       0.250       3.595\n",
            "==============================================================================\n",
            "Omnibus:                        7.917   Durbin-Watson:                   1.869\n",
            "Prob(Omnibus):                  0.019   Jarque-Bera (JB):               14.747\n",
            "Skew:                          -0.130   Prob(JB):                     0.000628\n",
            "Kurtosis:                       4.676   Cond. No.                         3.96\n",
            "==============================================================================\n",
            "\n",
            "Notes:\n",
            "[1] Standard Errors assume that the covariance matrix of the errors is correctly specified.\n"
          ]
        }
      ]
    },
    {
      "cell_type": "markdown",
      "source": [
        "Notice that misophonic variable was treated as a quantitative trait and not as a categorical factor"
      ],
      "metadata": {
        "id": "hbQMLaOmwG8A"
      }
    },
    {
      "cell_type": "code",
      "source": [
        "df['misophonic']=df['misophonic'].astype('category')\n",
        "model = ols(\"excess ~ misophonic\", df).fit()\n",
        "print(model.summary())"
      ],
      "metadata": {
        "colab": {
          "base_uri": "https://localhost:8080/"
        },
        "id": "3MYq0_XrwCY7",
        "outputId": "bd3d8fb8-9f56-4da1-a5bf-18d8164775a2"
      },
      "execution_count": 58,
      "outputs": [
        {
          "output_type": "stream",
          "name": "stdout",
          "text": [
            "                            OLS Regression Results                            \n",
            "==============================================================================\n",
            "Dep. Variable:                 excess   R-squared:                       0.095\n",
            "Model:                            OLS   Adj. R-squared:                  0.064\n",
            "Method:                 Least Squares   F-statistic:                     3.090\n",
            "Date:                Thu, 25 Aug 2022   Prob (F-statistic):             0.0185\n",
            "Time:                        16:08:52   Log-Likelihood:                -482.11\n",
            "No. Observations:                 123   AIC:                             974.2\n",
            "Df Residuals:                     118   BIC:                             988.3\n",
            "Df Model:                           4                                         \n",
            "Covariance Type:            nonrobust                                         \n",
            "=====================================================================================\n",
            "                        coef    std err          t      P>|t|      [0.025      0.975]\n",
            "-------------------------------------------------------------------------------------\n",
            "Intercept            -5.0976      1.944     -2.622      0.010      -8.947      -1.248\n",
            "misophonic[T.1.0]    17.0976      5.896      2.900      0.004       5.422      28.773\n",
            "misophonic[T.2.0]     3.8543      2.822      1.366      0.175      -1.735       9.443\n",
            "misophonic[T.3.0]     6.9040      2.962      2.331      0.021       1.038      12.770\n",
            "misophonic[T.4.0]     7.9864      4.582      1.743      0.084      -1.086      17.059\n",
            "==============================================================================\n",
            "Omnibus:                        7.729   Durbin-Watson:                   1.983\n",
            "Prob(Omnibus):                  0.021   Jarque-Bera (JB):               11.430\n",
            "Skew:                          -0.274   Prob(JB):                      0.00330\n",
            "Kurtosis:                       4.389   Cond. No.                         6.00\n",
            "==============================================================================\n",
            "\n",
            "Notes:\n",
            "[1] Standard Errors assume that the covariance matrix of the errors is correctly specified.\n"
          ]
        }
      ]
    },
    {
      "cell_type": "code",
      "source": [
        "from statsmodels.stats import anova\n",
        "anova.anova_lm(model)"
      ],
      "metadata": {
        "colab": {
          "base_uri": "https://localhost:8080/",
          "height": 112
        },
        "id": "SWz7hFBFoqHi",
        "outputId": "89b6cfc9-127f-45d6-9915-4b18f70ad1da"
      },
      "execution_count": 64,
      "outputs": [
        {
          "output_type": "execute_result",
          "data": {
            "text/plain": [
              "               df        sum_sq     mean_sq         F    PR(>F)\n",
              "misophonic    4.0   1915.038826  478.759707  3.090437  0.018466\n",
              "Residual    118.0  18280.148165  154.916510       NaN       NaN"
            ],
            "text/html": [
              "\n",
              "  <div id=\"df-50d65205-48b7-428e-8e48-a7972ca6a6cb\">\n",
              "    <div class=\"colab-df-container\">\n",
              "      <div>\n",
              "<style scoped>\n",
              "    .dataframe tbody tr th:only-of-type {\n",
              "        vertical-align: middle;\n",
              "    }\n",
              "\n",
              "    .dataframe tbody tr th {\n",
              "        vertical-align: top;\n",
              "    }\n",
              "\n",
              "    .dataframe thead th {\n",
              "        text-align: right;\n",
              "    }\n",
              "</style>\n",
              "<table border=\"1\" class=\"dataframe\">\n",
              "  <thead>\n",
              "    <tr style=\"text-align: right;\">\n",
              "      <th></th>\n",
              "      <th>df</th>\n",
              "      <th>sum_sq</th>\n",
              "      <th>mean_sq</th>\n",
              "      <th>F</th>\n",
              "      <th>PR(&gt;F)</th>\n",
              "    </tr>\n",
              "  </thead>\n",
              "  <tbody>\n",
              "    <tr>\n",
              "      <th>misophonic</th>\n",
              "      <td>4.0</td>\n",
              "      <td>1915.038826</td>\n",
              "      <td>478.759707</td>\n",
              "      <td>3.090437</td>\n",
              "      <td>0.018466</td>\n",
              "    </tr>\n",
              "    <tr>\n",
              "      <th>Residual</th>\n",
              "      <td>118.0</td>\n",
              "      <td>18280.148165</td>\n",
              "      <td>154.916510</td>\n",
              "      <td>NaN</td>\n",
              "      <td>NaN</td>\n",
              "    </tr>\n",
              "  </tbody>\n",
              "</table>\n",
              "</div>\n",
              "      <button class=\"colab-df-convert\" onclick=\"convertToInteractive('df-50d65205-48b7-428e-8e48-a7972ca6a6cb')\"\n",
              "              title=\"Convert this dataframe to an interactive table.\"\n",
              "              style=\"display:none;\">\n",
              "        \n",
              "  <svg xmlns=\"http://www.w3.org/2000/svg\" height=\"24px\"viewBox=\"0 0 24 24\"\n",
              "       width=\"24px\">\n",
              "    <path d=\"M0 0h24v24H0V0z\" fill=\"none\"/>\n",
              "    <path d=\"M18.56 5.44l.94 2.06.94-2.06 2.06-.94-2.06-.94-.94-2.06-.94 2.06-2.06.94zm-11 1L8.5 8.5l.94-2.06 2.06-.94-2.06-.94L8.5 2.5l-.94 2.06-2.06.94zm10 10l.94 2.06.94-2.06 2.06-.94-2.06-.94-.94-2.06-.94 2.06-2.06.94z\"/><path d=\"M17.41 7.96l-1.37-1.37c-.4-.4-.92-.59-1.43-.59-.52 0-1.04.2-1.43.59L10.3 9.45l-7.72 7.72c-.78.78-.78 2.05 0 2.83L4 21.41c.39.39.9.59 1.41.59.51 0 1.02-.2 1.41-.59l7.78-7.78 2.81-2.81c.8-.78.8-2.07 0-2.86zM5.41 20L4 18.59l7.72-7.72 1.47 1.35L5.41 20z\"/>\n",
              "  </svg>\n",
              "      </button>\n",
              "      \n",
              "  <style>\n",
              "    .colab-df-container {\n",
              "      display:flex;\n",
              "      flex-wrap:wrap;\n",
              "      gap: 12px;\n",
              "    }\n",
              "\n",
              "    .colab-df-convert {\n",
              "      background-color: #E8F0FE;\n",
              "      border: none;\n",
              "      border-radius: 50%;\n",
              "      cursor: pointer;\n",
              "      display: none;\n",
              "      fill: #1967D2;\n",
              "      height: 32px;\n",
              "      padding: 0 0 0 0;\n",
              "      width: 32px;\n",
              "    }\n",
              "\n",
              "    .colab-df-convert:hover {\n",
              "      background-color: #E2EBFA;\n",
              "      box-shadow: 0px 1px 2px rgba(60, 64, 67, 0.3), 0px 1px 3px 1px rgba(60, 64, 67, 0.15);\n",
              "      fill: #174EA6;\n",
              "    }\n",
              "\n",
              "    [theme=dark] .colab-df-convert {\n",
              "      background-color: #3B4455;\n",
              "      fill: #D2E3FC;\n",
              "    }\n",
              "\n",
              "    [theme=dark] .colab-df-convert:hover {\n",
              "      background-color: #434B5C;\n",
              "      box-shadow: 0px 1px 3px 1px rgba(0, 0, 0, 0.15);\n",
              "      filter: drop-shadow(0px 1px 2px rgba(0, 0, 0, 0.3));\n",
              "      fill: #FFFFFF;\n",
              "    }\n",
              "  </style>\n",
              "\n",
              "      <script>\n",
              "        const buttonEl =\n",
              "          document.querySelector('#df-50d65205-48b7-428e-8e48-a7972ca6a6cb button.colab-df-convert');\n",
              "        buttonEl.style.display =\n",
              "          google.colab.kernel.accessAllowed ? 'block' : 'none';\n",
              "\n",
              "        async function convertToInteractive(key) {\n",
              "          const element = document.querySelector('#df-50d65205-48b7-428e-8e48-a7972ca6a6cb');\n",
              "          const dataTable =\n",
              "            await google.colab.kernel.invokeFunction('convertToInteractive',\n",
              "                                                     [key], {});\n",
              "          if (!dataTable) return;\n",
              "\n",
              "          const docLinkHtml = 'Like what you see? Visit the ' +\n",
              "            '<a target=\"_blank\" href=https://colab.research.google.com/notebooks/data_table.ipynb>data table notebook</a>'\n",
              "            + ' to learn more about interactive tables.';\n",
              "          element.innerHTML = '';\n",
              "          dataTable['output_type'] = 'display_data';\n",
              "          await google.colab.output.renderOutput(dataTable, element);\n",
              "          const docLink = document.createElement('div');\n",
              "          docLink.innerHTML = docLinkHtml;\n",
              "          element.appendChild(docLink);\n",
              "        }\n",
              "      </script>\n",
              "    </div>\n",
              "  </div>\n",
              "  "
            ]
          },
          "metadata": {},
          "execution_count": 64
        }
      ]
    },
    {
      "cell_type": "markdown",
      "source": [
        "We see that anxiety excess of misophonia grade 1 is significantly higher than misophonia grade 0 (no misophonia), as it is grade 3. The ANOVA table shows that we accept the alternative hypothesis, where the differences between groups are significantly higher than within groups.\n",
        "\n",
        "Are the differences in excess in anxiety between monophonic grades modulated by sex?\n"
      ],
      "metadata": {
        "id": "b1J-GrVYxPm_"
      }
    },
    {
      "cell_type": "code",
      "source": [
        "sns.boxplot(data=df, y='excess',x='misophonic',hue='Sexo')\n",
        "#boxplot(excess ~ misophonic, subset = which(sex==\"H\"))"
      ],
      "metadata": {
        "colab": {
          "base_uri": "https://localhost:8080/",
          "height": 299
        },
        "id": "Q9sHChIbxPLN",
        "outputId": "b337806c-a9a0-4909-8661-1f9e8e89b5b6"
      },
      "execution_count": 67,
      "outputs": [
        {
          "output_type": "execute_result",
          "data": {
            "text/plain": [
              "<matplotlib.axes._subplots.AxesSubplot at 0x7f7abec817d0>"
            ]
          },
          "metadata": {},
          "execution_count": 67
        },
        {
          "output_type": "display_data",
          "data": {
            "text/plain": [
              "<Figure size 432x288 with 1 Axes>"
            ],
            "image/png": "[encoded data removed]"
          },
          "metadata": {
            "needs_background": "light"
          }
        }
      ]
    },
    {
      "cell_type": "code",
      "source": [
        "model = ols(\"excess ~ misophonic * Sexo\", df).fit()\n",
        "print(model.summary())\n",
        "#anova(mod)"
      ],
      "metadata": {
        "colab": {
          "base_uri": "https://localhost:8080/"
        },
        "id": "MXxnZFwa3qz0",
        "outputId": "ca5fed02-eb6f-4e7d-c55a-7ea5a54420cf"
      },
      "execution_count": 68,
      "outputs": [
        {
          "output_type": "stream",
          "name": "stdout",
          "text": [
            "                            OLS Regression Results                            \n",
            "==============================================================================\n",
            "Dep. Variable:                 excess   R-squared:                       0.118\n",
            "Model:                            OLS   Adj. R-squared:                  0.048\n",
            "Method:                 Least Squares   F-statistic:                     1.677\n",
            "Date:                Thu, 25 Aug 2022   Prob (F-statistic):              0.103\n",
            "Time:                        16:39:10   Log-Likelihood:                -480.53\n",
            "No. Observations:                 123   AIC:                             981.1\n",
            "Df Residuals:                     113   BIC:                             1009.\n",
            "Df Model:                           9                                         \n",
            "Covariance Type:            nonrobust                                         \n",
            "===============================================================================================\n",
            "                                  coef    std err          t      P>|t|      [0.025      0.975]\n",
            "-----------------------------------------------------------------------------------------------\n",
            "Intercept                      -2.5455      3.786     -0.672      0.503     -10.046       4.955\n",
            "misophonic[T.1.0]              17.5455      7.331      2.393      0.018       3.021      32.070\n",
            "misophonic[T.2.0]               2.4455      5.486      0.446      0.657      -8.424      13.315\n",
            "misophonic[T.3.0]               4.2513      4.859      0.875      0.383      -5.375      13.877\n",
            "misophonic[T.4.0]              11.5455      8.178      1.412      0.161      -4.658      27.748\n",
            "Sexo[T.M]                      -3.4879      4.426     -0.788      0.432     -12.256       5.281\n",
            "misophonic[T.1.0]:Sexo[T.M]   -11.5121     14.720     -0.782      0.436     -40.674      17.650\n",
            "misophonic[T.2.0]:Sexo[T.M]     1.9212      6.418      0.299      0.765     -10.795      14.637\n",
            "misophonic[T.3.0]:Sexo[T.M]     3.7106      6.334      0.586      0.559      -8.839      16.260\n",
            "misophonic[T.4.0]:Sexo[T.M]    -5.6788      9.921     -0.572      0.568     -25.333      13.976\n",
            "==============================================================================\n",
            "Omnibus:                        7.919   Durbin-Watson:                   1.983\n",
            "Prob(Omnibus):                  0.019   Jarque-Bera (JB):               12.806\n",
            "Skew:                          -0.235   Prob(JB):                      0.00166\n",
            "Kurtosis:                       4.509   Cond. No.                         19.2\n",
            "==============================================================================\n",
            "\n",
            "Notes:\n",
            "[1] Standard Errors assume that the covariance matrix of the errors is correctly specified.\n"
          ]
        }
      ]
    },
    {
      "cell_type": "code",
      "source": [
        "anova.anova_lm(model)"
      ],
      "metadata": {
        "colab": {
          "base_uri": "https://localhost:8080/",
          "height": 175
        },
        "id": "0b-J8SIl4ANx",
        "outputId": "ff66568d-9dca-48fd-baba-1b90af0869a2"
      },
      "execution_count": 69,
      "outputs": [
        {
          "output_type": "execute_result",
          "data": {
            "text/plain": [
              "                    df        sum_sq     mean_sq         F    PR(>F)\n",
              "misophonic         4.0   1915.038826  478.759707  3.036607  0.020259\n",
              "Sexo               1.0    179.743120  179.743120  1.140048  0.287918\n",
              "misophonic:Sexo    4.0    284.519790   71.129947  0.451153  0.771365\n",
              "Residual         113.0  17815.885256  157.662701       NaN       NaN"
            ],
            "text/html": [
              "\n",
              "  <div id=\"df-7ceaec48-fc65-4b1b-a9e7-7284f45b7596\">\n",
              "    <div class=\"colab-df-container\">\n",
              "      <div>\n",
              "<style scoped>\n",
              "    .dataframe tbody tr th:only-of-type {\n",
              "        vertical-align: middle;\n",
              "    }\n",
              "\n",
              "    .dataframe tbody tr th {\n",
              "        vertical-align: top;\n",
              "    }\n",
              "\n",
              "    .dataframe thead th {\n",
              "        text-align: right;\n",
              "    }\n",
              "</style>\n",
              "<table border=\"1\" class=\"dataframe\">\n",
              "  <thead>\n",
              "    <tr style=\"text-align: right;\">\n",
              "      <th></th>\n",
              "      <th>df</th>\n",
              "      <th>sum_sq</th>\n",
              "      <th>mean_sq</th>\n",
              "      <th>F</th>\n",
              "      <th>PR(&gt;F)</th>\n",
              "    </tr>\n",
              "  </thead>\n",
              "  <tbody>\n",
              "    <tr>\n",
              "      <th>misophonic</th>\n",
              "      <td>4.0</td>\n",
              "      <td>1915.038826</td>\n",
              "      <td>478.759707</td>\n",
              "      <td>3.036607</td>\n",
              "      <td>0.020259</td>\n",
              "    </tr>\n",
              "    <tr>\n",
              "      <th>Sexo</th>\n",
              "      <td>1.0</td>\n",
              "      <td>179.743120</td>\n",
              "      <td>179.743120</td>\n",
              "      <td>1.140048</td>\n",
              "      <td>0.287918</td>\n",
              "    </tr>\n",
              "    <tr>\n",
              "      <th>misophonic:Sexo</th>\n",
              "      <td>4.0</td>\n",
              "      <td>284.519790</td>\n",
              "      <td>71.129947</td>\n",
              "      <td>0.451153</td>\n",
              "      <td>0.771365</td>\n",
              "    </tr>\n",
              "    <tr>\n",
              "      <th>Residual</th>\n",
              "      <td>113.0</td>\n",
              "      <td>17815.885256</td>\n",
              "      <td>157.662701</td>\n",
              "      <td>NaN</td>\n",
              "      <td>NaN</td>\n",
              "    </tr>\n",
              "  </tbody>\n",
              "</table>\n",
              "</div>\n",
              "      <button class=\"colab-df-convert\" onclick=\"convertToInteractive('df-7ceaec48-fc65-4b1b-a9e7-7284f45b7596')\"\n",
              "              title=\"Convert this dataframe to an interactive table.\"\n",
              "              style=\"display:none;\">\n",
              "        \n",
              "  <svg xmlns=\"http://www.w3.org/2000/svg\" height=\"24px\"viewBox=\"0 0 24 24\"\n",
              "       width=\"24px\">\n",
              "    <path d=\"M0 0h24v24H0V0z\" fill=\"none\"/>\n",
              "    <path d=\"M18.56 5.44l.94 2.06.94-2.06 2.06-.94-2.06-.94-.94-2.06-.94 2.06-2.06.94zm-11 1L8.5 8.5l.94-2.06 2.06-.94-2.06-.94L8.5 2.5l-.94 2.06-2.06.94zm10 10l.94 2.06.94-2.06 2.06-.94-2.06-.94-.94-2.06-.94 2.06-2.06.94z\"/><path d=\"M17.41 7.96l-1.37-1.37c-.4-.4-.92-.59-1.43-.59-.52 0-1.04.2-1.43.59L10.3 9.45l-7.72 7.72c-.78.78-.78 2.05 0 2.83L4 21.41c.39.39.9.59 1.41.59.51 0 1.02-.2 1.41-.59l7.78-7.78 2.81-2.81c.8-.78.8-2.07 0-2.86zM5.41 20L4 18.59l7.72-7.72 1.47 1.35L5.41 20z\"/>\n",
              "  </svg>\n",
              "      </button>\n",
              "      \n",
              "  <style>\n",
              "    .colab-df-container {\n",
              "      display:flex;\n",
              "      flex-wrap:wrap;\n",
              "      gap: 12px;\n",
              "    }\n",
              "\n",
              "    .colab-df-convert {\n",
              "      background-color: #E8F0FE;\n",
              "      border: none;\n",
              "      border-radius: 50%;\n",
              "      cursor: pointer;\n",
              "      display: none;\n",
              "      fill: #1967D2;\n",
              "      height: 32px;\n",
              "      padding: 0 0 0 0;\n",
              "      width: 32px;\n",
              "    }\n",
              "\n",
              "    .colab-df-convert:hover {\n",
              "      background-color: #E2EBFA;\n",
              "      box-shadow: 0px 1px 2px rgba(60, 64, 67, 0.3), 0px 1px 3px 1px rgba(60, 64, 67, 0.15);\n",
              "      fill: #174EA6;\n",
              "    }\n",
              "\n",
              "    [theme=dark] .colab-df-convert {\n",
              "      background-color: #3B4455;\n",
              "      fill: #D2E3FC;\n",
              "    }\n",
              "\n",
              "    [theme=dark] .colab-df-convert:hover {\n",
              "      background-color: #434B5C;\n",
              "      box-shadow: 0px 1px 3px 1px rgba(0, 0, 0, 0.15);\n",
              "      filter: drop-shadow(0px 1px 2px rgba(0, 0, 0, 0.3));\n",
              "      fill: #FFFFFF;\n",
              "    }\n",
              "  </style>\n",
              "\n",
              "      <script>\n",
              "        const buttonEl =\n",
              "          document.querySelector('#df-7ceaec48-fc65-4b1b-a9e7-7284f45b7596 button.colab-df-convert');\n",
              "        buttonEl.style.display =\n",
              "          google.colab.kernel.accessAllowed ? 'block' : 'none';\n",
              "\n",
              "        async function convertToInteractive(key) {\n",
              "          const element = document.querySelector('#df-7ceaec48-fc65-4b1b-a9e7-7284f45b7596');\n",
              "          const dataTable =\n",
              "            await google.colab.kernel.invokeFunction('convertToInteractive',\n",
              "                                                     [key], {});\n",
              "          if (!dataTable) return;\n",
              "\n",
              "          const docLinkHtml = 'Like what you see? Visit the ' +\n",
              "            '<a target=\"_blank\" href=https://colab.research.google.com/notebooks/data_table.ipynb>data table notebook</a>'\n",
              "            + ' to learn more about interactive tables.';\n",
              "          element.innerHTML = '';\n",
              "          dataTable['output_type'] = 'display_data';\n",
              "          await google.colab.output.renderOutput(dataTable, element);\n",
              "          const docLink = document.createElement('div');\n",
              "          docLink.innerHTML = docLinkHtml;\n",
              "          element.appendChild(docLink);\n",
              "        }\n",
              "      </script>\n",
              "    </div>\n",
              "  </div>\n",
              "  "
            ]
          },
          "metadata": {},
          "execution_count": 69
        }
      ]
    },
    {
      "cell_type": "markdown",
      "source": [
        "We do not see a significant interaction (modulation) of the effect of sex on the group differences.\n",
        "\n",
        "We cannot say that the profiles of anxiety excess across misophonia grades are different between sexes."
      ],
      "metadata": {
        "id": "Spt9oHON4HDV"
      }
    }
  ],
  "metadata": {
    "colab": {
      "name": "11_misophonia_II.ipynb",
      "provenance": [],
      "collapsed_sections": [],
      "toc_visible": true,
      "include_colab_link": true
    },
    "kernelspec": {
      "display_name": "Python 3 (ipykernel)",
      "language": "python",
      "name": "python3"
    },
    "language_info": {
      "codemirror_mode": {
        "name": "ipython",
        "version": 3
      },
      "file_extension": ".py",
      "mimetype": "text/x-python",
      "name": "python",
      "nbconvert_exporter": "python",
      "pygments_lexer": "ipython3",
      "version": "3.8.8"
    }
  },
  "nbformat": 4,
  "nbformat_minor": 0
}