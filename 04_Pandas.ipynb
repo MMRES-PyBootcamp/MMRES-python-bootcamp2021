{
  "nbformat": 4,
  "nbformat_minor": 0,
  "metadata": {
    "kernelspec": {
      "display_name": "Python 3",
      "language": "python",
      "name": "python3"
    },
    "colab": {
      "name": "04_Pandas.ipynb",
      "provenance": [],
      "include_colab_link": true
    }
  },
  "cells": [
    {
      "cell_type": "markdown",
      "metadata": {
        "id": "view-in-github",
        "colab_type": "text"
      },
      "source": [
        "<a href=\"https://colab.research.google.com/github/MMRES-PyBootcamp/MMRES-python-bootcamp2021/blob/master/04_Pandas.ipynb\" target=\"_parent\"><img src=\"https://colab.research.google.com/assets/colab-badge.svg\" alt=\"Open In Colab\"/></a>"
      ]
    },
    {
      "cell_type": "markdown",
      "metadata": {
        "id": "jd6Y3hlZwe_y"
      },
      "source": [
        "# 4 Pandas\n",
        "\n",
        "When dealing with numeric matrices and vectors in Python, NumPy makes life a lot easier. However, those used to work with dedicated languages like [R](https://www.r-project.org/), doing data analysis directly with NumPy feels like a step back. Fortunately, some nice folks have written the Python Data Analysis Library (a.k.a. [Pandas](http://pandas.pydata.org/)). Pandas provides an R-like DataFrame, produces high quality plots with matplotlib, and integrates nicely with other libraries that expect NumPy arrays.\n",
        "\n",
        "Pandas works with `Series` of data, that then are arranged in `DataFrame` objects. A dataframe is the object closest to an Excel spreadsheet that we will see throughout the course. Dataframes, though, given that they are integrated in Python and can be combined with so many different packages, are much more powerful than simple Excel spreadsheets. The data in the series can be either qualitative or quantitative data and creating a series is as easy as creating a NumPy array from a one-dimensional list."
      ]
    },
    {
      "cell_type": "code",
      "metadata": {
        "id": "qECGYMhFwe_0"
      },
      "source": [
        "import numpy as np\n",
        "import pandas as pd\n",
        "print('Pandas:', pd.__version__)"
      ],
      "execution_count": null,
      "outputs": []
    },
    {
      "cell_type": "code",
      "metadata": {
        "id": "2dRXlNyzwe_1"
      },
      "source": [
        "animals = ['Tiger', 'Bear', 'Moose']\n",
        "pd.Series(animals)"
      ],
      "execution_count": null,
      "outputs": []
    },
    {
      "cell_type": "code",
      "metadata": {
        "id": "dW0u1aYnwe_1"
      },
      "source": [
        "numbers = [1, 2, 3]\n",
        "pd.Series(numbers)"
      ],
      "execution_count": null,
      "outputs": []
    },
    {
      "cell_type": "markdown",
      "metadata": {
        "id": "KKZxbs6swe_2"
      },
      "source": [
        "Notice that the series is indexed by default by integers. We can change this indexing by using a dictionary instead of a list to create the series."
      ]
    },
    {
      "cell_type": "code",
      "metadata": {
        "id": "DfQllZnnwe_2"
      },
      "source": [
        "sports = {'Archery': 'Bhutan',\n",
        "          'Golf': 'Scotland',\n",
        "          'Sumo': 'Japan',\n",
        "          'Taekwondo': 'South Korea'}\n",
        "s = pd.Series(sports)\n",
        "s"
      ],
      "execution_count": null,
      "outputs": []
    },
    {
      "cell_type": "markdown",
      "metadata": {
        "id": "FMoMhXjdwe_3"
      },
      "source": [
        "On the other hand, dataframes can be built from two-dimensional arrays, with the ability of labelling columns and indexing the rows. **Every column in a dataframe is a series**. "
      ]
    },
    {
      "cell_type": "code",
      "metadata": {
        "id": "cH2espiFwe_3"
      },
      "source": [
        "# Sampling a 1000 rows 6 cols 2D array from the standard normal distribution and creating DataFrame\n",
        "u = pd.DataFrame(np.random.randn(1000, 6),\n",
        "                 index=np.arange(0, 3000, 3),\n",
        "                 columns=['A', 'B', 'C', 'D', 'E', 'F'])\n",
        "\n",
        "print(type(u))\n",
        "\n",
        "u"
      ],
      "execution_count": null,
      "outputs": []
    },
    {
      "cell_type": "markdown",
      "metadata": {
        "id": "JOr-n8Lbwe_4"
      },
      "source": [
        "As you might have noticed, it is not the best to look at massive dataframes. There are some functions that allow us to have a nicer look at parts of the dataframe to have an idea of \"how things are going\"."
      ]
    },
    {
      "cell_type": "code",
      "metadata": {
        "id": "QszUh5dVwe_4"
      },
      "source": [
        "u.head()"
      ],
      "execution_count": null,
      "outputs": []
    },
    {
      "cell_type": "code",
      "metadata": {
        "id": "kSgZlKyzwe_5"
      },
      "source": [
        "u.tail()"
      ],
      "execution_count": null,
      "outputs": []
    },
    {
      "cell_type": "code",
      "metadata": {
        "id": "GLfIvV_Awe_5"
      },
      "source": [
        "u.info()"
      ],
      "execution_count": null,
      "outputs": []
    },
    {
      "cell_type": "code",
      "metadata": {
        "id": "c-peS5fHwe_5"
      },
      "source": [
        "u.describe()"
      ],
      "execution_count": null,
      "outputs": []
    },
    {
      "cell_type": "markdown",
      "metadata": {
        "id": "hkB-VPofwe_6"
      },
      "source": [
        "### Indexing/Slicing in Pandas\n",
        "\n",
        "The easiest way to access information in a Pandas dataframe, equivalent to the way used in NumPy, is using the `iloc` command. With `iloc` we can use the same indexing techniques that we saw with NumPy in the previous notebook."
      ]
    },
    {
      "cell_type": "code",
      "metadata": {
        "id": "f__CcBkTwe_6"
      },
      "source": [
        "# Slice-in rows index 125 to 132 (132 included!) from columns index 0, 2 and 5\n",
        "u.iloc[125:132, [0, 2, 5]]"
      ],
      "execution_count": null,
      "outputs": []
    },
    {
      "cell_type": "markdown",
      "metadata": {
        "id": "WYOudgEGwe_6"
      },
      "source": [
        "We can choose specific columns according to their names using `loc` instead of `iloc`."
      ]
    },
    {
      "cell_type": "code",
      "metadata": {
        "id": "ZE_agQpXwe_6"
      },
      "source": [
        "# Slice-in rows 375 to 393 (393 included!) from columns A, C and F\n",
        "u.loc[375:393, ['A', 'C', 'F']]"
      ],
      "execution_count": null,
      "outputs": []
    },
    {
      "cell_type": "markdown",
      "metadata": {
        "id": "VkotgoA8we_6"
      },
      "source": [
        "However, there are a few different ways of accessing the data in a Pandas dataframe, that typically have a more \"direct\" connection with the actual content fo the dataframe. Individual or sets of columns can also be accessed by their column names. Choosing one single column will give a Series, while two or more will produce a DataFrame"
      ]
    },
    {
      "cell_type": "code",
      "metadata": {
        "id": "nJ4tGTPFwe_7"
      },
      "source": [
        "u['A'].head()"
      ],
      "execution_count": null,
      "outputs": []
    },
    {
      "cell_type": "code",
      "metadata": {
        "id": "HID7Eb0dwe_7"
      },
      "source": [
        "u[['A', 'D']].head()"
      ],
      "execution_count": null,
      "outputs": []
    },
    {
      "cell_type": "markdown",
      "metadata": {
        "id": "PCECWud4we_7"
      },
      "source": [
        "Not only that, we can access a single column without the need of brackets []"
      ]
    },
    {
      "cell_type": "code",
      "metadata": {
        "id": "tlcbT8xPwe_7"
      },
      "source": [
        "u.A.head()"
      ],
      "execution_count": null,
      "outputs": []
    },
    {
      "cell_type": "markdown",
      "metadata": {
        "id": "hotY3ZvIwe_7"
      },
      "source": [
        "Or, we can retrieve the elements that satisfy some condition"
      ]
    },
    {
      "cell_type": "code",
      "metadata": {
        "id": "kTUZE2nzwe_8"
      },
      "source": [
        "u[u.D > 2]"
      ],
      "execution_count": null,
      "outputs": []
    },
    {
      "cell_type": "markdown",
      "metadata": {
        "id": "znDPNtk-we_8"
      },
      "source": [
        "Dataframes provide the `query` functionality for the same purpose. While it is less powerful than boolean indexing, it is often faster and shorter (when names are longer than just `u`)"
      ]
    },
    {
      "cell_type": "code",
      "metadata": {
        "id": "FfHCORHbwe_8"
      },
      "source": [
        "u.query('D > 2')"
      ],
      "execution_count": null,
      "outputs": []
    },
    {
      "cell_type": "markdown",
      "metadata": {
        "id": "FVuI3r-Twe_8"
      },
      "source": [
        "### Reshaping `DataFrame`\n",
        "\n",
        "We can reshape and concatenate dataframes in a pretty similar way to numpy arrays. "
      ]
    },
    {
      "cell_type": "code",
      "metadata": {
        "id": "n9Srkvq5we_8"
      },
      "source": [
        "df1 = pd.DataFrame()\n",
        "\n",
        "df1['sample'] = ['A', 'A', 'A', 'B', 'B', 'B']\n",
        "df1['replicate'] = ['01', '02', '03', '01', '02', '03']\n",
        "df1['protein'] = 'P02768'\n",
        "df1['value1'] = np.random.randn(6)\n",
        "\n",
        "df1"
      ],
      "execution_count": null,
      "outputs": []
    },
    {
      "cell_type": "code",
      "metadata": {
        "id": "4Rh2bHncwe_8"
      },
      "source": [
        "pivot_df1 = df1.pivot(index='replicate', columns='sample', values='value1')\n",
        "\n",
        "pivot_df1.head()"
      ],
      "execution_count": null,
      "outputs": []
    },
    {
      "cell_type": "markdown",
      "metadata": {
        "id": "4UDugR2Twe_9"
      },
      "source": [
        "### Computing With `DataFrames`\n",
        "\n",
        "We can calculate with `DataFrames` or their columns (which are `Series`) the same way we would work with numpy arrays."
      ]
    },
    {
      "cell_type": "code",
      "metadata": {
        "id": "Kr4LjYXqwe_9"
      },
      "source": [
        "df1['value2'] = 1 / df1['value1']\n",
        "df1.head()"
      ],
      "execution_count": null,
      "outputs": []
    },
    {
      "cell_type": "code",
      "metadata": {
        "id": "Kz_Oravuwe_9"
      },
      "source": [
        "np.mean(df1)"
      ],
      "execution_count": null,
      "outputs": []
    },
    {
      "cell_type": "markdown",
      "metadata": {
        "id": "G-4MfgiPwe_9"
      },
      "source": [
        "We can also apply functions to the whole dataset or specific columns with the `apply` command. `apply` acts on the whole column at a time (i.e. a Pandas `Series`), so we can compute things that depend on several values of the column, for instance, the mean value. To apply functions in a real element-by-element basis the function `applymap` or `Series.apply` should be used."
      ]
    },
    {
      "cell_type": "code",
      "metadata": {
        "id": "AX8bRzhDwe_9"
      },
      "source": [
        "def mean(col):\n",
        "    return sum(col) / len(col)\n",
        "\n",
        "df1[['value1', 'value2']].apply(mean)"
      ],
      "execution_count": null,
      "outputs": []
    },
    {
      "cell_type": "markdown",
      "metadata": {
        "id": "UA0KJsYqwe_9"
      },
      "source": [
        "While most can be directly calculated (including the given example of the mean), `apply` also works on columns with strings or categorical data, where no mathematical operations are defined. The limit is the imagination."
      ]
    },
    {
      "cell_type": "markdown",
      "metadata": {
        "id": "N5ONVli7we_9"
      },
      "source": [
        "### Combining `DataFrames`\n",
        "\n",
        "Something we will do quite often as scientists is combining data from different sources into one single source. This can be achieved by different commands in Pandas, depending on the actual goal we want.\n",
        "\n",
        "To begin with, appending new rows of data is achieved by the command `append`."
      ]
    },
    {
      "cell_type": "code",
      "metadata": {
        "id": "TWuaqmG6we_-"
      },
      "source": [
        "df2 = pd.DataFrame()\n",
        "\n",
        "df2['sample'] = ['A', 'A', 'A', 'B', 'B', 'B']\n",
        "df2['replicate'] = ['01', '02', '03', '01', '02', '03']\n",
        "df2['protein'] = 'P69892'\n",
        "df2['value1'] = np.random.randn(6)\n",
        "df2['value2'] = 1 / df2['value1']\n",
        "\n",
        "df2"
      ],
      "execution_count": null,
      "outputs": []
    },
    {
      "cell_type": "code",
      "metadata": {
        "id": "yrVuQ26xwe_-"
      },
      "source": [
        "df1.append(df2, ignore_index=True)"
      ],
      "execution_count": null,
      "outputs": []
    },
    {
      "cell_type": "markdown",
      "metadata": {
        "id": "te0sJ4xYwe_-"
      },
      "source": [
        "The same result can be obtained with `concat`."
      ]
    },
    {
      "cell_type": "code",
      "metadata": {
        "id": "whMeHgI1we_-"
      },
      "source": [
        "df = pd.concat([df1, df2], ignore_index=True)\n",
        "\n",
        "df"
      ],
      "execution_count": null,
      "outputs": []
    },
    {
      "cell_type": "markdown",
      "metadata": {
        "id": "V5WZ6nRVwe_-"
      },
      "source": [
        "### Grouping Data"
      ]
    },
    {
      "cell_type": "code",
      "metadata": {
        "id": "ji6npHcMwe_-"
      },
      "source": [
        "df.groupby('protein').agg(sum)"
      ],
      "execution_count": null,
      "outputs": []
    },
    {
      "cell_type": "code",
      "metadata": {
        "id": "P4gLCDWYwe_-"
      },
      "source": [
        "df.groupby(['protein', 'sample']).agg(sum)"
      ],
      "execution_count": null,
      "outputs": []
    },
    {
      "cell_type": "code",
      "metadata": {
        "id": "x-5yICjnwe_-"
      },
      "source": [
        "df.groupby(['protein', 'sample', 'replicate']).agg(sum)"
      ],
      "execution_count": null,
      "outputs": []
    },
    {
      "cell_type": "code",
      "metadata": {
        "id": "-s3-1l8Lwe__"
      },
      "source": [
        "df.groupby('protein').transform(np.mean)"
      ],
      "execution_count": null,
      "outputs": []
    },
    {
      "cell_type": "code",
      "metadata": {
        "id": "NKHk3OU7we__"
      },
      "source": [
        "df.groupby('protein')['value1', 'value2'].transform(np.mean)"
      ],
      "execution_count": null,
      "outputs": []
    },
    {
      "cell_type": "code",
      "metadata": {
        "id": "dRQpvJOIwe__"
      },
      "source": [
        "for g, g_df in df.groupby(['protein', 'sample']):\n",
        "    print(g_df)\n",
        "    print(f\"{g} --> mean value1: {np.mean(g_df['value1'])}\")\n",
        "    print(f\"      mean value2: {np.mean(g_df['value2'])}\\n\")"
      ],
      "execution_count": null,
      "outputs": []
    },
    {
      "cell_type": "code",
      "metadata": {
        "id": "9zh5TW5Ewe__"
      },
      "source": [
        "df.groupby(['protein', 'sample']).describe()"
      ],
      "execution_count": null,
      "outputs": []
    },
    {
      "cell_type": "code",
      "metadata": {
        "id": "ZymA9jdswe__"
      },
      "source": [
        "df.pivot_table(index='protein',\n",
        "               columns='sample', \n",
        "               aggfunc='mean')"
      ],
      "execution_count": null,
      "outputs": []
    },
    {
      "cell_type": "code",
      "metadata": {
        "id": "-V5VY3mGwfAA"
      },
      "source": [
        "df.pivot_table(index='protein',\n",
        "               columns='sample',\n",
        "               aggfunc={'value1': min,\n",
        "                        'value2': max})"
      ],
      "execution_count": null,
      "outputs": []
    },
    {
      "cell_type": "markdown",
      "metadata": {
        "id": "bBie1CnhwfAA"
      },
      "source": [
        "### Loading and saving dataframes\n",
        "\n",
        "To load and save Pandas dataframes we will use the `to_csv` and `read_csv` commands. Whenever the dataframe does not contain any kind of column that is of type `object` we can also use feather format with `to_feather`. In case we have objects in the cells, such as functions, for example, we can use pickle format with `to_pickle`. "
      ]
    },
    {
      "cell_type": "code",
      "metadata": {
        "id": "G6tARwXFwfAA"
      },
      "source": [
        "df.to_csv('test.csv')\n",
        "pd.read_csv('test.csv', index_col=0)"
      ],
      "execution_count": null,
      "outputs": []
    },
    {
      "cell_type": "markdown",
      "metadata": {
        "id": "oiGpBxl3wfAA"
      },
      "source": [
        "But, as an addition, Pandas has special commands to load and save Excel spreadsheets (yay!). However, to use it you'll need the `openpyxl` and `xlrd` packages."
      ]
    },
    {
      "cell_type": "code",
      "metadata": {
        "id": "WGdlb3UvwfAA"
      },
      "source": [
        "df.to_excel('test.xlsx', sheet_name='My sheet')\n",
        "pd.read_excel('test.xlsx', 'My sheet', index_col=0)"
      ],
      "execution_count": null,
      "outputs": []
    },
    {
      "cell_type": "markdown",
      "metadata": {
        "id": "0Q3OWleewfAA"
      },
      "source": [
        "**Exercise 5**: Download [this dataset](https://raw.githubusercontent.com/ChihChengLiang/pokemongor/master/data-raw/pokemons.csv) and load it, using the first column as the index. Take a look at it, and do the following things:\n",
        "- Choose the columns 'Identifier', 'BaseStamina', 'BaseAttack', 'BaseDefense', 'Type1' and 'Type2' \n",
        "- Create a function that lowercases strings and apply it to 'Type1' and 'Type2' (*Extra: just capitalize the strings, i.e., leave the first letter uppercase and lowercase the rest*)\n",
        "- Create a function that returns a Boolean value (don't be afraif by this, it is a function that returns either True or False) that tells if a Pokémon has high stamina (BaseStamina>170) or not. Store this information in a new column and show the list of Pokémon with high stamina\n",
        "- Show the instructor the last 15 rows of your dataset"
      ]
    },
    {
      "cell_type": "code",
      "metadata": {
        "id": "gUPGHqP2wfAA"
      },
      "source": [
        "df = pd.read_csv('https://raw.githubusercontent.com/ChihChengLiang/pokemongor/master/data-raw/pokemons.csv', \n",
        "                 index_col=0)\n",
        "\n",
        "df = df[['Identifier', 'BaseStamina', 'BaseAttack', 'BaseDefense', 'Type1', 'Type2']]\n",
        "\n",
        "capitalize = lambda st: st.capitalize()\n",
        "\n",
        "for col in ['Type1', 'Type2']:\n",
        "    df[col] = df[col].apply(capitalize)\n",
        "    \n",
        "def highstamina(x):\n",
        "    return True if x > 170 else False\n",
        "\n",
        "df['HighStamina'] = df.BaseStamina.apply(highstamina)\n",
        "\n",
        "print(df[df['HighStamina'] == True].Identifier)\n",
        "\n",
        "df.tail(15)"
      ],
      "execution_count": null,
      "outputs": []
    }
  ]
}