{
  "nbformat": 4,
  "nbformat_minor": 0,
  "metadata": {
    "kernelspec": {
      "display_name": "Python 3",
      "language": "python",
      "name": "python3"
    },
    "colab": {
      "name": "04_Pandas.ipynb",
      "provenance": []
    }
  },
  "cells": [
    {
      "cell_type": "markdown",
      "metadata": {
        "id": "ZMe79Hvjp0kU"
      },
      "source": [
        "# 4 Pandas\n",
        "\n",
        "When dealing with numeric matrices and vectors in Python, NumPy makes life a lot easier. However, those used to work with dedicated languages like [R](https://www.r-project.org/), doing data analysis directly with NumPy feels like a step back. Fortunately, some nice folks have written the Python Data Analysis Library (a.k.a. [Pandas](http://pandas.pydata.org/)). Pandas provides an R-like DataFrame, produces high quality plots with matplotlib, and integrates nicely with other libraries that expect NumPy arrays.\n",
        "\n",
        "Pandas works with `Series` of data, that then are arranged in `DataFrame` objects. A dataframe is the object closest to an Excel spreadsheet that we will see throughout the course. Dataframes, though, given that they are integrated in Python and can be combined with so many different packages, are much more powerful than simple Excel spreadsheets. The data in the series can be either qualitative or quantitative data and creating a series is as easy as creating a NumPy array from a one-dimensional list."
      ]
    },
    {
      "cell_type": "code",
      "metadata": {
        "id": "RYqiMfcXp0kW"
      },
      "source": [
        "import numpy as np\n",
        "import pandas as pd\n",
        "print('Pandas:', pd.__version__)"
      ],
      "execution_count": null,
      "outputs": []
    },
    {
      "cell_type": "code",
      "metadata": {
        "id": "QlWM3WJlp0kY"
      },
      "source": [
        "animals = ['Tiger', 'Bear', 'Moose']\n",
        "pd.Series(animals)"
      ],
      "execution_count": null,
      "outputs": []
    },
    {
      "cell_type": "code",
      "metadata": {
        "id": "QrMhyG1Pp0kZ"
      },
      "source": [
        "numbers = [1, 2, 3]\n",
        "pd.Series(numbers)"
      ],
      "execution_count": null,
      "outputs": []
    },
    {
      "cell_type": "markdown",
      "metadata": {
        "id": "g0LAbP2ap0kZ"
      },
      "source": [
        "Notice that the series is indexed by default by integers. We can change this indexing by using a dictionary instead of a list to create the series."
      ]
    },
    {
      "cell_type": "code",
      "metadata": {
        "id": "PYA6LsO4p0ka"
      },
      "source": [
        "sports = {'Archery': 'Bhutan',\n",
        "          'Golf': 'Scotland',\n",
        "          'Sumo': 'Japan',\n",
        "          'Taekwondo': 'South Korea'}\n",
        "s = pd.Series(sports)\n",
        "s"
      ],
      "execution_count": null,
      "outputs": []
    },
    {
      "cell_type": "markdown",
      "metadata": {
        "id": "VS1wfFtOp0ka"
      },
      "source": [
        "On the other hand, dataframes can be built from two-dimensional arrays, with the ability of labelling columns and indexing the rows. **Every column in a dataframe is a series**. "
      ]
    },
    {
      "cell_type": "code",
      "metadata": {
        "id": "Wcn_6Ubqp0kb"
      },
      "source": [
        "# Sampling a 1000 rows 6 cols 2D array from the standard normal distribution and creating DataFrame\n",
        "u = pd.DataFrame(np.random.randn(1000, 6),\n",
        "                 index=np.arange(0, 3000, 3),\n",
        "                 columns=['A', 'B', 'C', 'D', 'E', 'F'])\n",
        "\n",
        "print(type(u))\n",
        "\n",
        "u"
      ],
      "execution_count": null,
      "outputs": []
    },
    {
      "cell_type": "markdown",
      "metadata": {
        "id": "A-hiNuKJp0kc"
      },
      "source": [
        "As you might have noticed, it is not the best to look at massive dataframes. There are some functions that allow us to have a nicer look at parts of the dataframe to have an idea of \"how things are going\"."
      ]
    },
    {
      "cell_type": "code",
      "metadata": {
        "id": "erP2OXeJp0kd"
      },
      "source": [
        "u.head()"
      ],
      "execution_count": null,
      "outputs": []
    },
    {
      "cell_type": "code",
      "metadata": {
        "id": "WGyxOvf_p0kd"
      },
      "source": [
        "u.tail()"
      ],
      "execution_count": null,
      "outputs": []
    },
    {
      "cell_type": "code",
      "metadata": {
        "id": "QmU4GvFFp0kd"
      },
      "source": [
        "u.info()"
      ],
      "execution_count": null,
      "outputs": []
    },
    {
      "cell_type": "code",
      "metadata": {
        "id": "MpzGCs-Lp0ke"
      },
      "source": [
        "u.describe()"
      ],
      "execution_count": null,
      "outputs": []
    },
    {
      "cell_type": "markdown",
      "metadata": {
        "id": "G1lyUQPPp0ke"
      },
      "source": [
        "### Indexing/Slicing in Pandas\n",
        "\n",
        "The easiest way to access information in a Pandas dataframe, equivalent to the way used in NumPy, is using the `iloc` command. With `iloc` we can use the same indexing techniques that we saw with NumPy in the previous notebook."
      ]
    },
    {
      "cell_type": "code",
      "metadata": {
        "id": "pr672Erup0kf"
      },
      "source": [
        "# Slice-in rows index 125 to 132 (132 included!) from columns index 0, 2 and 5\n",
        "u.iloc[125:132, [0, 2, 5]]"
      ],
      "execution_count": null,
      "outputs": []
    },
    {
      "cell_type": "markdown",
      "metadata": {
        "id": "dy1FGNImp0kf"
      },
      "source": [
        "We can choose specific columns according to their names using `loc` instead of `iloc`."
      ]
    },
    {
      "cell_type": "code",
      "metadata": {
        "id": "F2c3w9ryp0kf"
      },
      "source": [
        "# Slice-in rows 375 to 393 (393 included!) from columns A, C and F\n",
        "u.loc[375:393, ['A', 'C', 'F']]"
      ],
      "execution_count": null,
      "outputs": []
    },
    {
      "cell_type": "markdown",
      "metadata": {
        "id": "WU2-RzIjp0kf"
      },
      "source": [
        "However, there are a few different ways of accessing the data in a Pandas dataframe, that typically have a more \"direct\" connection with the actual content fo the dataframe. Individual or sets of columns can also be accessed by their column names. Choosing one single column will give a Series, while two or more will produce a DataFrame"
      ]
    },
    {
      "cell_type": "code",
      "metadata": {
        "id": "6I3Ju4ZYp0kg"
      },
      "source": [
        "u['A'].head()"
      ],
      "execution_count": null,
      "outputs": []
    },
    {
      "cell_type": "code",
      "metadata": {
        "id": "YQSmuVwEp0kg"
      },
      "source": [
        "u[['A', 'D']].head()"
      ],
      "execution_count": null,
      "outputs": []
    },
    {
      "cell_type": "markdown",
      "metadata": {
        "id": "4IjmCmM7p0kg"
      },
      "source": [
        "Not only that, we can access a single column without the need of brackets []"
      ]
    },
    {
      "cell_type": "code",
      "metadata": {
        "id": "VRftCZ-kp0kg"
      },
      "source": [
        "u.A.head()"
      ],
      "execution_count": null,
      "outputs": []
    },
    {
      "cell_type": "markdown",
      "metadata": {
        "id": "SeNDmzyyp0kg"
      },
      "source": [
        "Or, we can retrieve the elements that satisfy some condition"
      ]
    },
    {
      "cell_type": "code",
      "metadata": {
        "id": "KRolQwaqp0kh"
      },
      "source": [
        "u[u.D > 2]"
      ],
      "execution_count": null,
      "outputs": []
    },
    {
      "cell_type": "markdown",
      "metadata": {
        "id": "zH_DTPIAp0kh"
      },
      "source": [
        "Dataframes provide the `query` functionality for the same purpose. While it is less powerful than boolean indexing, it is often faster and shorter (when names are longer than just `u`)"
      ]
    },
    {
      "cell_type": "code",
      "metadata": {
        "id": "DlxwRHyBp0kh"
      },
      "source": [
        "u.query('D > 2')"
      ],
      "execution_count": null,
      "outputs": []
    },
    {
      "cell_type": "markdown",
      "metadata": {
        "id": "u0JkBlXFp0kh"
      },
      "source": [
        "### Reshaping `DataFrame`\n",
        "\n",
        "We can reshape and concatenate dataframes in a pretty similar way to numpy arrays. "
      ]
    },
    {
      "cell_type": "code",
      "metadata": {
        "id": "oVTvoT37p0kh"
      },
      "source": [
        "df1 = pd.DataFrame()\n",
        "\n",
        "df1['sample'] = ['A', 'A', 'A', 'B', 'B', 'B']\n",
        "df1['replicate'] = ['01', '02', '03', '01', '02', '03']\n",
        "df1['protein'] = 'P02768'\n",
        "df1['value1'] = np.random.randn(6)\n",
        "\n",
        "df1"
      ],
      "execution_count": null,
      "outputs": []
    },
    {
      "cell_type": "code",
      "metadata": {
        "id": "CH1Hmmaop0kh"
      },
      "source": [
        "pivot_df1 = df1.pivot(index='replicate', columns='sample', values='value1')\n",
        "\n",
        "pivot_df1.head()"
      ],
      "execution_count": null,
      "outputs": []
    },
    {
      "cell_type": "markdown",
      "metadata": {
        "id": "C9mR2S8Fp0ki"
      },
      "source": [
        "### Computing With `DataFrames`\n",
        "\n",
        "We can calculate with `DataFrames` or their columns (which are `Series`) the same way we would work with numpy arrays."
      ]
    },
    {
      "cell_type": "code",
      "metadata": {
        "id": "kXWZkidQp0ki"
      },
      "source": [
        "df1['value2'] = 1 / df1['value1']\n",
        "df1.head()"
      ],
      "execution_count": null,
      "outputs": []
    },
    {
      "cell_type": "code",
      "metadata": {
        "id": "mYzjyprGp0ki"
      },
      "source": [
        "np.mean(df1)"
      ],
      "execution_count": null,
      "outputs": []
    },
    {
      "cell_type": "markdown",
      "metadata": {
        "id": "KOm-uYIdp0ki"
      },
      "source": [
        "We can also apply functions to the whole dataset or specific columns with the `apply` command. `apply` acts on the whole column at a time (i.e. a Pandas `Series`), so we can compute things that depend on several values of the column, for instance, the mean value. To apply functions in a real element-by-element basis the function `applymap` or `Series.apply` should be used."
      ]
    },
    {
      "cell_type": "code",
      "metadata": {
        "id": "rO_ngv92p0ki"
      },
      "source": [
        "def mean(col):\n",
        "    return sum(col) / len(col)\n",
        "\n",
        "df1[['value1', 'value2']].apply(mean)"
      ],
      "execution_count": null,
      "outputs": []
    },
    {
      "cell_type": "markdown",
      "metadata": {
        "id": "GJRRd7b6p0ki"
      },
      "source": [
        "While most can be directly calculated (including the given example of the mean), `apply` also works on columns with strings or categorical data, where no mathematical operations are defined. The limit is the imagination."
      ]
    },
    {
      "cell_type": "markdown",
      "metadata": {
        "id": "WTsjNA3Ap0kj"
      },
      "source": [
        "### Combining `DataFrames`\n",
        "\n",
        "Something we will do quite often as scientists is combining data from different sources into one single source. This can be achieved by different commands in Pandas, depending on the actual goal we want.\n",
        "\n",
        "To begin with, appending new rows of data is achieved by the command `append`."
      ]
    },
    {
      "cell_type": "code",
      "metadata": {
        "id": "4S6LFjQfp0kj"
      },
      "source": [
        "df2 = pd.DataFrame()\n",
        "\n",
        "df2['sample'] = ['A', 'A', 'A', 'B', 'B', 'B']\n",
        "df2['replicate'] = ['01', '02', '03', '01', '02', '03']\n",
        "df2['protein'] = 'P69892'\n",
        "df2['value1'] = np.random.randn(6)\n",
        "df2['value2'] = 1 / df2['value1']\n",
        "\n",
        "df2"
      ],
      "execution_count": null,
      "outputs": []
    },
    {
      "cell_type": "code",
      "metadata": {
        "id": "rmVlpkGep0kj"
      },
      "source": [
        "df1.append(df2, ignore_index=True)"
      ],
      "execution_count": null,
      "outputs": []
    },
    {
      "cell_type": "markdown",
      "metadata": {
        "id": "lLZHA93Fp0kj"
      },
      "source": [
        "The same result can be obtained with `concat`."
      ]
    },
    {
      "cell_type": "code",
      "metadata": {
        "id": "4rD_UYnzp0kj"
      },
      "source": [
        "df = pd.concat([df1, df2], ignore_index=True)\n",
        "\n",
        "df"
      ],
      "execution_count": null,
      "outputs": []
    },
    {
      "cell_type": "markdown",
      "metadata": {
        "id": "lBUJrJKdp0kj"
      },
      "source": [
        "### Grouping Data"
      ]
    },
    {
      "cell_type": "code",
      "metadata": {
        "id": "QQKwvUMdp0kj"
      },
      "source": [
        "df.groupby('protein').agg(sum)"
      ],
      "execution_count": null,
      "outputs": []
    },
    {
      "cell_type": "code",
      "metadata": {
        "id": "jcypA_xSp0kk"
      },
      "source": [
        "df.groupby(['protein', 'sample']).agg(sum)"
      ],
      "execution_count": null,
      "outputs": []
    },
    {
      "cell_type": "code",
      "metadata": {
        "id": "TK4Z5oFwp0kk"
      },
      "source": [
        "df.groupby(['protein', 'sample', 'replicate']).agg(sum)"
      ],
      "execution_count": null,
      "outputs": []
    },
    {
      "cell_type": "code",
      "metadata": {
        "id": "0OpbAZrep0kk"
      },
      "source": [
        "df.groupby('protein').transform(np.mean)"
      ],
      "execution_count": null,
      "outputs": []
    },
    {
      "cell_type": "code",
      "metadata": {
        "id": "Oye1tL1ap0kk"
      },
      "source": [
        "df.groupby('protein')['value1', 'value2'].transform(np.mean)"
      ],
      "execution_count": null,
      "outputs": []
    },
    {
      "cell_type": "code",
      "metadata": {
        "id": "nbeAuRmDp0kk"
      },
      "source": [
        "for g, g_df in df.groupby(['protein', 'sample']):\n",
        "    print(g_df)\n",
        "    print(f\"{g} --> mean value1: {np.mean(g_df['value1'])}\")\n",
        "    print(f\"      mean value2: {np.mean(g_df['value2'])}\\n\")"
      ],
      "execution_count": null,
      "outputs": []
    },
    {
      "cell_type": "code",
      "metadata": {
        "id": "jjms46LTp0kk"
      },
      "source": [
        "df.groupby(['protein', 'sample']).describe()"
      ],
      "execution_count": null,
      "outputs": []
    },
    {
      "cell_type": "code",
      "metadata": {
        "id": "IbOVpB6pp0kl"
      },
      "source": [
        "df.pivot_table(index='protein',\n",
        "               columns='sample', \n",
        "               aggfunc='mean')"
      ],
      "execution_count": null,
      "outputs": []
    },
    {
      "cell_type": "code",
      "metadata": {
        "id": "eiNPjMwJp0kl"
      },
      "source": [
        "df.pivot_table(index='protein',\n",
        "               columns='sample',\n",
        "               aggfunc={'value1': min,\n",
        "                        'value2': max})"
      ],
      "execution_count": null,
      "outputs": []
    },
    {
      "cell_type": "markdown",
      "metadata": {
        "id": "YbDq5jI6p0kl"
      },
      "source": [
        "### Loading and saving dataframes\n",
        "\n",
        "To load and save Pandas dataframes we will use the `to_csv` and `read_csv` commands. Whenever the dataframe does not contain any kind of column that is of type `object` we can also use feather format with `to_feather`. In case we have objects in the cells, such as functions, for example, we can use pickle format with `to_pickle`. "
      ]
    },
    {
      "cell_type": "code",
      "metadata": {
        "id": "UfGAHnBup0kl"
      },
      "source": [
        "df.to_csv('test.csv')\n",
        "pd.read_csv('test.csv', index_col=0)"
      ],
      "execution_count": null,
      "outputs": []
    },
    {
      "cell_type": "markdown",
      "metadata": {
        "id": "e9wREz12p0kl"
      },
      "source": [
        "But, as an addition, Pandas has special commands to load and save Excel spreadsheets (yay!). However, to use it you'll need the `openpyxl` and `xlrd` packages."
      ]
    },
    {
      "cell_type": "code",
      "metadata": {
        "id": "-XwPbymlp0km"
      },
      "source": [
        "df.to_excel('test.xlsx', sheet_name='My sheet')\n",
        "pd.read_excel('test.xlsx', 'My sheet', index_col=0)"
      ],
      "execution_count": null,
      "outputs": []
    },
    {
      "cell_type": "markdown",
      "metadata": {
        "id": "dMVWebqHp0km"
      },
      "source": [
        "**Exercise 5**: Download [this dataset](https://raw.githubusercontent.com/ChihChengLiang/pokemongor/master/data-raw/pokemons.csv) and load it, using the first column as the index. Take a look at it, and do the following things:\n",
        "- Choose the columns 'Identifier', 'BaseStamina', 'BaseAttack', 'BaseDefense', 'Type1' and 'Type2' \n",
        "- Create a function that lowercases strings and apply it to 'Type1' and 'Type2' (*Extra: just capitalize the strings, i.e., leave the first letter uppercase and lowercase the rest*)\n",
        "- Create a function that returns a Boolean value (don't be afraif by this, it is a function that returns either True or False) that tells if a Pokémon has high stamina (BaseStamina>170) or not. Store this information in a new column and show the list of Pokémon with high stamina\n",
        "- Show the instructor the last 15 rows of your dataset"
      ]
    },
    {
      "cell_type": "code",
      "metadata": {
        "id": "ecYr28lZp0km"
      },
      "source": [
        "df = pd.read_csv('https://raw.githubusercontent.com/ChihChengLiang/pokemongor/master/data-raw/pokemons.csv', \n",
        "                 index_col=0)\n",
        "\n",
        "df = df[['Identifier', 'BaseStamina', 'BaseAttack', 'BaseDefense', 'Type1', 'Type2']]\n",
        "\n",
        "capitalize = lambda st: st.capitalize()\n",
        "\n",
        "for col in ['Type1', 'Type2']:\n",
        "    df[col] = df[col].apply(capitalize)\n",
        "    \n",
        "def highstamina(x):\n",
        "    return True if x > 170 else False\n",
        "\n",
        "df['HighStamina'] = df.BaseStamina.apply(highstamina)\n",
        "\n",
        "print(df[df['HighStamina'] == True].Identifier)\n",
        "\n",
        "df.tail(15)"
      ],
      "execution_count": null,
      "outputs": []
    }
  ]
}