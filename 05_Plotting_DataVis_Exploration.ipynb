{
  "nbformat": 4,
  "nbformat_minor": 0,
  "metadata": {
    "kernelspec": {
      "display_name": "Python 3",
      "language": "python",
      "name": "python3"
    },
    "colab": {
      "name": "05_Plotting_DataVis_Exploration.ipynb",
      "provenance": [],
      "include_colab_link": true
    }
  },
  "cells": [
    {
      "cell_type": "markdown",
      "metadata": {
        "id": "view-in-github",
        "colab_type": "text"
      },
      "source": [
        "<a href=\"https://colab.research.google.com/github/MMRES-PyBootcamp/MMRES-python-bootcamp2021/blob/master/05_Plotting_DataVis_Exploration.ipynb\" target=\"_parent\"><img src=\"https://colab.research.google.com/assets/colab-badge.svg\" alt=\"Open In Colab\"/></a>"
      ]
    },
    {
      "cell_type": "markdown",
      "metadata": {
        "id": "WWCXoou3wyqC"
      },
      "source": [
        "# 5 Plotting, Data Visualization and Exploration: a random walk exploration\n",
        "\n",
        "*Disclaimer: The \"Plotting\" section of this session is based in [this](https://github.com/peterwittek/qml-rg/blob/master/Archiv_Session_Spring_2017/Tutorials/Python_for_Science.ipynb) tutorial by Peter Wittek*\n",
        "\n",
        "## Introduction\n",
        "\n",
        "In this session, we will explore the tools that Python offers to plot and visualize data. The *art* of making nice plots is something that takes some time, but making our first plots is really simple. In this tutorial, we will focus in the library [Matplotlib](http://matplotlib.org/), which is, probably together with `numpy` or `pandas`, the package that you will always need to import in most of your projects. \n",
        "\n",
        "In order to see its full potential, we will use it to explore a precise problem which lays at the heart of statistics: the [Brownian motion](https://en.wikipedia.org/wiki/Brownian_motion). This session will then have two steps: first, we will learn the basics of Matplotlib; second, we will study how to go from a purely theoretical problem to its numerical simulation and use Matplotlib to visualize the results.\n",
        "\n",
        "Let's start by importing the necessary packages. For the initial part of this tutorial, we will only need on class of Matplotlib, `pyplot`, which has most of what we usually need for plotting:"
      ]
    },
    {
      "cell_type": "code",
      "metadata": {
        "id": "rVo9MN3JwyqE"
      },
      "source": [
        "import matplotlib\n",
        "import matplotlib.pyplot as plt\n",
        "import numpy as np\n",
        "%matplotlib inline\n",
        "print('Matplotlib:', matplotlib.__version__)\n",
        "print('Numpy:', np.__version__)"
      ],
      "execution_count": null,
      "outputs": []
    },
    {
      "cell_type": "markdown",
      "metadata": {
        "id": "oPIWoSJVwyqG"
      },
      "source": [
        "Notice the line that starts with %. This is a 'magic command' specific to Jupyter. It ensures that images will be plotted inline, instead of popping up in a window. You can look at all magic commands by entering `%quickref`. Some are useful, although most of them are not. The magic commands are not part of Python, so calling them in a script will throw an error. Keep this in mind when you copy code from a notebook."
      ]
    },
    {
      "cell_type": "markdown",
      "metadata": {
        "id": "3Z3HiEvPwyqH"
      },
      "source": [
        "## Plotting\n",
        "\n",
        "\n",
        "#### The Basics\n",
        "\n",
        "This is the bare minimum you need to plot a function:"
      ]
    },
    {
      "cell_type": "code",
      "metadata": {
        "id": "PDk2Qi9hwyqH"
      },
      "source": [
        "x = np.linspace(0, 5, 5)\n",
        "plt.plot(x, x**2);"
      ],
      "execution_count": null,
      "outputs": []
    },
    {
      "cell_type": "markdown",
      "metadata": {
        "id": "V3eDv-kVwyqI"
      },
      "source": [
        "We imported the module `matplotlib.plot` as `plt`, and we call a function of it called `plot` to plot the square function. You always plot discrete points: `x` is a numpy array containing five points as a linear approximation between zero and five. On closer inspection, the curve is not smooth: this is because five points are not enough for the illusion of smoothness. Let us add some more points, labels for the axes, and a title for the figure:"
      ]
    },
    {
      "cell_type": "code",
      "metadata": {
        "id": "YiK-tQUawyqI"
      },
      "source": [
        "x = np.linspace(0, 5, 100)\n",
        "y = x**2\n",
        "plt.plot(x, y)\n",
        "plt.xlabel('x')\n",
        "plt.ylabel('y')\n",
        "plt.title('The most exciting function ever, full stop.');"
      ],
      "execution_count": null,
      "outputs": []
    },
    {
      "cell_type": "markdown",
      "metadata": {
        "id": "Rv8dotQ2wyqJ"
      },
      "source": [
        "We can check in more detail by changing the line style of the lines as follows:"
      ]
    },
    {
      "cell_type": "code",
      "metadata": {
        "id": "cHKP0CzrwyqJ"
      },
      "source": [
        "x = np.linspace(0, 5, 5)\n",
        "plt.plot(x, x**2, 'o-');\n",
        "\n",
        "x = np.linspace(0, 5, 10)\n",
        "plt.plot(x, 10+x**2, 'o-')"
      ],
      "execution_count": null,
      "outputs": []
    },
    {
      "cell_type": "markdown",
      "metadata": {
        "id": "Okss8AscwyqK"
      },
      "source": [
        "The order in which you add the decorations to your figure does not matter. Everything that you write to appear in the cell will appear. This is because the execution of the cell triggers the call of the function `plt.show()`, which instructs Matplotlib to draw the figure *and* display it. In a Python script, you would always call `plt.show()` manually. Let us plot the cube function too, and call `plt.show()` manually:"
      ]
    },
    {
      "cell_type": "code",
      "metadata": {
        "id": "53-T0QISwyqK"
      },
      "source": [
        "x = np.linspace(0, 5, 100)\n",
        "y1 = x**2\n",
        "y2 = x**3\n",
        "plt.plot(x, y1)\n",
        "plt.plot(x, y2)\n",
        "plt.xlabel('x')\n",
        "plt.ylabel('y')\n",
        "plt.show()"
      ],
      "execution_count": null,
      "outputs": []
    },
    {
      "cell_type": "markdown",
      "metadata": {
        "id": "0lvchJfVwyqL"
      },
      "source": [
        "We can use this to check what happens when taking more or less points for the plots, by changing the line style as:"
      ]
    },
    {
      "cell_type": "code",
      "metadata": {
        "id": "leXJ-IBuwyqL"
      },
      "source": [
        "x = np.linspace(0, 5, 5)\n",
        "plt.plot(x, x**2, 'o-');\n",
        "\n",
        "x = np.linspace(0, 5, 10)\n",
        "plt.plot(x, 10+x**2, 'o-')\n",
        "\n",
        "plt.xlabel('x')\n",
        "plt.ylabel('y')\n",
        "plt.show()"
      ],
      "execution_count": null,
      "outputs": []
    },
    {
      "cell_type": "markdown",
      "metadata": {
        "id": "JHm05N3KwyqL"
      },
      "source": [
        "Other useful line styles:"
      ]
    },
    {
      "cell_type": "code",
      "metadata": {
        "id": "H99oua4VwyqM"
      },
      "source": [
        "x = np.linspace(0, 5, 10)\n",
        "plt.plot(x, x**2, ls = '--');\n",
        "\n",
        "x = np.linspace(0, 5, 10)\n",
        "plt.plot(x, 10+x**2, ls = ':')\n",
        "\n",
        "plt.xlabel('x')\n",
        "plt.ylabel('y')\n",
        "plt.show()"
      ],
      "execution_count": null,
      "outputs": []
    },
    {
      "cell_type": "markdown",
      "metadata": {
        "id": "z-KADEclwyqM"
      },
      "source": [
        "Notice the difference with this case:"
      ]
    },
    {
      "cell_type": "code",
      "metadata": {
        "id": "kju9EaBEwyqM"
      },
      "source": [
        "x = np.linspace(0, 5, 100)\n",
        "plt.plot(x, y1)\n",
        "plt.xlabel('x')\n",
        "plt.ylabel('y')\n",
        "plt.show()\n",
        "\n",
        "plt.xlabel('same x')\n",
        "plt.plot(x, y2)\n",
        "plt.show()"
      ],
      "execution_count": null,
      "outputs": []
    },
    {
      "cell_type": "markdown",
      "metadata": {
        "id": "JFZ0vap8wyqN"
      },
      "source": [
        "The `plt.show()` resets all settings after displaying, so for the second figure, you must set the axes again (note the difference in axes labels)\n",
        "\n",
        "Instead of showing the plot on the screen, you can write them to a file, which will also trigger Matplotlib to draw the figure. If you export it to PDF, it will be as scale-invariant as it can possibly be."
      ]
    },
    {
      "cell_type": "code",
      "metadata": {
        "id": "F17OBLu_wyqN"
      },
      "source": [
        "plt.plot(x, y1)\n",
        "plt.xlabel('x')\n",
        "plt.ylabel('y')\n",
        "plt.savefig('whatever.pdf')\n",
        "plt.close()"
      ],
      "execution_count": null,
      "outputs": []
    },
    {
      "cell_type": "markdown",
      "metadata": {
        "id": "TAKVSWj6wyqN"
      },
      "source": [
        "You should find the plot right in the directory of the notebook."
      ]
    },
    {
      "cell_type": "markdown",
      "metadata": {
        "id": "Uz31DFCtwyqO"
      },
      "source": [
        "#### Object-oriented Paradigm\n",
        "\n",
        "The image that you see displayed is composed of a hierarchical structure of components. On the top level, it is an instance of the `Figure` class. This is what `plt.plot()` creates for you, with all the other underlying structures within; this function is for your convenience to avoid dealing with classes if you want a simple plot. The structures in the hierarchy include the area where you draw, which is technically called the `Axes` class. You may have more than one `Axes` if you have subplots or embedded plots. `Axes` than have x and y axes, which in turn have a scale, ticks, labels, and so on. If you have a single `Axes` class instantiated, like in the examples below, you can access and change most parts of the hierarchy like you did above with the x and y labels and the figure title. If you want to do anything non-trivial, you have to compose the figure and its components yourself. The examples in this section are mainly from [this tutorial](https://nbviewer.jupyter.org/github/jrjohansson/scientific-python-lectures/blob/master/Lecture-4-Matplotlib.ipynb). A more detailed version of the plot of the square function is:"
      ]
    },
    {
      "cell_type": "code",
      "metadata": {
        "id": "gKXND9URwyqO"
      },
      "source": [
        "fig = plt.figure()\n",
        "ax = fig.add_subplot(111)\n",
        "ax.plot(x, y)\n",
        "ax.set_xlabel('x')\n",
        "ax.set_ylabel('y')\n",
        "plt.show()"
      ],
      "execution_count": null,
      "outputs": []
    },
    {
      "cell_type": "markdown",
      "metadata": {
        "id": "97QIWMXfwyqO"
      },
      "source": [
        "Armed with this knowledge, we can do inserts:"
      ]
    },
    {
      "cell_type": "code",
      "metadata": {
        "id": "77ejVnfwwyqO"
      },
      "source": [
        "fig = plt.figure()\n",
        "axes1 = fig.add_axes([0.1, 0.1, 0.8, 0.8]) # main axes. The structure is [left, bottom, width, height]\n",
        "axes2 = fig.add_axes([0.2, 0.5, 0.4, 0.3]) # insert axes\n",
        "\n",
        "# main figure\n",
        "axes1.plot(x, y1, 'r')\n",
        "axes1.set_xlabel('x')\n",
        "axes1.set_ylabel('y')\n",
        "axes1.set_title('Square function in red')\n",
        "\n",
        "# insert\n",
        "axes2.plot(x, y2, 'b')\n",
        "axes2.set_xlabel('x')\n",
        "axes2.set_ylabel('y')\n",
        "axes2.set_title('Cube function in blue')\n",
        "plt.show()"
      ],
      "execution_count": null,
      "outputs": []
    },
    {
      "cell_type": "markdown",
      "metadata": {
        "id": "zL1L44sKwyqP"
      },
      "source": [
        "You can also do aribtrary grids of subplots. The function `plt.subplots` conveniently creates you the figure object and returns it to you along with the axes:"
      ]
    },
    {
      "cell_type": "code",
      "metadata": {
        "id": "LaDClpuhwyqP"
      },
      "source": [
        "fig, axes = plt.subplots(ncols=2, figsize = (10,5))\n",
        "y = [y1, y2]\n",
        "labels = ['Square function', 'Cube function']\n",
        "colors = ['r', 'b']\n",
        "for i, ax in enumerate(axes):\n",
        "    ax.plot(x, y[i], colors[i])\n",
        "    ax.set_xlabel('x')\n",
        "    ax.set_ylabel('y')\n",
        "    ax.set_title(labels[i])  \n",
        "fig.tight_layout()  # Option to prevent overlapping of the plots\n",
        "plt.show()"
      ],
      "execution_count": null,
      "outputs": []
    },
    {
      "cell_type": "markdown",
      "metadata": {
        "id": "7fH1v_rswyqP"
      },
      "source": [
        "An always useful thing is to label different plots on the same figure and display the legend with the corresponding labels. The easiest way to do this is assigning a label to each of the plots when calling the `plot()` function, and at the end of the image calling the function `legend()`:"
      ]
    },
    {
      "cell_type": "code",
      "metadata": {
        "id": "TlnXe_ihwyqP"
      },
      "source": [
        "fig, ax = plt.subplots()  # Equivalent to fig = plt.figure() and ax = fig.add_subplot(111)\n",
        "ax.plot(x, y1, label='Square')\n",
        "ax.plot(x, y2, label='Cube')\n",
        "ax.legend(loc=2)  # Location of the legend can be modified with this parameter\n",
        "ax.set_xlabel('x')\n",
        "ax.set_ylabel('y')\n",
        "ax.set_title('Legends')\n",
        "plt.show()"
      ],
      "execution_count": null,
      "outputs": []
    },
    {
      "cell_type": "markdown",
      "metadata": {
        "id": "Fz1rGw8WwyqQ"
      },
      "source": [
        "Error bars can be added in both the $x$ and $y$ axes. This is achieved using the `errorbar` function"
      ]
    },
    {
      "cell_type": "code",
      "metadata": {
        "id": "xw8BaM28wyqQ"
      },
      "source": [
        "xs = np.linspace(1, 5, 5)\n",
        "ys = xs ** 2\n",
        "xerr = 1 / np.sqrt(xs)\n",
        "yerr = xs ** (1 / 3) + [0.2 for _ in xs]\n",
        "\n",
        "fig, ax = plt.subplots()\n",
        "ax.errorbar(xs, ys, xerr=xerr, yerr=yerr, ls='none', fmt='o')    # ls is for line style, fmt for format\n",
        "ax.set_yscale('log')\n",
        "plt.show()"
      ],
      "execution_count": null,
      "outputs": []
    },
    {
      "cell_type": "markdown",
      "metadata": {
        "id": "PFZB18rdwyqQ"
      },
      "source": [
        "Matplotlib can also handle LaTeX formulas and font changes. LaTeX formulas need to be enclosed in $$, preceded by an `r` to avoid problems with backslashes. For global font changes, one has to update the Matplotlib configuration parameters. TeX can be used to process all the text in the figure as well, although a TeX compiler is needed in this case."
      ]
    },
    {
      "cell_type": "code",
      "metadata": {
        "id": "MVa-Sc9RwyqQ"
      },
      "source": [
        "matplotlib.rcParams.update({'font.size': 18, 'font.family': 'serif'})\n",
        "\n",
        "fig, ax = plt.subplots()\n",
        "ax.plot(x, y1, label=r'$y = x^2$')\n",
        "ax.plot(x, y2, label=r'$y = x^3$')\n",
        "ax.legend(loc=2)  # upper left corner\n",
        "ax.set_xlabel(r'$x$')\n",
        "ax.set_ylabel(r'$y$')\n",
        "ax.set_title('Plot title')\n",
        "plt.show()\n",
        "\n",
        "matplotlib.rcParams.update({'font.size': 18, 'text.usetex': True})\n",
        "\n",
        "fig, ax = plt.subplots()\n",
        "ax.plot(x, y1, label=r'$y = x^2$')\n",
        "ax.plot(x, y2, label=r'$y = x^3$')\n",
        "ax.legend(loc=2)\n",
        "ax.set_xlabel(r'$x$')\n",
        "ax.set_ylabel(r'$y$')\n",
        "ax.set_title('Plot title')\n",
        "plt.show()\n",
        "\n",
        "# Restore to defaults\n",
        "matplotlib.rcParams.update({'font.size': 12, 'font.family': 'sans', 'text.usetex': False})"
      ],
      "execution_count": null,
      "outputs": []
    },
    {
      "cell_type": "markdown",
      "metadata": {
        "id": "CzoOLtUMwyqQ"
      },
      "source": [
        "Matplotlib can also handle 3-dimensional plots. For that we need to import the 3-dimensional axes submodule"
      ]
    },
    {
      "cell_type": "code",
      "metadata": {
        "id": "YBKaD3tKwyqQ"
      },
      "source": [
        "from mpl_toolkits.mplot3d.axes3d import Axes3D"
      ],
      "execution_count": null,
      "outputs": []
    },
    {
      "cell_type": "markdown",
      "metadata": {
        "id": "8c8H7hXqwyqQ"
      },
      "source": [
        "And now we can, for instance, plot surfaces"
      ]
    },
    {
      "cell_type": "code",
      "metadata": {
        "id": "PuxLNuRywyqR"
      },
      "source": [
        "X = np.linspace(-5, 5, 40)\n",
        "Y = np.arange(-5, 5, 0.25)  # Defining an array of equi-spaced numbers\n",
        "X, Y = np.meshgrid(X, Y)\n",
        "R = np.sqrt(X**2 + Y**2)\n",
        "Z = np.sin(R)\n",
        "\n",
        "fig = plt.figure()\n",
        "ax = fig.gca(projection='3d')\n",
        "\n",
        "surf = ax.plot_surface(X, Y, Z, cmap=matplotlib.cm.coolwarm,\n",
        "                       linewidth=0, antialiased=False)\n",
        "\n",
        "ax.set_zlim(-1.01, 1.01)\n",
        "\n",
        "fig.colorbar(surf, shrink=0.5)\n",
        "\n",
        "plt.show()"
      ],
      "execution_count": null,
      "outputs": []
    },
    {
      "cell_type": "markdown",
      "metadata": {
        "id": "BGosKtmlwyqR"
      },
      "source": [
        "The rest is all about exploring the parameter space. Here we manually create a grid (this is necessary if we mix 2D, 3D or polar coordinates), and plot a bunch of things that Matplotlib can do. For more examples, refer to the [gallery](http://matplotlib.org/gallery.html)."
      ]
    },
    {
      "cell_type": "code",
      "metadata": {
        "id": "Nw_uURuUwyqR"
      },
      "source": [
        "# Some new data will be necessary\n",
        "n = np.random.randn(100000)\n",
        "t = np.linspace(0, 2 * np.pi, 100)\n",
        "X, Y = np.meshgrid(t, t)\n",
        "Z = (2.7 - 2 * np.cos(Y) * np.cos(X) - 0.7 * np.cos(np.pi - 2*Y)).T\n",
        "\n",
        "# The actual plot\n",
        "fig = plt.figure(figsize=(12, 6))\n",
        "axes = [[],[]]\n",
        "\n",
        "axes[0].append(fig.add_subplot(2, 4, 1))\n",
        "axes[0][0].scatter(x, x ** 2 + 0.25 * np.random.randn(len(x)))\n",
        "axes[0][0].set_title('Scatter')\n",
        "\n",
        "axes[0].append(fig.add_subplot(2, 4, 2))\n",
        "axes[0][1].step(x, y1, lw=2)\n",
        "axes[0][1].set_title('Step')\n",
        "\n",
        "axes[0].append(fig.add_subplot(2, 4, 3))\n",
        "axes[0][2].bar(x, y1, align='center', width=0.5, alpha=0.5)\n",
        "axes[0][2].set_title('Bar')\n",
        "\n",
        "axes[0].append(fig.add_subplot(2, 4, 4))\n",
        "axes[0][3].fill_between(x, y1, y2, color='green', alpha=0.5);\n",
        "axes[0][3].set_title('Fill between');\n",
        "\n",
        "axes[1].append(fig.add_subplot(2, 4, 5))\n",
        "axes[1][0].hist(n, bins=100)\n",
        "axes[1][0].set_title('Histogram')\n",
        "axes[1][0].set_xlim((min(n), max(n)))\n",
        "\n",
        "axes[1].append(fig.add_subplot(2, 4, 6))\n",
        "axes[1][1].hist(n, bins=100, cumulative=True)\n",
        "axes[1][1].set_title('Cumulative histogram')\n",
        "axes[1][1].set_xlim((min(n), max(n)))\n",
        "\n",
        "axes[1].append(fig.add_subplot(2, 4, 7))\n",
        "p = axes[1][2].pcolor(X / (2 * np.pi), Y / (2 * np.pi), Z, cmap=matplotlib.cm.RdBu, vmin=abs(Z).min(), vmax=abs(Z).max())\n",
        "axes[1][2].set_title('Color map')\n",
        "fig.colorbar(p, ax=axes[1][2])\n",
        "\n",
        "axes[1].append(fig.add_subplot(2, 4, 8, polar=True))\n",
        "axes[1][3].plot(t, t, color='blue', lw=3);\n",
        "axes[1][3].set_title('Polar coordinates')\n",
        "\n",
        "fig.tight_layout()\n",
        "plt.show()"
      ],
      "execution_count": null,
      "outputs": []
    },
    {
      "cell_type": "markdown",
      "metadata": {
        "id": "KszhDOKVwyqS"
      },
      "source": [
        "**Exercise 1**. Create a three by three grid. Put the BIST logo in the center. Surround him with aesthetically pleasing functions in the remaining subplots. Hint: `matplotlib.image.imread(\"http://bist.eu/wp-content/uploads/2016/05/BIST-7-centres-GRISOS.png\")` will get you the BIST logo, and the function `imshow` will plot it."
      ]
    },
    {
      "cell_type": "code",
      "metadata": {
        "id": "v-aRqeeSwyqS"
      },
      "source": [
        ""
      ],
      "execution_count": null,
      "outputs": []
    },
    {
      "cell_type": "markdown",
      "metadata": {
        "id": "3yDD9xkiwyqS"
      },
      "source": [
        "### Seaborn and Pandas\n",
        "\n",
        "Seaborn is primarily meant for statistical plotting, but it also improves the defaults of all Matplotlib figures.\n",
        "\n",
        "#### Side Effect of Importing Seaborn\n",
        " \n",
        "Witness the magic:"
      ]
    },
    {
      "cell_type": "code",
      "metadata": {
        "id": "r9iKcYXrwyqS"
      },
      "source": [
        "plt.plot(x, x**2)\n",
        "plt.show()\n",
        "import seaborn as sns\n",
        "plt.plot(x, x**2)\n",
        "plt.show()"
      ],
      "execution_count": null,
      "outputs": []
    },
    {
      "cell_type": "markdown",
      "metadata": {
        "id": "A2DTT5d_wyqS"
      },
      "source": [
        "#### Add Pandas\n",
        "\n",
        "Pandas turns Python into a competitor to R. It allows you to do a wide-scale of statistical operations, but even more importantly, it makes low-level data processing chores easy. Here we load the standard Iris dataset from the web and convert it to a Pandas dataframe, which is the key data structure of the package."
      ]
    },
    {
      "cell_type": "code",
      "metadata": {
        "id": "Xo_UD1N1wyqS"
      },
      "source": [
        "import pandas as pd\n",
        "\n",
        "iris = pd.read_csv('https://archive.ics.uci.edu/ml/machine-learning-databases/iris/iris.data',\n",
        "                   names=['sepal length (cm)', 'sepal width (cm)', 'petal length (cm)', 'petal width (cm)', 'target'])\n",
        "iris.head()"
      ],
      "execution_count": null,
      "outputs": []
    },
    {
      "cell_type": "markdown",
      "metadata": {
        "id": "hyUTkCUkwyqS"
      },
      "source": [
        "Plotting with Pandas can be as easy as calling the `plot` command of the dataset."
      ]
    },
    {
      "cell_type": "code",
      "metadata": {
        "id": "ErbPrAtEwyqS"
      },
      "source": [
        "iris.plot()"
      ],
      "execution_count": null,
      "outputs": []
    },
    {
      "cell_type": "markdown",
      "metadata": {
        "id": "AS4d-1zBwyqT"
      },
      "source": [
        "We will however use seaborn for some still basic but nicer and more complete visualization"
      ]
    },
    {
      "cell_type": "code",
      "metadata": {
        "id": "20FNfnGNwyqT"
      },
      "source": [
        "sns.jointplot(x='sepal length (cm)', y='sepal width (cm)', data=iris, height=5);"
      ],
      "execution_count": null,
      "outputs": []
    },
    {
      "cell_type": "markdown",
      "metadata": {
        "id": "JnPh_olTwyqT"
      },
      "source": [
        "Let us define an array with all the names of the features and plot their correlations. "
      ]
    },
    {
      "cell_type": "code",
      "metadata": {
        "id": "50ZrcNv8wyqT"
      },
      "source": [
        "features = iris.columns.values[:-1]\n",
        "sns.pairplot(iris, vars=features, hue='target', height=3);"
      ],
      "execution_count": null,
      "outputs": []
    },
    {
      "cell_type": "markdown",
      "metadata": {
        "id": "TB2AreCHwyqT"
      },
      "source": [
        "**Exercise 2**. Plot the histogram of all four features. First, instantiate a Matplotlib figure in a one by four grid, and then pass the matching axes to Seaborn's `distplot` function that draws the histograms. A `figsize=(14, 4)` is a recommended parameter to `plt.subplots`, otherwise the figure will be too squished.\n",
        "\n",
        "*Optional: Use `zip` to iterate over the axes and the features simultaneously.*"
      ]
    },
    {
      "cell_type": "code",
      "metadata": {
        "id": "8GUV2byywyqT"
      },
      "source": [
        ""
      ],
      "execution_count": null,
      "outputs": []
    },
    {
      "cell_type": "markdown",
      "metadata": {
        "id": "DJm3vm_qwyqT"
      },
      "source": [
        "The curve you see in the image is the kernel density estimation, the density function that better approximates the observed distribution\n",
        "\n",
        "You might have noticed by now than Seaborn not only produces nicer plots, but also sometimes performs some data analysis on its own. Recall the `jointplot` a few steps above, where we were getting the Pearson's $r$ coefficient and the corresponding $p$ value. There is a special argument that you can pass to `jointplot` to plot a more complete analysis with the regression line, confidence intervals and kernel density estimation, the `kind` option:"
      ]
    },
    {
      "cell_type": "code",
      "metadata": {
        "id": "jva4fRNCwyqT"
      },
      "source": [
        "sns.jointplot(x='sepal length (cm)', y='petal width (cm)', data=iris, height=5, kind='reg')"
      ],
      "execution_count": null,
      "outputs": []
    },
    {
      "cell_type": "markdown",
      "metadata": {
        "id": "HxfinL1pwyqU"
      },
      "source": [
        "However, for general regression the most common plot is the `regplot`. It can perform linear and simple nonlinear regressions, eliminate outliers, and easily plot conditional data, among others. There is a nice tutorial on all these functionalities [here](https://seaborn.pydata.org/tutorial/regression.html).\n",
        "\n",
        "For instance, we can fit data to high-order polynomials by passing the argument `order`:"
      ]
    },
    {
      "cell_type": "code",
      "metadata": {
        "id": "nbYPXhVQwyqU"
      },
      "source": [
        "x = np.linspace(-6, 6, 100)\n",
        "y = x ** 4 + 2 * x ** 3 - 12 * x ** 2 - 2 * x + 6 * np.ones(len(x))\n",
        "y = y + 100 * np.random.rand(len(x))\n",
        "\n",
        "sns.regplot(x, y, label='First-order')\n",
        "sns.regplot(x, y, order=2, label='Second-order')\n",
        "sns.regplot(x, y, order=3, label='Third-order')\n",
        "sns.regplot(x, y, order=4, label='Fourth-order')\n",
        "sns.regplot(x, y, fit_reg=False)    # Plot the data in another color\n",
        "\n",
        "plt.xlim(-6.5,6.5)\n",
        "plt.ylim(-200,2000)\n",
        "\n",
        "plt.legend()\n",
        "plt.title('Nonlinear regressions')\n",
        "plt.show()"
      ],
      "execution_count": null,
      "outputs": []
    },
    {
      "cell_type": "markdown",
      "metadata": {
        "id": "o6Sn7qtpwyqU"
      },
      "source": [
        "**Exercise 3**. Plot the marginal distributions of `petal length` versus `sepal length` for each of the three families of  flowers. First plot the three of them in the same plot, then do it on separate subplots. Note that when you are doing the three on the same plot, you will have to modify your axes length to see all the data."
      ]
    },
    {
      "cell_type": "code",
      "metadata": {
        "id": "aJBwiFiRwyqU"
      },
      "source": [
        ""
      ],
      "execution_count": null,
      "outputs": []
    },
    {
      "cell_type": "markdown",
      "metadata": {
        "id": "gt-1a0fZwyqU"
      },
      "source": [
        "## Diffusion: a visual approach\n",
        "\n",
        "One of the scenarios in which statistics is most used in physics is in the study of stochastic process. In stochastic process, some of the variables take random values. Then, in order to study such systems, one needs to come with clever techniques. In the contrary, we could be looking just at the random noise generated by the process.\n",
        "\n",
        "In this session, we will take a closer look to what is called the diffusion problem, and more particularly, to the Brownian motion. Brownian motion was first *experimentally* discovered in 1826 by Robert Brown. It was not until 1905 that, simulaneously, Einstein and Smoluchowski developed the theory of diffusion and correctly explaining what Brown was observing. In his experiments, he saw that microscopical particles suspended in liquid show a jittering motion, which could not be explained by any of the existing theories. Einstein and Smoluchowski correctly predicted that such motion was due to the collision of the atoms and molecules of the liquid with the microscopical particles. However, due the huge number of collisions, it was impossible to develop a deterministic theory. In plain words, you never know were the next collision will happen and hence to which direction the particle will be pushed. To account for this, they proposed that the particled had a probability $P(x,t)$ to be in the position $x$ at time $t$. Then, its evolution was given by the diffusion equation:\n",
        "\\begin{equation}\n",
        "\\frac{d}{dt}P(x,t)=D\\frac{d^2}{dx^2} P(x,t)\n",
        "\\end{equation}\n",
        "where $D$ is defined as the diffusion coefficient. If the particle is released at the origin at time $t = 0$ in an unbounded space, the solution of the diffusion equation is the normalised Gaussian PDF:\n",
        "$$\n",
        "P(x,t) = \\frac{1}{\\sqrt{4\\pi D t}}\\exp\\left({-\\frac{x^2}{4Dt}}\\right)\n",
        "$$\n",
        "\n",
        "**Exercise 2: Random walks, a discrete approach to Brownian motion.** Almost at the same time Einstein and Smoluchowski developed the diffusion theory, Karl Pearson introduced what we know now as random walks. A random walker performs steps of regular length, but with random directions. This means that at each step, the walker throws a coin to see in which direction he goes. Your goal in this exercise is to check whether the random walk is a correct approximation to Brownian motion. To do this, you should follow the next steps:\n",
        "- Generate a function that given as input $T$ and $N$, generates a $N$ random walks in one dimension (i.e. only left and right) with step length of 1. The function should output the final position of the $N$ walkers. *Trick: you can either use a for loop to perform a random walk, or generate all the steps (i.e. $\\pm 1$ in this case) at once and perform a cumulative sum over it.*\n",
        "- Run the function >1000 times (as much as your computer allows, without exploding or waiting 123 years) to collect enought final positions for $T=10$.\n",
        "- Using the `seaborn` library and in particular the distplot, compare the results you have obtained with the PDF of the Brownian motion for $D=1/2$. Why this number? You can check it [here](https://www.csie.ntu.edu.tw/~lyuu/finance1/2014/20140423.pdf).\n",
        "- If everything went well, you should see a regular oscillation in your simulated data (i.e. the fitting that `seaborn` did). Such oscillations does no appear in the theoretical curve. Where does this oscillation come from?"
      ]
    },
    {
      "cell_type": "code",
      "metadata": {
        "id": "udqDg-sowyqU"
      },
      "source": [
        ""
      ],
      "execution_count": null,
      "outputs": []
    },
    {
      "cell_type": "markdown",
      "metadata": {
        "id": "jRzI1kUXwyqU"
      },
      "source": [
        "**Exercise 3 - Sampling from a given distribution function** In this exercise, we will take a look at a typical problem you may find while working with statitics and stochastic problems. Let's say that you are given a probability distribution function (PDF), e.g. $P(x)$. How do you sample numbers from this distribution? One of the usual approaches is to use the [Inverse transform sampling](https://en.wikipedia.org/wiki/Inverse_transform_sampling). The method works as following:\n",
        "1. Generate a random number $u$ from a continuous distribution $\\in [0,1]$. This is easily done with `np.random.rand()`.\n",
        "2. Calculate the cumulative distribution function (CDF) of $P(x)$, $C(x)$, and find its inverse $C^{-1}(x)$. \n",
        "3. Compute $x=C^{-1}(u)$. The random variable $x$ then follows the PDF $P(x)$.\n",
        "\n",
        "- Your first task is to sample 10000 numbers from the PDF $\\psi(t) = (\\alpha-1) t^{-1-\\alpha}$, where $0<\\alpha<1$. Use any of the plotting tools above to check that you correctly sample. Due to the properties of $\\psi(t)$, there is a probability of sampling a very big number. First of all, discard all numbers $> 100$. Use for instance $\\alpha = 0.5$. For plotting the random numbers generated, you can use `hist, bins = np.histogram` and then plotting the results. Plotting directly with `hist` will also work but the plot will be much uglier...\n"
      ]
    },
    {
      "cell_type": "code",
      "metadata": {
        "id": "HRdUoqJNwyqU"
      },
      "source": [
        ""
      ],
      "execution_count": null,
      "outputs": []
    },
    {
      "cell_type": "markdown",
      "metadata": {
        "id": "ySIghNWQwyqU"
      },
      "source": [
        "Now, we will use this technique to simulate a Continuous Time Random Walk (CTRW). This model considers a Brownian particle, but at each step, the walker stops for certain time, the *waiting time*, drawn from the distribution $\\psi(t) = t^{-1-\\alpha}$. To save some time, let us use a custom python package that simulates it for us:"
      ]
    },
    {
      "cell_type": "code",
      "metadata": {
        "id": "uCUX0fB3wyqV"
      },
      "source": [
        "import andi\n",
        "# T is the number of steps we want, alpha the value that goes in the waiting time distribution psi(t)\n",
        "trajectory = andi.diffusion_models.oneD().ctrw(T = 1000, alpha = 0.7)\n",
        "# A simple plot\n",
        "plt.plot(trajectory)"
      ],
      "execution_count": null,
      "outputs": []
    },
    {
      "cell_type": "markdown",
      "metadata": {
        "id": "nTsA8fzuwyqV"
      },
      "source": [
        "Now, what is the difference between the normal Brownian motion and CTRW? To check it, let's perform some averages!\n",
        "\n",
        "- Generate 10000 trajectories of BM and CTRW with $T = 1000$ steps. If you don't trust your own implementation of BM, you can use `andi.utils_andi.bm1D(T, D )`. For CTRW, consider $\\alpha = 0.5$. For Brownian motion, use $D=0.01$.\n",
        "- Calculate the mean squared displacement $\\left < x^2(t) \\right >$. This means, take the square of each trajectory and average over the set of 1000 trajectories.\n",
        "- Plot the mean squared displacement for both BM and CTRW). Can you see any difference? "
      ]
    },
    {
      "cell_type": "code",
      "metadata": {
        "id": "DYw5wkY2wyqV"
      },
      "source": [
        ""
      ],
      "execution_count": null,
      "outputs": []
    },
    {
      "cell_type": "markdown",
      "metadata": {
        "id": "poyXzsTnwyqV"
      },
      "source": [
        "## (Optional) Interactive Plotting\n",
        "\n",
        "Now we turn to review some packages very useful not only for visualizing data, but also interacting with it and obtaining individual information about the points studied. In particular we will review briefly the interactive capabilities of [Matplotlib](https://matplotlib.org/users/interactive.html), after which we will move on to the dedicated package [Bokeh](http://bokeh.pydata.org/en/latest/)."
      ]
    },
    {
      "cell_type": "markdown",
      "metadata": {
        "id": "M-364084wyqV"
      },
      "source": [
        "### Matplotlib\n",
        "\n",
        "Matplotlib contains some [interacting capabilities](https://matplotlib.org/users/interactive.html), although in general it is heavier to code and most of the features have to be coded by hand (and, as you will see, some of the features are not flawlessly implemented with Jupyter). Let us analyze an example where clicking on points give you the information about them."
      ]
    },
    {
      "cell_type": "code",
      "metadata": {
        "id": "VbvAFOGYwyqV"
      },
      "source": [
        "%matplotlib\n",
        "fig = plt.figure()\n",
        "ax = fig.add_subplot(111)\n",
        "ax.set_title('Click on points')\n",
        "\n",
        "line, = ax.plot(np.random.rand(100), 'o', picker=5)  # 5 points tolerance\n",
        "\n",
        "def onpick(event):\n",
        "    thisline = event.artist\n",
        "    xdata = thisline.get_xdata()\n",
        "    ydata = thisline.get_ydata()\n",
        "    ind = event.ind\n",
        "    points = tuple(zip(xdata[ind], ydata[ind]))\n",
        "    print('onpick points:', points)\n",
        "\n",
        "fig.canvas.mpl_connect('pick_event', onpick)\n",
        "\n",
        "plt.show()"
      ],
      "execution_count": null,
      "outputs": []
    },
    {
      "cell_type": "markdown",
      "metadata": {
        "id": "T7hY6d5kwyqV"
      },
      "source": [
        "You see it is relatively simple to create these interactive plots. However, Bokeh makes it everything much much simpler, and has a lot of interactive tools already built in.\n",
        "\n",
        "### Bokeh\n",
        "\n",
        "[Bokeh](http://bokeh.pydata.org/en/latest/) is a Python interactive visualization library. Not only it allows for creating aesthetically-pleasant plots (we already have Seaborn for that), but it also gives a lot of power to _interact with_ the plot. You can zoom, pan, focus on a subset of data..., and obtain live information of each data point as you scroll the mouse over it. As we will see, one of the peculiarities of Bokeh is that it does not operate on the notebook, but every plot is opened in a browser tab. Indeed, Bokeh \"translates\" the plot into HTML code that can then be shared easily without losing the interactivity.\n",
        "\n",
        "Let us begin with a simple example with randomly-generated points"
      ]
    },
    {
      "cell_type": "code",
      "metadata": {
        "id": "Jnk1Dt-XwyqV"
      },
      "source": [
        "import bokeh\n",
        "import bokeh.plotting as bkh"
      ],
      "execution_count": null,
      "outputs": []
    },
    {
      "cell_type": "code",
      "metadata": {
        "id": "rW6KP6IdwyqW"
      },
      "source": [
        "N = 4000\n",
        "x = np.random.random(size=N) * 100\n",
        "y = np.random.random(size=N) * 100\n",
        "radii = np.random.random(size=N) * 1.5\n",
        "\n",
        "# Colors for the points. Each color is written in RGB format #RRGGBB, where each of the intensities is specified by\n",
        "# a 2-digit hexadecimal number. Each of these numbers is specified by a string %02x. Note that we keep the\n",
        "# intensity of B constant, while R and G depend on the specific point\n",
        "colors = ['#%02x%02x%02x' % (int(r), int(g), 150) for r, g in zip(50 + 2 * x, 30 + 2 * y)]"
      ],
      "execution_count": null,
      "outputs": []
    },
    {
      "cell_type": "markdown",
      "metadata": {
        "id": "EPViqv2YwyqW"
      },
      "source": [
        "Bokeh contains some tools to interact with the plots. These include zooming, selecting som subset of data, panning... etc. You can check all the tools available in the [documentation](http://bokeh.pydata.org/en/latest/docs/user_guide/tools.html#built-in-tools)"
      ]
    },
    {
      "cell_type": "code",
      "metadata": {
        "id": "cP_oTMVQwyqW"
      },
      "source": [
        "TOOLS = 'hover,crosshair,pan,wheel_zoom,zoom_in,zoom_out,box_zoom,undo,redo,reset,tap,save,box_select,poly_select,lasso_select'"
      ],
      "execution_count": null,
      "outputs": []
    },
    {
      "cell_type": "markdown",
      "metadata": {
        "id": "Omoo--HTwyqW"
      },
      "source": [
        "As usual, we create a figure, now with the tools needed, and once the figure is created we can insert the plot. The only difference is that the command `show` will now open a new tab where the plot will be displayed"
      ]
    },
    {
      "cell_type": "code",
      "metadata": {
        "id": "XiVetRxrwyqW"
      },
      "source": [
        "p = bkh.figure(tools=TOOLS, title='Color scatter')\n",
        "\n",
        "p.scatter(x, y, radius=radii, fill_color=colors, fill_alpha=0.6, line_color=None)\n",
        "\n",
        "bkh.output_file('color_scatter.html', title='Color scatter example')\n",
        "\n",
        "bkh.show(p)"
      ],
      "execution_count": null,
      "outputs": []
    },
    {
      "cell_type": "markdown",
      "metadata": {
        "id": "snigiYt2wyqW"
      },
      "source": [
        "Note that to export the plots now we have called the `output_file` command, instead of Matplotlib's `savefig`. There is a difference, however: `output_file` can be called *before* creating the Figure environment and doing the plot (we will see an example a bit below), because it sets a higher \"environment\" where the figure will be created. Spend two minutes playing with the plot, using the tools and checking how information of the individual datapoints can be accessed.\n",
        "\n",
        "Bokeh works very similarly to Seaborn+Pandas in terms of syntax. The information of individual datapoints is contained in a `ColumnDataSource`, which can accept Pandas dataframes as inputs. Then, the information to display is specified when creating a custom `HoverTool` (included in `bokeh.models`). For example, let's say we want to show, for each point, not only its coordinates but also the information about its color and its radius."
      ]
    }
  ]
}