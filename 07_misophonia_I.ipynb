{
  "cells": [
    {
      "cell_type": "markdown",
      "metadata": {
        "id": "view-in-github",
        "colab_type": "text"
      },
      "source": [
        "<a href=\"https://colab.research.google.com/github/MMRES-PyBootcamp/MMRES-python-bootcamp2021/blob/master/07_misophonia_I.ipynb\" target=\"_parent\"><img src=\"https://colab.research.google.com/assets/colab-badge.svg\" alt=\"Open In Colab\"/></a>"
      ]
    },
    {
      "cell_type": "markdown",
      "metadata": {
        "id": "iBiTnm-2Rwq9"
      },
      "source": [
        "# Session 7 - Misophonia (First part)\n",
        "> Misophonia is a recently described neurological condition whereby patients feel strong anxiety when hearing particular noises (someone blowing their nose, mobile ringing, trains passing, etc..). It is believed that 5% of the population suffers from this condition without knowing it, likely blaming their anxiety on other causes.\n",
        "\n",
        "The misophonia dataset is from a recent (unpublished) study that aimed to describe the relationships between misophonia and anxiety, depression, and cephalometric measures (shape of the jaw)."
      ]
    },
    {
      "cell_type": "markdown",
      "metadata": {
        "id": "jWDIGMJGRwrC"
      },
      "source": [
        "<div class=\"alert alert-block alert-success\"><b>Practice:</b> Practice cells announce exercises that you should try during the current boot camp session.\n",
        "</div>"
      ]
    },
    {
      "cell_type": "markdown",
      "metadata": {
        "id": "q4z9h_ndRwrC"
      },
      "source": [
        "<div class=\"alert alert-block alert-warning\"><b>Extension:</b> Extension cells correspond to exercises (or links to contents) that are a bit more advanced. We recommend to try them after the current boot camp session.\n",
        "</div>"
      ]
    },
    {
      "cell_type": "markdown",
      "metadata": {
        "id": "mK6FlNnFRwrD"
      },
      "source": [
        "<div class=\"alert alert-block alert-info\"><b>Tip:</b> Tip cells just give some advice or complementary information.\n",
        "</div>"
      ]
    },
    {
      "cell_type": "markdown",
      "metadata": {
        "id": "SwpIs5FVRwrD"
      },
      "source": [
        "<div class=\"alert alert-block alert-danger\"><b>Caveat:</b> Caveat cells warn you about the most common pitfalls one founds when starts his/her path learning Python.\n",
        "\n",
        "</div>"
      ]
    },
    {
      "cell_type": "markdown",
      "metadata": {
        "id": "77XC87TbRwrE"
      },
      "source": [
        "**This document is devised as a tool to enable your self-learning process. If you get stuck at some step or need any kind of help, please don't hesitate to raise your hand and ask for the teacher's guidance.**\n",
        "\n",
        "---"
      ]
    },
    {
      "cell_type": "code",
      "source": [
        "import matplotlib.pyplot as plt\n",
        "import seaborn as sns\n",
        "import numpy as np\n",
        "\n"
      ],
      "metadata": {
        "id": "xTJKZ1FK_w1L"
      },
      "execution_count": null,
      "outputs": []
    },
    {
      "cell_type": "markdown",
      "metadata": {
        "id": "FATVWbEYRwrE"
      },
      "source": [
        "## Data loading\n",
        "\n",
        "Let's begin again by loading Pandas with the `pd` alias and by importing the misophonia dataset `misophonia_data.xlsx` from the `/MMRES-python-bootcamp2022/datasets` sub-folder:"
      ]
    },
    {
      "cell_type": "code",
      "execution_count": null,
      "metadata": {
        "id": "f-GEQ74bRwrF"
      },
      "outputs": [],
      "source": [
        "# Load package with its corresponding alias\n",
        "import pandas as pd\n",
        "\n",
        "# Reading an Excel SpreadSheet and storing it in as a DataFrame called `df`\n",
        "df = pd.read_excel(io='datasets/misophoinia_data.xlsx')\n",
        "\n",
        "# Return the DataFrame\n",
        "df"
      ]
    },
    {
      "cell_type": "markdown",
      "source": [
        "<div class=\"alert alert-block alert-warning\"><b>Extension:</b>\n",
        "\n",
        "We can load data from different file formats. Export the current dataset as a *.csv file, or as a *.tsv file and load it again using the proper function. You will have to find tehm in the documentation:\n",
        "\n",
        "https://pandas.pydata.org/docs/reference/api/pandas.DataFrame.to_csv.html\n",
        "\n",
        "https://pandas.pydata.org/pandas-docs/stable/user_guide/io.html\n",
        "</div>"
      ],
      "metadata": {
        "id": "XnXZ7cRkXsUh"
      }
    },
    {
      "cell_type": "markdown",
      "metadata": {
        "id": "DicSHOp8RwrH"
      },
      "source": [
        "### Data description\n",
        "\n",
        "Here is the description of the variables\n",
        "\n",
        "[1] “Misofonia”: Binary (si: misophinic, no: no misophinic)\n",
        "\n",
        "[2] “Misofonia.dic”: Categorical (0: no misophinic, 1: severity 1, 2: severity 2, 3: severity 3, 4: severity 4)\n",
        "\n",
        "[3] “Estado”: Marital status (casado: married, soltero: single, viuda: widow, divorciado:divorced)\n",
        "\n",
        "[4] “Estado.dic”: Numeric Marital status\n",
        "\n",
        "[5] “ansiedad.rasgo”: Score from 0-100 with anxiety personality trait\n",
        "\n",
        "[6] “ansiedad.rasgo.dic”: Binary score (0,1) of anxiety personality trait\n",
        "\n",
        "[7] “ansiedad.estado”: Score from 0-100 with current state of anxiety\n",
        "\n",
        "[8] “ansiedad.estado.dic”: Binary score (0,1) with current state of anxiety\n",
        "\n",
        "[9] “ansiedad.medicada”: Diagnosed with anxiety disorder (si, no)\n",
        "\n",
        "[10] “ansiedad.medicada.dic”: Diagnosed with anxiety disorder (1, 0)\n",
        "\n",
        "[11] “depresion”: Score from 0-50 with current state of depression\n",
        "\n",
        "[12] “depresion.dic” : Binary score (0,1) with current state of depression\n",
        "\n",
        "[13] “Sexo”: Male=H, Female:M\n",
        "\n",
        "[14] “Edad”: Age\n",
        "\n",
        "[15] “CLASE”: Type of jaw\n",
        "\n",
        "[16] “Angulo_convexidad”: convexity angle\n",
        "\n",
        "[17] “protusion.mandibular”: Projection of the jaw [18] “Angulo_cuelloYtercio”: angle between jaw and neck [19] “Subnasal_H”: Nasal angle\n",
        "\n",
        "[20] “cambio.autoconcepto”: Whether people changed their self-concept after treatment.\n",
        "\n",
        "[21] “Misofonia.post”: Misophionia diagnosed (A-MISO) after an educational program, where patients were made aware of a condition called misophonia.\n",
        "\n",
        "[22] “Misofonia.pre”: Misophionia diagnosed (A-MISO) before an educational program, where patients were made aware of a condition called misophonia\n",
        "\n",
        "[23] “ansiedad.dif”: Difference between anxiety state and anxiety trait scores\n",
        "\n",
        "<br><br>\n",
        "\n",
        "When reporting the results of a study, we first describe the variables of interest in tables and figures.\n",
        "\n",
        "We describe demographics (sex, age, marital status, etc..)\n",
        "\n",
        "We describe outcome variables (misophonia)"
      ]
    },
    {
      "cell_type": "markdown",
      "source": [
        "### 1. Descriptive statistics of explanatory variables\n",
        "\n",
        "\n",
        "We describe explanatory variables such as cephalometric measures, anxiety, depression, etc."
      ],
      "metadata": {
        "id": "JP2ZK7Kr0YqX"
      }
    },
    {
      "cell_type": "markdown",
      "source": [
        "\n",
        "<div class=\"alert alert-block alert-success\"><b>Practice:</b>\n",
        "\n",
        "Imagine we want to study the anxiety of participants in the misophonia study. Once loaded the data, describe the participants’ sex, age and marital status. \n",
        "</div>\n"
      ],
      "metadata": {
        "id": "Y20AoX2K7eLB"
      }
    },
    {
      "cell_type": "code",
      "execution_count": null,
      "metadata": {
        "id": "bcEtDgM3RwrI"
      },
      "outputs": [],
      "source": [
        "# Count the numnber of occurences of each value in a categorical variable\n",
        "from collections import Counter\n",
        "print(Counter(df['Sexo']))\n"
      ]
    },
    {
      "cell_type": "code",
      "source": [
        "\n",
        "# this is the same using pandas\n",
        "df.groupby('Sexo').size()\n"
      ],
      "metadata": {
        "id": "x8X1adzf-7tt"
      },
      "execution_count": null,
      "outputs": []
    },
    {
      "cell_type": "code",
      "source": [
        "# this way we can get the percentages\n",
        "df['Sexo'].value_counts(normalize=True) * 100"
      ],
      "metadata": {
        "id": "L7WCZOmk_DXR"
      },
      "execution_count": null,
      "outputs": []
    },
    {
      "cell_type": "code",
      "source": [
        "# plot the percentage using matplotlib\n",
        "\n",
        "fig, ax = plt.subplots()\n",
        "ax.bar([0,1],df['Sexo'].value_counts(normalize=True) * 100)\n",
        "ax.set_xticks([0,1])\n",
        "ax.set_xticklabels(['H','M'])\n",
        "ax.set_ylabel('Percentage')"
      ],
      "metadata": {
        "id": "iqUGJJeK0USS"
      },
      "execution_count": null,
      "outputs": []
    },
    {
      "cell_type": "code",
      "source": [
        "# plot the counts using seaborn\n",
        "fig, ax = plt.subplots()\n",
        "sns.countplot(data=df,x='Sexo')"
      ],
      "metadata": {
        "id": "FJPdq5oNAoCR"
      },
      "execution_count": null,
      "outputs": []
    },
    {
      "cell_type": "code",
      "source": [
        "#mean with pandas\n",
        "df['Edad'].mean()"
      ],
      "metadata": {
        "id": "lloa5ZaEWm7k"
      },
      "execution_count": null,
      "outputs": []
    },
    {
      "cell_type": "code",
      "source": [
        "#mean with numpy\n",
        "np.mean(df['Edad'])"
      ],
      "metadata": {
        "id": "VpsVPsLiW86A"
      },
      "execution_count": null,
      "outputs": []
    },
    {
      "cell_type": "code",
      "source": [
        "#standard deviation with numpy\n",
        "np.std(df['Edad'])"
      ],
      "metadata": {
        "id": "ow33q0InXLxB"
      },
      "execution_count": null,
      "outputs": []
    },
    {
      "cell_type": "code",
      "source": [
        "#standard deviation with pandas\n",
        "df['Edad'].std()"
      ],
      "metadata": {
        "id": "gsGk0VuIXXL6"
      },
      "execution_count": null,
      "outputs": []
    },
    {
      "cell_type": "code",
      "source": [
        "df['Edad'].describe()\n"
      ],
      "metadata": {
        "id": "qvWjS0XUX2fK"
      },
      "execution_count": null,
      "outputs": []
    },
    {
      "cell_type": "markdown",
      "source": [
        "<div class=\"alert alert-block alert-success\"><b>Practice:</b>\n",
        "\n",
        "Try to obtain the descriptive statistics shown above with the individual functions of numpy and/or pandas.\n",
        " \n",
        "</div>"
      ],
      "metadata": {
        "id": "X8vOS6fYaSBU"
      }
    },
    {
      "cell_type": "code",
      "source": [
        "# histogram\n",
        "sns.distplot(df['Edad'])"
      ],
      "metadata": {
        "id": "r61iz0knXuZK"
      },
      "execution_count": null,
      "outputs": []
    },
    {
      "cell_type": "code",
      "source": [
        "sns.boxplot(y=df['Edad'])"
      ],
      "metadata": {
        "id": "lkJZBy7jajt0"
      },
      "execution_count": null,
      "outputs": []
    },
    {
      "cell_type": "code",
      "source": [
        "fig, ax = plt.subplots()\n",
        "fig.set_size_inches(3, 5)\n",
        "sns.boxplot(data=df, y='Edad',ax=ax)"
      ],
      "metadata": {
        "id": "6vuRlEb6awOE"
      },
      "execution_count": null,
      "outputs": []
    },
    {
      "cell_type": "code",
      "source": [
        "# Age by sex\n",
        "maleage = df[df['Sexo']==\"H\"]['Edad']\n",
        "femaleage = df[df['Sexo']==\"M\"]['Edad']\n",
        "print('male age\\n',maleage.describe())\n",
        "print('female age\\n',femaleage.describe())"
      ],
      "metadata": {
        "id": "I1rf5SROem_z"
      },
      "execution_count": null,
      "outputs": []
    },
    {
      "cell_type": "code",
      "source": [
        "sns.boxplot(data=df,y='Edad', x='Sexo')"
      ],
      "metadata": {
        "id": "5pLgZu9Lf1gF"
      },
      "execution_count": null,
      "outputs": []
    },
    {
      "cell_type": "code",
      "source": [
        "# Marital status:\n",
        "maritaldf=df['Estado'].value_counts(normalize=True) * 100\n",
        "maritaldf"
      ],
      "metadata": {
        "id": "-eX_FP-Ag5uk"
      },
      "execution_count": null,
      "outputs": []
    },
    {
      "cell_type": "code",
      "source": [
        "plt.pie(maritaldf,labels=maritaldf.index)"
      ],
      "metadata": {
        "id": "nFMIvsvjhXuY"
      },
      "execution_count": null,
      "outputs": []
    },
    {
      "cell_type": "markdown",
      "source": [
        "### 2. Descriptive statistics of clinical outcome\n",
        "\n",
        "We have four measures of anxiety:\n",
        "<ul>\n",
        "  <li> ansiedad.rasgo (are you an anxious person?) continuous:0-100 </li>\n",
        "  <li> ansiedad.estado (are you currently feeling anxious?) continuous:0-100 </li>\n",
        "  <li> ansiedad.medicada (have you been diagnosed with an anxiety disorder?) binary (si, no) </li>\n",
        "  <li> ansiedad.dif (difference between ansiedad.estado and ansiedad.rasgo) </li>\n",
        "</ul>"
      ],
      "metadata": {
        "id": "x8RidpecjpY-"
      }
    },
    {
      "cell_type": "markdown",
      "source": [
        "#### Anxiety trait \n",
        "are you an anxious person?\n",
        "continuous:0-100"
      ],
      "metadata": {
        "id": "s4Agdyh3lAyw"
      }
    },
    {
      "cell_type": "code",
      "source": [
        "df['ansiedad.rasgo'].describe()"
      ],
      "metadata": {
        "id": "AblRKr7_jtr4"
      },
      "execution_count": null,
      "outputs": []
    },
    {
      "cell_type": "code",
      "source": [
        "sns.distplot(df['ansiedad.rasgo'])"
      ],
      "metadata": {
        "id": "gZGPYHxhkBMT"
      },
      "execution_count": null,
      "outputs": []
    },
    {
      "cell_type": "code",
      "source": [
        "fig, ax = plt.subplots()\n",
        "fig.set_size_inches(3, 5)\n",
        "sns.boxplot(data=df,y='ansiedad.rasgo',ax=ax)"
      ],
      "metadata": {
        "id": "DyQbC2uckMhn"
      },
      "execution_count": null,
      "outputs": []
    },
    {
      "cell_type": "code",
      "source": [
        ""
      ],
      "metadata": {
        "id": "wlkSNAz3kz25"
      },
      "execution_count": null,
      "outputs": []
    },
    {
      "cell_type": "markdown",
      "source": [
        "#### Anxiety state\n",
        "are you currently feeling anxious? \n",
        "*continuous*:0-100"
      ],
      "metadata": {
        "id": "nL5l7eBAk0Bq"
      }
    },
    {
      "cell_type": "code",
      "source": [
        "df['ansiedad.estado'].describe()"
      ],
      "metadata": {
        "id": "eSndujOykcHb"
      },
      "execution_count": null,
      "outputs": []
    },
    {
      "cell_type": "code",
      "source": [
        "sns.distplot(df['ansiedad.estado'])"
      ],
      "metadata": {
        "id": "K5x7UEJkkizN"
      },
      "execution_count": null,
      "outputs": []
    },
    {
      "cell_type": "code",
      "source": [
        "fig, ax = plt.subplots()\n",
        "fig.set_size_inches(3, 5)\n",
        "sns.boxplot(data=df,y='ansiedad.estado',ax=ax)"
      ],
      "metadata": {
        "id": "d9BJkRuUklWT"
      },
      "execution_count": null,
      "outputs": []
    },
    {
      "cell_type": "markdown",
      "source": [
        "#### Diagnosed\n",
        "have you been diagnosed with an anxiety disorder? binary (si, no)\n"
      ],
      "metadata": {
        "id": "SAb7e72uW_Dn"
      }
    },
    {
      "cell_type": "code",
      "source": [
        "# plot the counts using seaborn\n",
        "fig, ax = plt.subplots()\n",
        "sns.countplot(data=df,x='ansiedad.medicada')"
      ],
      "metadata": {
        "id": "GSogQHPokr-O"
      },
      "execution_count": null,
      "outputs": []
    },
    {
      "cell_type": "markdown",
      "source": [
        "#### Relationships between outcomes"
      ],
      "metadata": {
        "id": "I5nNMh-mY_pj"
      }
    },
    {
      "cell_type": "code",
      "source": [
        "fig, ax = plt.subplots()\n",
        "ax.scatter(df['ansiedad.rasgo'],df['ansiedad.estado'])\n",
        "ax.set_xlabel('ansiedad.rasgo')\n",
        "ax.set_ylabel('ansiedad.estado')\n"
      ],
      "metadata": {
        "id": "S959kVttY-3C"
      },
      "execution_count": null,
      "outputs": []
    },
    {
      "cell_type": "code",
      "source": [
        "sns.regplot(data=df,x='ansiedad.rasgo',y='ansiedad.estado')"
      ],
      "metadata": {
        "id": "y0kpMhvEZbFh"
      },
      "execution_count": null,
      "outputs": []
    },
    {
      "cell_type": "code",
      "source": [
        "sns.relplot(data=df,x='ansiedad.rasgo',y='ansiedad.estado',hue='ansiedad.medicada')"
      ],
      "metadata": {
        "id": "XBnGHZWpZwPw"
      },
      "execution_count": null,
      "outputs": []
    },
    {
      "cell_type": "markdown",
      "source": [
        "#### Relationships between explanatory and outcome variables"
      ],
      "metadata": {
        "id": "xvJDR0U2aSiQ"
      }
    },
    {
      "cell_type": "code",
      "source": [
        "# Trait by sex\n",
        "fig, ax = plt.subplots()\n",
        "fig.set_size_inches(3, 5)\n",
        "sns.boxplot(data=df, x='ansiedad.medicada', y='Edad',ax=ax)"
      ],
      "metadata": {
        "id": "ipjR7OzibIZg"
      },
      "execution_count": null,
      "outputs": []
    },
    {
      "cell_type": "code",
      "source": [
        "# State by sex\n",
        "fig, ax = plt.subplots()\n",
        "fig.set_size_inches(3, 5)\n",
        "sns.boxplot(data=df, x='Sexo', y='ansiedad.estado', ax=ax)"
      ],
      "metadata": {
        "id": "4LWC9TSJadVE"
      },
      "execution_count": null,
      "outputs": []
    },
    {
      "cell_type": "code",
      "source": [
        "# Diagnosed by sex\n",
        "# State by sex\n",
        "fig, ax = plt.subplots()\n",
        "fig.set_size_inches(3, 5)\n",
        "sns.boxplot(data=df, x='Sexo', y='ansiedad.estado', hue='ansiedad.medicada', ax=ax)"
      ],
      "metadata": {
        "id": "4ysG3HN1a5EZ"
      },
      "execution_count": null,
      "outputs": []
    },
    {
      "cell_type": "code",
      "source": [
        "# plot the percentages using seaborn\n",
        "\n",
        "x, y, hue = \"ansiedad.medicada\", \"proportion\", \"Sexo\"\n",
        "hue_order = [\"M\", \"H\"]\n",
        "\n",
        "(df[x]\n",
        " .groupby(df[hue])\n",
        " .value_counts(normalize=True)\n",
        " .rename(y)\n",
        " .reset_index()\n",
        " .pipe((sns.barplot, \"data\"), x=x, y=y, hue=hue))"
      ],
      "metadata": {
        "id": "p1jMprADBCot"
      },
      "execution_count": null,
      "outputs": []
    },
    {
      "cell_type": "code",
      "source": [
        "#conditional frequencies by sex\n",
        "pd.crosstab(df['Sexo'],df['ansiedad.medicada'],normalize='index')\n"
      ],
      "metadata": {
        "id": "rsv8uO3Zgh2j"
      },
      "execution_count": null,
      "outputs": []
    },
    {
      "cell_type": "code",
      "source": [
        "#Trait Vs age\n",
        "sns.scatterplot(df['Edad'], df['ansiedad.rasgo'])"
      ],
      "metadata": {
        "id": "r7TbWiCBSr3G"
      },
      "execution_count": null,
      "outputs": []
    },
    {
      "cell_type": "code",
      "source": [
        "#State Vs age\n",
        "sns.scatterplot(df['Edad'], df['ansiedad.estado'])"
      ],
      "metadata": {
        "id": "vnHtsH04TO12"
      },
      "execution_count": null,
      "outputs": []
    },
    {
      "cell_type": "code",
      "source": [
        "#age by diagnosis\n",
        "sns.boxplot(data=df,y='Edad',x='ansiedad.medicada')"
      ],
      "metadata": {
        "id": "FXj2WNDaTfFO"
      },
      "execution_count": null,
      "outputs": []
    }
  ],
  "metadata": {
    "colab": {
      "name": "07_misophonia_I.ipynb",
      "provenance": [],
      "collapsed_sections": [],
      "toc_visible": true,
      "include_colab_link": true
    },
    "kernelspec": {
      "display_name": "Python 3 (ipykernel)",
      "language": "python",
      "name": "python3"
    },
    "language_info": {
      "codemirror_mode": {
        "name": "ipython",
        "version": 3
      },
      "file_extension": ".py",
      "mimetype": "text/x-python",
      "name": "python",
      "nbconvert_exporter": "python",
      "pygments_lexer": "ipython3",
      "version": "3.8.8"
    }
  },
  "nbformat": 4,
  "nbformat_minor": 0
}