{
  "nbformat": 4,
  "nbformat_minor": 0,
  "metadata": {
    "colab": {
      "name": "08_scipy_stats.ipynb",
      "provenance": [],
      "collapsed_sections": [],
      "toc_visible": true,
      "include_colab_link": true
    },
    "kernelspec": {
      "name": "python3",
      "display_name": "Python 3"
    },
    "language_info": {
      "name": "python"
    }
  },
  "cells": [
    {
      "cell_type": "markdown",
      "metadata": {
        "id": "view-in-github",
        "colab_type": "text"
      },
      "source": [
        "<a href=\"https://colab.research.google.com/github/MMRES-PyBootcamp/MMRES-python-bootcamp2021/blob/master/08_scipy_stats.ipynb\" target=\"_parent\"><img src=\"https://colab.research.google.com/assets/colab-badge.svg\" alt=\"Open In Colab\"/></a>"
      ]
    },
    {
      "cell_type": "markdown",
      "metadata": {
        "id": "bqAIqBlSmD4w"
      },
      "source": [
        "# Session 8 - Statistics in Python (Second part)\n",
        "\n",
        "sources:\n",
        "\n",
        "https://medium.com/insights-school/learn-basic-statistics-with-python-cc0f45275929\n",
        "\n",
        "https://scipy-lectures.org/intro/scipy.html#scipy\n"
      ]
    },
    {
      "cell_type": "code",
      "metadata": {
        "id": "86WqXweTk9Jh"
      },
      "source": [
        "import math\n",
        "import statistics\n",
        "from scipy import stats\n",
        "import numpy as np\n",
        "import pandas as pd\n",
        "import seaborn as sns\n"
      ],
      "execution_count": 3,
      "outputs": []
    },
    {
      "cell_type": "code",
      "source": [
        "data = pd.read_csv('https://scipy-lectures.org/_downloads/brain_size.csv', sep=';', na_values=\".\")\n",
        "data"
      ],
      "metadata": {
        "colab": {
          "base_uri": "https://localhost:8080/",
          "height": 1000
        },
        "id": "FWO0aVaNX09J",
        "outputId": "b36072f0-110a-4bf4-a5a6-99bc550cbbaf"
      },
      "execution_count": 4,
      "outputs": [
        {
          "output_type": "execute_result",
          "data": {
            "text/plain": [
              "    Unnamed: 0  Gender  FSIQ  VIQ  PIQ  Weight  Height  MRI_Count\n",
              "0            1  Female   133  132  124   118.0    64.5     816932\n",
              "1            2    Male   140  150  124     NaN    72.5    1001121\n",
              "2            3    Male   139  123  150   143.0    73.3    1038437\n",
              "3            4    Male   133  129  128   172.0    68.8     965353\n",
              "4            5  Female   137  132  134   147.0    65.0     951545\n",
              "5            6  Female    99   90  110   146.0    69.0     928799\n",
              "6            7  Female   138  136  131   138.0    64.5     991305\n",
              "7            8  Female    92   90   98   175.0    66.0     854258\n",
              "8            9    Male    89   93   84   134.0    66.3     904858\n",
              "9           10    Male   133  114  147   172.0    68.8     955466\n",
              "10          11  Female   132  129  124   118.0    64.5     833868\n",
              "11          12    Male   141  150  128   151.0    70.0    1079549\n",
              "12          13    Male   135  129  124   155.0    69.0     924059\n",
              "13          14  Female   140  120  147   155.0    70.5     856472\n",
              "14          15  Female    96  100   90   146.0    66.0     878897\n",
              "15          16  Female    83   71   96   135.0    68.0     865363\n",
              "16          17  Female   132  132  120   127.0    68.5     852244\n",
              "17          18    Male   100   96  102   178.0    73.5     945088\n",
              "18          19  Female   101  112   84   136.0    66.3     808020\n",
              "19          20    Male    80   77   86   180.0    70.0     889083\n",
              "20          21    Male    83   83   86     NaN     NaN     892420\n",
              "21          22    Male    97  107   84   186.0    76.5     905940\n",
              "22          23  Female   135  129  134   122.0    62.0     790619\n",
              "23          24    Male   139  145  128   132.0    68.0     955003\n",
              "24          25  Female    91   86  102   114.0    63.0     831772\n",
              "25          26    Male   141  145  131   171.0    72.0     935494\n",
              "26          27  Female    85   90   84   140.0    68.0     798612\n",
              "27          28    Male   103   96  110   187.0    77.0    1062462\n",
              "28          29  Female    77   83   72   106.0    63.0     793549\n",
              "29          30  Female   130  126  124   159.0    66.5     866662\n",
              "30          31  Female   133  126  132   127.0    62.5     857782\n",
              "31          32    Male   144  145  137   191.0    67.0     949589\n",
              "32          33    Male   103   96  110   192.0    75.5     997925\n",
              "33          34    Male    90   96   86   181.0    69.0     879987\n",
              "34          35  Female    83   90   81   143.0    66.5     834344\n",
              "35          36  Female   133  129  128   153.0    66.5     948066\n",
              "36          37    Male   140  150  124   144.0    70.5     949395\n",
              "37          38  Female    88   86   94   139.0    64.5     893983\n",
              "38          39    Male    81   90   74   148.0    74.0     930016\n",
              "39          40    Male    89   91   89   179.0    75.5     935863"
            ],
            "text/html": [
              "\n",
              "  <div id=\"df-ccb00346-f6f7-4fa1-9fed-d153ba573ee5\">\n",
              "    <div class=\"colab-df-container\">\n",
              "      <div>\n",
              "<style scoped>\n",
              "    .dataframe tbody tr th:only-of-type {\n",
              "        vertical-align: middle;\n",
              "    }\n",
              "\n",
              "    .dataframe tbody tr th {\n",
              "        vertical-align: top;\n",
              "    }\n",
              "\n",
              "    .dataframe thead th {\n",
              "        text-align: right;\n",
              "    }\n",
              "</style>\n",
              "<table border=\"1\" class=\"dataframe\">\n",
              "  <thead>\n",
              "    <tr style=\"text-align: right;\">\n",
              "      <th></th>\n",
              "      <th>Unnamed: 0</th>\n",
              "      <th>Gender</th>\n",
              "      <th>FSIQ</th>\n",
              "      <th>VIQ</th>\n",
              "      <th>PIQ</th>\n",
              "      <th>Weight</th>\n",
              "      <th>Height</th>\n",
              "      <th>MRI_Count</th>\n",
              "    </tr>\n",
              "  </thead>\n",
              "  <tbody>\n",
              "    <tr>\n",
              "      <th>0</th>\n",
              "      <td>1</td>\n",
              "      <td>Female</td>\n",
              "      <td>133</td>\n",
              "      <td>132</td>\n",
              "      <td>124</td>\n",
              "      <td>118.0</td>\n",
              "      <td>64.5</td>\n",
              "      <td>816932</td>\n",
              "    </tr>\n",
              "    <tr>\n",
              "      <th>1</th>\n",
              "      <td>2</td>\n",
              "      <td>Male</td>\n",
              "      <td>140</td>\n",
              "      <td>150</td>\n",
              "      <td>124</td>\n",
              "      <td>NaN</td>\n",
              "      <td>72.5</td>\n",
              "      <td>1001121</td>\n",
              "    </tr>\n",
              "    <tr>\n",
              "      <th>2</th>\n",
              "      <td>3</td>\n",
              "      <td>Male</td>\n",
              "      <td>139</td>\n",
              "      <td>123</td>\n",
              "      <td>150</td>\n",
              "      <td>143.0</td>\n",
              "      <td>73.3</td>\n",
              "      <td>1038437</td>\n",
              "    </tr>\n",
              "    <tr>\n",
              "      <th>3</th>\n",
              "      <td>4</td>\n",
              "      <td>Male</td>\n",
              "      <td>133</td>\n",
              "      <td>129</td>\n",
              "      <td>128</td>\n",
              "      <td>172.0</td>\n",
              "      <td>68.8</td>\n",
              "      <td>965353</td>\n",
              "    </tr>\n",
              "    <tr>\n",
              "      <th>4</th>\n",
              "      <td>5</td>\n",
              "      <td>Female</td>\n",
              "      <td>137</td>\n",
              "      <td>132</td>\n",
              "      <td>134</td>\n",
              "      <td>147.0</td>\n",
              "      <td>65.0</td>\n",
              "      <td>951545</td>\n",
              "    </tr>\n",
              "    <tr>\n",
              "      <th>5</th>\n",
              "      <td>6</td>\n",
              "      <td>Female</td>\n",
              "      <td>99</td>\n",
              "      <td>90</td>\n",
              "      <td>110</td>\n",
              "      <td>146.0</td>\n",
              "      <td>69.0</td>\n",
              "      <td>928799</td>\n",
              "    </tr>\n",
              "    <tr>\n",
              "      <th>6</th>\n",
              "      <td>7</td>\n",
              "      <td>Female</td>\n",
              "      <td>138</td>\n",
              "      <td>136</td>\n",
              "      <td>131</td>\n",
              "      <td>138.0</td>\n",
              "      <td>64.5</td>\n",
              "      <td>991305</td>\n",
              "    </tr>\n",
              "    <tr>\n",
              "      <th>7</th>\n",
              "      <td>8</td>\n",
              "      <td>Female</td>\n",
              "      <td>92</td>\n",
              "      <td>90</td>\n",
              "      <td>98</td>\n",
              "      <td>175.0</td>\n",
              "      <td>66.0</td>\n",
              "      <td>854258</td>\n",
              "    </tr>\n",
              "    <tr>\n",
              "      <th>8</th>\n",
              "      <td>9</td>\n",
              "      <td>Male</td>\n",
              "      <td>89</td>\n",
              "      <td>93</td>\n",
              "      <td>84</td>\n",
              "      <td>134.0</td>\n",
              "      <td>66.3</td>\n",
              "      <td>904858</td>\n",
              "    </tr>\n",
              "    <tr>\n",
              "      <th>9</th>\n",
              "      <td>10</td>\n",
              "      <td>Male</td>\n",
              "      <td>133</td>\n",
              "      <td>114</td>\n",
              "      <td>147</td>\n",
              "      <td>172.0</td>\n",
              "      <td>68.8</td>\n",
              "      <td>955466</td>\n",
              "    </tr>\n",
              "    <tr>\n",
              "      <th>10</th>\n",
              "      <td>11</td>\n",
              "      <td>Female</td>\n",
              "      <td>132</td>\n",
              "      <td>129</td>\n",
              "      <td>124</td>\n",
              "      <td>118.0</td>\n",
              "      <td>64.5</td>\n",
              "      <td>833868</td>\n",
              "    </tr>\n",
              "    <tr>\n",
              "      <th>11</th>\n",
              "      <td>12</td>\n",
              "      <td>Male</td>\n",
              "      <td>141</td>\n",
              "      <td>150</td>\n",
              "      <td>128</td>\n",
              "      <td>151.0</td>\n",
              "      <td>70.0</td>\n",
              "      <td>1079549</td>\n",
              "    </tr>\n",
              "    <tr>\n",
              "      <th>12</th>\n",
              "      <td>13</td>\n",
              "      <td>Male</td>\n",
              "      <td>135</td>\n",
              "      <td>129</td>\n",
              "      <td>124</td>\n",
              "      <td>155.0</td>\n",
              "      <td>69.0</td>\n",
              "      <td>924059</td>\n",
              "    </tr>\n",
              "    <tr>\n",
              "      <th>13</th>\n",
              "      <td>14</td>\n",
              "      <td>Female</td>\n",
              "      <td>140</td>\n",
              "      <td>120</td>\n",
              "      <td>147</td>\n",
              "      <td>155.0</td>\n",
              "      <td>70.5</td>\n",
              "      <td>856472</td>\n",
              "    </tr>\n",
              "    <tr>\n",
              "      <th>14</th>\n",
              "      <td>15</td>\n",
              "      <td>Female</td>\n",
              "      <td>96</td>\n",
              "      <td>100</td>\n",
              "      <td>90</td>\n",
              "      <td>146.0</td>\n",
              "      <td>66.0</td>\n",
              "      <td>878897</td>\n",
              "    </tr>\n",
              "    <tr>\n",
              "      <th>15</th>\n",
              "      <td>16</td>\n",
              "      <td>Female</td>\n",
              "      <td>83</td>\n",
              "      <td>71</td>\n",
              "      <td>96</td>\n",
              "      <td>135.0</td>\n",
              "      <td>68.0</td>\n",
              "      <td>865363</td>\n",
              "    </tr>\n",
              "    <tr>\n",
              "      <th>16</th>\n",
              "      <td>17</td>\n",
              "      <td>Female</td>\n",
              "      <td>132</td>\n",
              "      <td>132</td>\n",
              "      <td>120</td>\n",
              "      <td>127.0</td>\n",
              "      <td>68.5</td>\n",
              "      <td>852244</td>\n",
              "    </tr>\n",
              "    <tr>\n",
              "      <th>17</th>\n",
              "      <td>18</td>\n",
              "      <td>Male</td>\n",
              "      <td>100</td>\n",
              "      <td>96</td>\n",
              "      <td>102</td>\n",
              "      <td>178.0</td>\n",
              "      <td>73.5</td>\n",
              "      <td>945088</td>\n",
              "    </tr>\n",
              "    <tr>\n",
              "      <th>18</th>\n",
              "      <td>19</td>\n",
              "      <td>Female</td>\n",
              "      <td>101</td>\n",
              "      <td>112</td>\n",
              "      <td>84</td>\n",
              "      <td>136.0</td>\n",
              "      <td>66.3</td>\n",
              "      <td>808020</td>\n",
              "    </tr>\n",
              "    <tr>\n",
              "      <th>19</th>\n",
              "      <td>20</td>\n",
              "      <td>Male</td>\n",
              "      <td>80</td>\n",
              "      <td>77</td>\n",
              "      <td>86</td>\n",
              "      <td>180.0</td>\n",
              "      <td>70.0</td>\n",
              "      <td>889083</td>\n",
              "    </tr>\n",
              "    <tr>\n",
              "      <th>20</th>\n",
              "      <td>21</td>\n",
              "      <td>Male</td>\n",
              "      <td>83</td>\n",
              "      <td>83</td>\n",
              "      <td>86</td>\n",
              "      <td>NaN</td>\n",
              "      <td>NaN</td>\n",
              "      <td>892420</td>\n",
              "    </tr>\n",
              "    <tr>\n",
              "      <th>21</th>\n",
              "      <td>22</td>\n",
              "      <td>Male</td>\n",
              "      <td>97</td>\n",
              "      <td>107</td>\n",
              "      <td>84</td>\n",
              "      <td>186.0</td>\n",
              "      <td>76.5</td>\n",
              "      <td>905940</td>\n",
              "    </tr>\n",
              "    <tr>\n",
              "      <th>22</th>\n",
              "      <td>23</td>\n",
              "      <td>Female</td>\n",
              "      <td>135</td>\n",
              "      <td>129</td>\n",
              "      <td>134</td>\n",
              "      <td>122.0</td>\n",
              "      <td>62.0</td>\n",
              "      <td>790619</td>\n",
              "    </tr>\n",
              "    <tr>\n",
              "      <th>23</th>\n",
              "      <td>24</td>\n",
              "      <td>Male</td>\n",
              "      <td>139</td>\n",
              "      <td>145</td>\n",
              "      <td>128</td>\n",
              "      <td>132.0</td>\n",
              "      <td>68.0</td>\n",
              "      <td>955003</td>\n",
              "    </tr>\n",
              "    <tr>\n",
              "      <th>24</th>\n",
              "      <td>25</td>\n",
              "      <td>Female</td>\n",
              "      <td>91</td>\n",
              "      <td>86</td>\n",
              "      <td>102</td>\n",
              "      <td>114.0</td>\n",
              "      <td>63.0</td>\n",
              "      <td>831772</td>\n",
              "    </tr>\n",
              "    <tr>\n",
              "      <th>25</th>\n",
              "      <td>26</td>\n",
              "      <td>Male</td>\n",
              "      <td>141</td>\n",
              "      <td>145</td>\n",
              "      <td>131</td>\n",
              "      <td>171.0</td>\n",
              "      <td>72.0</td>\n",
              "      <td>935494</td>\n",
              "    </tr>\n",
              "    <tr>\n",
              "      <th>26</th>\n",
              "      <td>27</td>\n",
              "      <td>Female</td>\n",
              "      <td>85</td>\n",
              "      <td>90</td>\n",
              "      <td>84</td>\n",
              "      <td>140.0</td>\n",
              "      <td>68.0</td>\n",
              "      <td>798612</td>\n",
              "    </tr>\n",
              "    <tr>\n",
              "      <th>27</th>\n",
              "      <td>28</td>\n",
              "      <td>Male</td>\n",
              "      <td>103</td>\n",
              "      <td>96</td>\n",
              "      <td>110</td>\n",
              "      <td>187.0</td>\n",
              "      <td>77.0</td>\n",
              "      <td>1062462</td>\n",
              "    </tr>\n",
              "    <tr>\n",
              "      <th>28</th>\n",
              "      <td>29</td>\n",
              "      <td>Female</td>\n",
              "      <td>77</td>\n",
              "      <td>83</td>\n",
              "      <td>72</td>\n",
              "      <td>106.0</td>\n",
              "      <td>63.0</td>\n",
              "      <td>793549</td>\n",
              "    </tr>\n",
              "    <tr>\n",
              "      <th>29</th>\n",
              "      <td>30</td>\n",
              "      <td>Female</td>\n",
              "      <td>130</td>\n",
              "      <td>126</td>\n",
              "      <td>124</td>\n",
              "      <td>159.0</td>\n",
              "      <td>66.5</td>\n",
              "      <td>866662</td>\n",
              "    </tr>\n",
              "    <tr>\n",
              "      <th>30</th>\n",
              "      <td>31</td>\n",
              "      <td>Female</td>\n",
              "      <td>133</td>\n",
              "      <td>126</td>\n",
              "      <td>132</td>\n",
              "      <td>127.0</td>\n",
              "      <td>62.5</td>\n",
              "      <td>857782</td>\n",
              "    </tr>\n",
              "    <tr>\n",
              "      <th>31</th>\n",
              "      <td>32</td>\n",
              "      <td>Male</td>\n",
              "      <td>144</td>\n",
              "      <td>145</td>\n",
              "      <td>137</td>\n",
              "      <td>191.0</td>\n",
              "      <td>67.0</td>\n",
              "      <td>949589</td>\n",
              "    </tr>\n",
              "    <tr>\n",
              "      <th>32</th>\n",
              "      <td>33</td>\n",
              "      <td>Male</td>\n",
              "      <td>103</td>\n",
              "      <td>96</td>\n",
              "      <td>110</td>\n",
              "      <td>192.0</td>\n",
              "      <td>75.5</td>\n",
              "      <td>997925</td>\n",
              "    </tr>\n",
              "    <tr>\n",
              "      <th>33</th>\n",
              "      <td>34</td>\n",
              "      <td>Male</td>\n",
              "      <td>90</td>\n",
              "      <td>96</td>\n",
              "      <td>86</td>\n",
              "      <td>181.0</td>\n",
              "      <td>69.0</td>\n",
              "      <td>879987</td>\n",
              "    </tr>\n",
              "    <tr>\n",
              "      <th>34</th>\n",
              "      <td>35</td>\n",
              "      <td>Female</td>\n",
              "      <td>83</td>\n",
              "      <td>90</td>\n",
              "      <td>81</td>\n",
              "      <td>143.0</td>\n",
              "      <td>66.5</td>\n",
              "      <td>834344</td>\n",
              "    </tr>\n",
              "    <tr>\n",
              "      <th>35</th>\n",
              "      <td>36</td>\n",
              "      <td>Female</td>\n",
              "      <td>133</td>\n",
              "      <td>129</td>\n",
              "      <td>128</td>\n",
              "      <td>153.0</td>\n",
              "      <td>66.5</td>\n",
              "      <td>948066</td>\n",
              "    </tr>\n",
              "    <tr>\n",
              "      <th>36</th>\n",
              "      <td>37</td>\n",
              "      <td>Male</td>\n",
              "      <td>140</td>\n",
              "      <td>150</td>\n",
              "      <td>124</td>\n",
              "      <td>144.0</td>\n",
              "      <td>70.5</td>\n",
              "      <td>949395</td>\n",
              "    </tr>\n",
              "    <tr>\n",
              "      <th>37</th>\n",
              "      <td>38</td>\n",
              "      <td>Female</td>\n",
              "      <td>88</td>\n",
              "      <td>86</td>\n",
              "      <td>94</td>\n",
              "      <td>139.0</td>\n",
              "      <td>64.5</td>\n",
              "      <td>893983</td>\n",
              "    </tr>\n",
              "    <tr>\n",
              "      <th>38</th>\n",
              "      <td>39</td>\n",
              "      <td>Male</td>\n",
              "      <td>81</td>\n",
              "      <td>90</td>\n",
              "      <td>74</td>\n",
              "      <td>148.0</td>\n",
              "      <td>74.0</td>\n",
              "      <td>930016</td>\n",
              "    </tr>\n",
              "    <tr>\n",
              "      <th>39</th>\n",
              "      <td>40</td>\n",
              "      <td>Male</td>\n",
              "      <td>89</td>\n",
              "      <td>91</td>\n",
              "      <td>89</td>\n",
              "      <td>179.0</td>\n",
              "      <td>75.5</td>\n",
              "      <td>935863</td>\n",
              "    </tr>\n",
              "  </tbody>\n",
              "</table>\n",
              "</div>\n",
              "      <button class=\"colab-df-convert\" onclick=\"convertToInteractive('df-ccb00346-f6f7-4fa1-9fed-d153ba573ee5')\"\n",
              "              title=\"Convert this dataframe to an interactive table.\"\n",
              "              style=\"display:none;\">\n",
              "        \n",
              "  <svg xmlns=\"http://www.w3.org/2000/svg\" height=\"24px\"viewBox=\"0 0 24 24\"\n",
              "       width=\"24px\">\n",
              "    <path d=\"M0 0h24v24H0V0z\" fill=\"none\"/>\n",
              "    <path d=\"M18.56 5.44l.94 2.06.94-2.06 2.06-.94-2.06-.94-.94-2.06-.94 2.06-2.06.94zm-11 1L8.5 8.5l.94-2.06 2.06-.94-2.06-.94L8.5 2.5l-.94 2.06-2.06.94zm10 10l.94 2.06.94-2.06 2.06-.94-2.06-.94-.94-2.06-.94 2.06-2.06.94z\"/><path d=\"M17.41 7.96l-1.37-1.37c-.4-.4-.92-.59-1.43-.59-.52 0-1.04.2-1.43.59L10.3 9.45l-7.72 7.72c-.78.78-.78 2.05 0 2.83L4 21.41c.39.39.9.59 1.41.59.51 0 1.02-.2 1.41-.59l7.78-7.78 2.81-2.81c.8-.78.8-2.07 0-2.86zM5.41 20L4 18.59l7.72-7.72 1.47 1.35L5.41 20z\"/>\n",
              "  </svg>\n",
              "      </button>\n",
              "      \n",
              "  <style>\n",
              "    .colab-df-container {\n",
              "      display:flex;\n",
              "      flex-wrap:wrap;\n",
              "      gap: 12px;\n",
              "    }\n",
              "\n",
              "    .colab-df-convert {\n",
              "      background-color: #E8F0FE;\n",
              "      border: none;\n",
              "      border-radius: 50%;\n",
              "      cursor: pointer;\n",
              "      display: none;\n",
              "      fill: #1967D2;\n",
              "      height: 32px;\n",
              "      padding: 0 0 0 0;\n",
              "      width: 32px;\n",
              "    }\n",
              "\n",
              "    .colab-df-convert:hover {\n",
              "      background-color: #E2EBFA;\n",
              "      box-shadow: 0px 1px 2px rgba(60, 64, 67, 0.3), 0px 1px 3px 1px rgba(60, 64, 67, 0.15);\n",
              "      fill: #174EA6;\n",
              "    }\n",
              "\n",
              "    [theme=dark] .colab-df-convert {\n",
              "      background-color: #3B4455;\n",
              "      fill: #D2E3FC;\n",
              "    }\n",
              "\n",
              "    [theme=dark] .colab-df-convert:hover {\n",
              "      background-color: #434B5C;\n",
              "      box-shadow: 0px 1px 3px 1px rgba(0, 0, 0, 0.15);\n",
              "      filter: drop-shadow(0px 1px 2px rgba(0, 0, 0, 0.3));\n",
              "      fill: #FFFFFF;\n",
              "    }\n",
              "  </style>\n",
              "\n",
              "      <script>\n",
              "        const buttonEl =\n",
              "          document.querySelector('#df-ccb00346-f6f7-4fa1-9fed-d153ba573ee5 button.colab-df-convert');\n",
              "        buttonEl.style.display =\n",
              "          google.colab.kernel.accessAllowed ? 'block' : 'none';\n",
              "\n",
              "        async function convertToInteractive(key) {\n",
              "          const element = document.querySelector('#df-ccb00346-f6f7-4fa1-9fed-d153ba573ee5');\n",
              "          const dataTable =\n",
              "            await google.colab.kernel.invokeFunction('convertToInteractive',\n",
              "                                                     [key], {});\n",
              "          if (!dataTable) return;\n",
              "\n",
              "          const docLinkHtml = 'Like what you see? Visit the ' +\n",
              "            '<a target=\"_blank\" href=https://colab.research.google.com/notebooks/data_table.ipynb>data table notebook</a>'\n",
              "            + ' to learn more about interactive tables.';\n",
              "          element.innerHTML = '';\n",
              "          dataTable['output_type'] = 'display_data';\n",
              "          await google.colab.output.renderOutput(dataTable, element);\n",
              "          const docLink = document.createElement('div');\n",
              "          docLink.innerHTML = docLinkHtml;\n",
              "          element.appendChild(docLink);\n",
              "        }\n",
              "      </script>\n",
              "    </div>\n",
              "  </div>\n",
              "  "
            ]
          },
          "metadata": {},
          "execution_count": 4
        }
      ]
    },
    {
      "cell_type": "markdown",
      "source": [
        "## Pearson Correlation\n",
        "We can  compute Pearson correlation coefficient using SciPy’s stats module. SciPy’s stats module has a function called pearsonr() that can take two arrays and return a tuple containing Pearson correlation coefficient and the significance of the correlation as p-value.\n"
      ],
      "metadata": {
        "id": "ix17XAAGderf"
      }
    },
    {
      "cell_type": "code",
      "source": [
        "#The first element of tuple is the Pearson correlation and the second is p-value.\n",
        "stats.pearsonr(data['FSIQ'],data['VIQ'])\n"
      ],
      "metadata": {
        "colab": {
          "base_uri": "https://localhost:8080/"
        },
        "id": "mjQFwowBddxx",
        "outputId": "93eb81e3-a359-4780-f19a-2c7a1b015dce"
      },
      "execution_count": 6,
      "outputs": [
        {
          "output_type": "execute_result",
          "data": {
            "text/plain": [
              "(0.9466387777452879, 2.789129587246402e-20)"
            ]
          },
          "metadata": {},
          "execution_count": 6
        }
      ]
    },
    {
      "cell_type": "code",
      "source": [
        "# we can also use pandas\n",
        "data['FSIQ'].corr(data['VIQ'], method=\"pearson\")\n"
      ],
      "metadata": {
        "colab": {
          "base_uri": "https://localhost:8080/"
        },
        "id": "E4q8Wp20fC8x",
        "outputId": "939e5d91-a31d-46da-e500-7b895ac8602c"
      },
      "execution_count": 8,
      "outputs": [
        {
          "output_type": "execute_result",
          "data": {
            "text/plain": [
              "0.9466387777452884"
            ]
          },
          "metadata": {},
          "execution_count": 8
        }
      ]
    },
    {
      "cell_type": "markdown",
      "source": [
        "## Spearman Correlation\n",
        "Pearson correlation assumes that the data we are comparing is normally distributed. When that assumption is not true, the correlation value is not reflecting the true association. Spearman correlation does not assume that data is from a specific distribution, so it is a non-parametric correlation measure. Spearman correlation is also known as Spearman’s rank correlation as it computes correlation coefficient on rank values of the data. Using SciPy, we can compute Spearman correlation using the function spearmanr()."
      ],
      "metadata": {
        "id": "C1kiezr-eb-G"
      }
    },
    {
      "cell_type": "code",
      "source": [
        "#The first element of tuple is the Spearman's rank correlation and the second is p-value.\n",
        "stats.spearmanr(data['FSIQ'],data['VIQ'])"
      ],
      "metadata": {
        "colab": {
          "base_uri": "https://localhost:8080/"
        },
        "id": "eILWzQ2geU-2",
        "outputId": "9a41c7c1-bb18-4a27-b16b-7648948a7331"
      },
      "execution_count": 7,
      "outputs": [
        {
          "output_type": "execute_result",
          "data": {
            "text/plain": [
              "SpearmanrResult(correlation=0.9180538517127924, pvalue=7.511345723342308e-17)"
            ]
          },
          "metadata": {},
          "execution_count": 7
        }
      ]
    },
    {
      "cell_type": "code",
      "source": [
        "# we can also use pandas\n",
        "data['FSIQ'].corr(data['VIQ'], method=\"spearman\")\n"
      ],
      "metadata": {
        "colab": {
          "base_uri": "https://localhost:8080/"
        },
        "id": "T9hqfdlTfR-P",
        "outputId": "14357dd7-bcfa-416f-9017-ff771d2ebe84"
      },
      "execution_count": 9,
      "outputs": [
        {
          "output_type": "execute_result",
          "data": {
            "text/plain": [
              "0.9180538517127924"
            ]
          },
          "metadata": {},
          "execution_count": 9
        }
      ]
    },
    {
      "cell_type": "code",
      "source": [
        "slope, intercept, r_value, pv, se = stats.linregress(data['FSIQ'],data['VIQ'])\n",
        "sns.regplot(x=\"FSIQ\", y=\"VIQ\", data=data, \n",
        "      ci=None, label=\"y={0:.2f}x+{1:.2f}\".format(slope, intercept)).legend(loc=\"best\")"
      ],
      "metadata": {
        "colab": {
          "base_uri": "https://localhost:8080/",
          "height": 297
        },
        "id": "rU2CCDm-hmAX",
        "outputId": "bb321727-0bc0-40cd-d10c-070a0d8c7b74"
      },
      "execution_count": 11,
      "outputs": [
        {
          "output_type": "execute_result",
          "data": {
            "text/plain": [
              "<matplotlib.legend.Legend at 0x7fcfbd265510>"
            ]
          },
          "metadata": {},
          "execution_count": 11
        },
        {
          "output_type": "display_data",
          "data": {
            "text/plain": [
              "<Figure size 432x288 with 1 Axes>"
            ],
            "image/png": "[encoded data removed]"
          },
          "metadata": {
            "needs_background": "light"
          }
        }
      ]
    },
    {
      "cell_type": "markdown",
      "metadata": {
        "id": "MVaeENVgarVN"
      },
      "source": [
        "## Student’s t-test: the simplest statistical test\n",
        "### 1-sample t-test: testing the value of a population mean\n",
        "scipy.stats.ttest_1samp() tests if the population mean of data is likely to be equal to a given value (technically if observations are drawn from a Gaussian distributions of given population mean). It returns the T statistic, and the p-value:"
      ]
    },
    {
      "cell_type": "code",
      "metadata": {
        "id": "mZY0mNpzb_YR",
        "outputId": "e7ce6ef7-624a-4e12-f3a7-6818c2c3956f",
        "colab": {
          "base_uri": "https://localhost:8080/",
          "height": 350
        }
      },
      "source": [
        "sns.distplot(data['VIQ'],hist=False)\n",
        "plt.axvline(0)\n",
        "res=stats.ttest_1samp(data['VIQ'], 0) \n",
        "print (res[0])\n",
        "\n"
      ],
      "execution_count": null,
      "outputs": [
        {
          "output_type": "stream",
          "name": "stderr",
          "text": [
            "/usr/local/lib/python3.7/dist-packages/seaborn/distributions.py:2619: FutureWarning: `distplot` is a deprecated function and will be removed in a future version. Please adapt your code to use either `displot` (a figure-level function with similar flexibility) or `kdeplot` (an axes-level function for kernel density plots).\n",
            "  warnings.warn(msg, FutureWarning)\n"
          ]
        },
        {
          "output_type": "stream",
          "name": "stdout",
          "text": [
            "30.088099970849328\n"
          ]
        },
        {
          "output_type": "display_data",
          "data": {
            "image/png": "[encoded data removed]",
            "text/plain": [
              "<Figure size 432x288 with 1 Axes>"
            ]
          },
          "metadata": {
            "needs_background": "light"
          }
        }
      ]
    },
    {
      "cell_type": "markdown",
      "metadata": {
        "id": "AWNrJWvlb4nY"
      },
      "source": [
        "## 2-sample t-test: testing for difference across populations\n",
        "We have seen above that the mean VIQ in the male and female populations were different. To test if this is significant, we do a 2-sample t-test with scipy.stats.ttest_ind():"
      ]
    },
    {
      "cell_type": "code",
      "metadata": {
        "id": "vSeXznL6a3wq",
        "outputId": "03db16a0-11aa-46d5-c6fb-18166cfce8ff",
        "colab": {
          "base_uri": "https://localhost:8080/"
        }
      },
      "source": [
        "\n",
        "female_viq = data[data['Gender'] == 'Female']['VIQ']\n",
        "male_viq = data[data['Gender'] == 'Male']['VIQ']\n",
        "stats.ttest_ind(female_viq, male_viq) \n",
        "\n"
      ],
      "execution_count": 13,
      "outputs": [
        {
          "output_type": "execute_result",
          "data": {
            "text/plain": [
              "Ttest_indResult(statistic=-0.7726161723275011, pvalue=0.44452876778583217)"
            ]
          },
          "metadata": {},
          "execution_count": 13
        }
      ]
    },
    {
      "cell_type": "code",
      "source": [
        "sns.distplot(female_viq,hist=False,color='purple')\n",
        "sns.distplot(male_viq,hist=False,color='blue')\n"
      ],
      "metadata": {
        "colab": {
          "base_uri": "https://localhost:8080/",
          "height": 388
        },
        "id": "AL9yI8EhlMet",
        "outputId": "7184422b-4930-43ba-d2c8-233687cdf9fa"
      },
      "execution_count": 14,
      "outputs": [
        {
          "output_type": "stream",
          "name": "stderr",
          "text": [
            "/usr/local/lib/python3.7/dist-packages/seaborn/distributions.py:2619: FutureWarning: `distplot` is a deprecated function and will be removed in a future version. Please adapt your code to use either `displot` (a figure-level function with similar flexibility) or `kdeplot` (an axes-level function for kernel density plots).\n",
            "  warnings.warn(msg, FutureWarning)\n",
            "/usr/local/lib/python3.7/dist-packages/seaborn/distributions.py:2619: FutureWarning: `distplot` is a deprecated function and will be removed in a future version. Please adapt your code to use either `displot` (a figure-level function with similar flexibility) or `kdeplot` (an axes-level function for kernel density plots).\n",
            "  warnings.warn(msg, FutureWarning)\n"
          ]
        },
        {
          "output_type": "execute_result",
          "data": {
            "text/plain": [
              "<matplotlib.axes._subplots.AxesSubplot at 0x7fcfbd197c90>"
            ]
          },
          "metadata": {},
          "execution_count": 14
        },
        {
          "output_type": "display_data",
          "data": {
            "text/plain": [
              "<Figure size 432x288 with 1 Axes>"
            ],
            "image/png": "[encoded data removed]"
          },
          "metadata": {
            "needs_background": "light"
          }
        }
      ]
    },
    {
      "cell_type": "markdown",
      "metadata": {
        "id": "opYcYwwYbY1-"
      },
      "source": [
        "## Paired tests: repeated measurements on the same individuals\n",
        "PIQ, VIQ, and FSIQ give 3 measures of IQ. Let us test if FISQ and PIQ are significantly different. We can use a 2 sample test:"
      ]
    },
    {
      "cell_type": "code",
      "metadata": {
        "id": "wDlb7DkEa_Ug",
        "outputId": "37a0b782-e09a-46ee-b676-2035791b5fa9",
        "colab": {
          "base_uri": "https://localhost:8080/",
          "height": 384
        }
      },
      "source": [
        "stats.ttest_ind(data['FSIQ'], data['PIQ'])\n",
        "sns.distplot(data['FSIQ'],color='r')\n",
        "sns.distplot(data['PIQ'],color='g')\n",
        "\n",
        "# try to use groupby to run a two-sample t-test"
      ],
      "execution_count": null,
      "outputs": [
        {
          "output_type": "stream",
          "name": "stderr",
          "text": [
            "/usr/local/lib/python3.7/dist-packages/seaborn/distributions.py:2619: FutureWarning: `distplot` is a deprecated function and will be removed in a future version. Please adapt your code to use either `displot` (a figure-level function with similar flexibility) or `histplot` (an axes-level function for histograms).\n",
            "  warnings.warn(msg, FutureWarning)\n",
            "/usr/local/lib/python3.7/dist-packages/seaborn/distributions.py:2619: FutureWarning: `distplot` is a deprecated function and will be removed in a future version. Please adapt your code to use either `displot` (a figure-level function with similar flexibility) or `histplot` (an axes-level function for histograms).\n",
            "  warnings.warn(msg, FutureWarning)\n"
          ]
        },
        {
          "output_type": "execute_result",
          "data": {
            "text/plain": [
              "<matplotlib.axes._subplots.AxesSubplot at 0x7f5209c8b290>"
            ]
          },
          "metadata": {},
          "execution_count": 88
        },
        {
          "output_type": "display_data",
          "data": {
            "image/png": "[encoded data removed]",
            "text/plain": [
              "<Figure size 432x288 with 1 Axes>"
            ]
          },
          "metadata": {
            "needs_background": "light"
          }
        }
      ]
    },
    {
      "cell_type": "markdown",
      "metadata": {
        "id": "tY_d308UbwUK"
      },
      "source": [
        "The problem with this approach is that it forgets that there are links between observations: FSIQ and PIQ are measured on the same individuals. Thus the variance due to inter-subject variability is confounding, and can be removed, using a “paired test”, or “repeated measures test”:"
      ]
    },
    {
      "cell_type": "code",
      "metadata": {
        "id": "Nybrm5VTbQpO",
        "outputId": "73dd23fb-3bdc-49a0-c02e-bacdf97d0612",
        "colab": {
          "base_uri": "https://localhost:8080/"
        }
      },
      "source": [
        "stats.ttest_rel(data['FSIQ'], data['PIQ']) "
      ],
      "execution_count": null,
      "outputs": [
        {
          "output_type": "execute_result",
          "data": {
            "text/plain": [
              "Ttest_relResult(statistic=1.7842019405859857, pvalue=0.08217263818364236)"
            ]
          },
          "metadata": {},
          "execution_count": 87
        }
      ]
    },
    {
      "cell_type": "markdown",
      "metadata": {
        "id": "hLtSe0_scTBk"
      },
      "source": [
        "This is equivalent to a 1-sample test on the difference:"
      ]
    },
    {
      "cell_type": "code",
      "metadata": {
        "id": "IBrbVyv0bX2V",
        "outputId": "28aa8dcc-794c-4b9a-8a4b-9fe78b9dff89",
        "colab": {
          "base_uri": "https://localhost:8080/",
          "height": 336
        }
      },
      "source": [
        "sns.distplot(data['FSIQ'] - data['PIQ'])\n",
        "plt.axvline(0)\n",
        "stats.ttest_1samp(data['FSIQ'] - data['PIQ'], 0) \n"
      ],
      "execution_count": null,
      "outputs": [
        {
          "output_type": "stream",
          "name": "stderr",
          "text": [
            "/usr/local/lib/python3.7/dist-packages/seaborn/distributions.py:2619: FutureWarning: `distplot` is a deprecated function and will be removed in a future version. Please adapt your code to use either `displot` (a figure-level function with similar flexibility) or `histplot` (an axes-level function for histograms).\n",
            "  warnings.warn(msg, FutureWarning)\n"
          ]
        },
        {
          "output_type": "execute_result",
          "data": {
            "text/plain": [
              "Ttest_1sampResult(statistic=1.7842019405859857, pvalue=0.08217263818364236)"
            ]
          },
          "metadata": {},
          "execution_count": 91
        },
        {
          "output_type": "display_data",
          "data": {
            "image/png": "[encoded data removed]",
            "text/plain": [
              "<Figure size 432x288 with 1 Axes>"
            ]
          },
          "metadata": {
            "needs_background": "light"
          }
        }
      ]
    },
    {
      "cell_type": "markdown",
      "metadata": {
        "id": "5Xn-ouDNcYA1"
      },
      "source": [
        "T-tests assume Gaussian errors. We can use a Wilcoxon signed-rank test, that relaxes this assumption. Note The corresponding test in the non paired case is the Mann–Whitney U test, scipy.stats.mannwhitneyu()."
      ]
    },
    {
      "cell_type": "code",
      "metadata": {
        "id": "3UWA7AzzcXNI",
        "outputId": "d6d48848-fa93-424b-96d3-260014fbd96b",
        "colab": {
          "base_uri": "https://localhost:8080/"
        }
      },
      "source": [
        "stats.wilcoxon(data['FSIQ'], data['PIQ'])   "
      ],
      "execution_count": null,
      "outputs": [
        {
          "output_type": "execute_result",
          "data": {
            "text/plain": [
              "WilcoxonResult(statistic=274.5, pvalue=0.10659492713506856)"
            ]
          },
          "metadata": {},
          "execution_count": 92
        }
      ]
    },
    {
      "cell_type": "markdown",
      "metadata": {
        "id": "gkiaiiqTcs2N"
      },
      "source": [
        "### Exercise\n",
        "\n",
        "Test the difference between weights in males and females.\n",
        "Use non parametric statistics to test the difference between VIQ in males and females.\n",
        "Conclusion: we find that the data does not support the hypothesis that males and females have different VIQ."
      ]
    },
    {
      "cell_type": "markdown",
      "metadata": {
        "id": "vQ9McOP0czi0"
      },
      "source": [
        "# Linear models, multiple factors, and analysis of variance\n",
        "Given two set of observations, x and y, we want to test the hypothesis that y is a linear function of x. In other terms:\n",
        "\n",
        "> y = ax + b + e\n",
        "\n",
        "where e is observation noise. We will use the statsmodels module to:\n",
        "\n",
        "Fit a linear model. We will use the simplest strategy, ordinary least squares (OLS).\n",
        "Test that coef is non zero."
      ]
    },
    {
      "cell_type": "code",
      "metadata": {
        "id": "o-H_pqIEcnDo"
      },
      "source": [
        "x = np.linspace(-5, 5, 20)\n",
        "x2= np.linspace(0,10, 20)\n",
        "x3=  np.random.normal(size=20)\n",
        "\n",
        "np.random.seed(1)\n",
        "# normal distributed noise\n",
        "y = -5 + 3*x -10*x2 + 4 * np.random.normal(size=x.shape)\n",
        "# Create a data frame containing all the relevant variables\n",
        "data = pd.DataFrame({'x': x,'x2': x2, 'x3':x3, 'y': y})"
      ],
      "execution_count": null,
      "outputs": []
    },
    {
      "cell_type": "code",
      "metadata": {
        "id": "IrfHZDdXe_3P",
        "outputId": "b30a4bb8-97f8-48ed-99f7-dfcbe42bc8aa",
        "colab": {
          "base_uri": "https://localhost:8080/",
          "height": 669
        }
      },
      "source": [
        "data"
      ],
      "execution_count": null,
      "outputs": [
        {
          "output_type": "execute_result",
          "data": {
            "text/html": [
              "<div>\n",
              "<style scoped>\n",
              "    .dataframe tbody tr th:only-of-type {\n",
              "        vertical-align: middle;\n",
              "    }\n",
              "\n",
              "    .dataframe tbody tr th {\n",
              "        vertical-align: top;\n",
              "    }\n",
              "\n",
              "    .dataframe thead th {\n",
              "        text-align: right;\n",
              "    }\n",
              "</style>\n",
              "<table border=\"1\" class=\"dataframe\">\n",
              "  <thead>\n",
              "    <tr style=\"text-align: right;\">\n",
              "      <th></th>\n",
              "      <th>x</th>\n",
              "      <th>x2</th>\n",
              "      <th>x3</th>\n",
              "      <th>y</th>\n",
              "    </tr>\n",
              "  </thead>\n",
              "  <tbody>\n",
              "    <tr>\n",
              "      <th>0</th>\n",
              "      <td>-5.000000</td>\n",
              "      <td>0.000000</td>\n",
              "      <td>-1.100619</td>\n",
              "      <td>-13.502619</td>\n",
              "    </tr>\n",
              "    <tr>\n",
              "      <th>1</th>\n",
              "      <td>-4.473684</td>\n",
              "      <td>0.526316</td>\n",
              "      <td>1.144724</td>\n",
              "      <td>-26.131236</td>\n",
              "    </tr>\n",
              "    <tr>\n",
              "      <th>2</th>\n",
              "      <td>-3.947368</td>\n",
              "      <td>1.052632</td>\n",
              "      <td>0.901591</td>\n",
              "      <td>-29.481108</td>\n",
              "    </tr>\n",
              "    <tr>\n",
              "      <th>3</th>\n",
              "      <td>-3.421053</td>\n",
              "      <td>1.578947</td>\n",
              "      <td>0.502494</td>\n",
              "      <td>-35.344506</td>\n",
              "    </tr>\n",
              "    <tr>\n",
              "      <th>4</th>\n",
              "      <td>-2.894737</td>\n",
              "      <td>2.105263</td>\n",
              "      <td>0.900856</td>\n",
              "      <td>-31.275212</td>\n",
              "    </tr>\n",
              "    <tr>\n",
              "      <th>5</th>\n",
              "      <td>-2.368421</td>\n",
              "      <td>2.631579</td>\n",
              "      <td>-0.683728</td>\n",
              "      <td>-47.627207</td>\n",
              "    </tr>\n",
              "    <tr>\n",
              "      <th>6</th>\n",
              "      <td>-1.842105</td>\n",
              "      <td>3.157895</td>\n",
              "      <td>-0.122890</td>\n",
              "      <td>-35.126016</td>\n",
              "    </tr>\n",
              "    <tr>\n",
              "      <th>7</th>\n",
              "      <td>-1.315789</td>\n",
              "      <td>3.684211</td>\n",
              "      <td>-0.935769</td>\n",
              "      <td>-48.834301</td>\n",
              "    </tr>\n",
              "    <tr>\n",
              "      <th>8</th>\n",
              "      <td>-0.789474</td>\n",
              "      <td>4.210526</td>\n",
              "      <td>-0.267888</td>\n",
              "      <td>-48.197528</td>\n",
              "    </tr>\n",
              "    <tr>\n",
              "      <th>9</th>\n",
              "      <td>-0.263158</td>\n",
              "      <td>4.736842</td>\n",
              "      <td>0.530355</td>\n",
              "      <td>-54.155376</td>\n",
              "    </tr>\n",
              "    <tr>\n",
              "      <th>10</th>\n",
              "      <td>0.263158</td>\n",
              "      <td>5.263158</td>\n",
              "      <td>-0.691661</td>\n",
              "      <td>-50.993674</td>\n",
              "    </tr>\n",
              "    <tr>\n",
              "      <th>11</th>\n",
              "      <td>0.789474</td>\n",
              "      <td>5.789474</td>\n",
              "      <td>-0.396754</td>\n",
              "      <td>-68.766879</td>\n",
              "    </tr>\n",
              "    <tr>\n",
              "      <th>12</th>\n",
              "      <td>1.315789</td>\n",
              "      <td>6.315789</td>\n",
              "      <td>-0.687173</td>\n",
              "      <td>-65.500195</td>\n",
              "    </tr>\n",
              "    <tr>\n",
              "      <th>13</th>\n",
              "      <td>1.842105</td>\n",
              "      <td>6.842105</td>\n",
              "      <td>-0.845206</td>\n",
              "      <td>-69.430954</td>\n",
              "    </tr>\n",
              "    <tr>\n",
              "      <th>14</th>\n",
              "      <td>2.368421</td>\n",
              "      <td>7.368421</td>\n",
              "      <td>-0.671246</td>\n",
              "      <td>-67.043870</td>\n",
              "    </tr>\n",
              "    <tr>\n",
              "      <th>15</th>\n",
              "      <td>2.894737</td>\n",
              "      <td>7.894737</td>\n",
              "      <td>-0.012665</td>\n",
              "      <td>-79.662723</td>\n",
              "    </tr>\n",
              "    <tr>\n",
              "      <th>16</th>\n",
              "      <td>3.421053</td>\n",
              "      <td>8.421053</td>\n",
              "      <td>-1.117310</td>\n",
              "      <td>-79.637081</td>\n",
              "    </tr>\n",
              "    <tr>\n",
              "      <th>17</th>\n",
              "      <td>3.947368</td>\n",
              "      <td>8.947368</td>\n",
              "      <td>0.234416</td>\n",
              "      <td>-86.143013</td>\n",
              "    </tr>\n",
              "    <tr>\n",
              "      <th>18</th>\n",
              "      <td>4.473684</td>\n",
              "      <td>9.473684</td>\n",
              "      <td>1.659802</td>\n",
              "      <td>-86.146934</td>\n",
              "    </tr>\n",
              "    <tr>\n",
              "      <th>19</th>\n",
              "      <td>5.000000</td>\n",
              "      <td>10.000000</td>\n",
              "      <td>0.742044</td>\n",
              "      <td>-87.668739</td>\n",
              "    </tr>\n",
              "  </tbody>\n",
              "</table>\n",
              "</div>"
            ],
            "text/plain": [
              "           x         x2        x3          y\n",
              "0  -5.000000   0.000000 -1.100619 -13.502619\n",
              "1  -4.473684   0.526316  1.144724 -26.131236\n",
              "2  -3.947368   1.052632  0.901591 -29.481108\n",
              "3  -3.421053   1.578947  0.502494 -35.344506\n",
              "4  -2.894737   2.105263  0.900856 -31.275212\n",
              "5  -2.368421   2.631579 -0.683728 -47.627207\n",
              "6  -1.842105   3.157895 -0.122890 -35.126016\n",
              "7  -1.315789   3.684211 -0.935769 -48.834301\n",
              "8  -0.789474   4.210526 -0.267888 -48.197528\n",
              "9  -0.263158   4.736842  0.530355 -54.155376\n",
              "10  0.263158   5.263158 -0.691661 -50.993674\n",
              "11  0.789474   5.789474 -0.396754 -68.766879\n",
              "12  1.315789   6.315789 -0.687173 -65.500195\n",
              "13  1.842105   6.842105 -0.845206 -69.430954\n",
              "14  2.368421   7.368421 -0.671246 -67.043870\n",
              "15  2.894737   7.894737 -0.012665 -79.662723\n",
              "16  3.421053   8.421053 -1.117310 -79.637081\n",
              "17  3.947368   8.947368  0.234416 -86.143013\n",
              "18  4.473684   9.473684  1.659802 -86.146934\n",
              "19  5.000000  10.000000  0.742044 -87.668739"
            ]
          },
          "metadata": {},
          "execution_count": 104
        }
      ]
    },
    {
      "cell_type": "markdown",
      "metadata": {
        "id": "eecqvySgdmHq"
      },
      "source": []
    },
    {
      "cell_type": "code",
      "metadata": {
        "id": "DOuOGkQMdjIz",
        "outputId": "c7095ed3-7124-4bf4-fe3d-14c383cdbe24",
        "colab": {
          "base_uri": "https://localhost:8080/"
        }
      },
      "source": [
        "from statsmodels.formula.api import ols\n",
        "model = ols(\"y ~ x + x2 + x3\", data).fit()\n",
        "print(model.summary())"
      ],
      "execution_count": null,
      "outputs": [
        {
          "output_type": "stream",
          "name": "stdout",
          "text": [
            "                            OLS Regression Results                            \n",
            "==============================================================================\n",
            "Dep. Variable:                      y   R-squared:                       0.960\n",
            "Model:                            OLS   Adj. R-squared:                  0.955\n",
            "Method:                 Least Squares   F-statistic:                     202.8\n",
            "Date:                Mon, 04 Oct 2021   Prob (F-statistic):           1.38e-12\n",
            "Time:                        08:54:03   Log-Likelihood:                -57.962\n",
            "No. Observations:                  20   AIC:                             121.9\n",
            "Df Residuals:                      17   BIC:                             124.9\n",
            "Df Model:                           2                                         \n",
            "Covariance Type:            nonrobust                                         \n",
            "==============================================================================\n",
            "                 coef    std err          t      P>|t|      [0.025      0.975]\n",
            "------------------------------------------------------------------------------\n",
            "Intercept     -2.8064      0.102    -27.452      0.000      -3.022      -2.591\n",
            "x              3.4838      0.391      8.907      0.000       2.659       4.309\n",
            "x2           -10.5480      0.198    -53.301      0.000     -10.966     -10.130\n",
            "x3            -0.2808      1.323     -0.212      0.834      -3.072       2.511\n",
            "==============================================================================\n",
            "Omnibus:                        0.134   Durbin-Watson:                   2.965\n",
            "Prob(Omnibus):                  0.935   Jarque-Bera (JB):                0.334\n",
            "Skew:                          -0.122   Prob(JB):                        0.846\n",
            "Kurtosis:                       2.416   Cond. No.                     2.97e+16\n",
            "==============================================================================\n",
            "\n",
            "Warnings:\n",
            "[1] Standard Errors assume that the covariance matrix of the errors is correctly specified.\n",
            "[2] The smallest eigenvalue is 8.57e-31. This might indicate that there are\n",
            "strong multicollinearity problems or that the design matrix is singular.\n"
          ]
        }
      ]
    },
    {
      "cell_type": "markdown",
      "metadata": {
        "id": "fWslokQ4mrd6"
      },
      "source": [
        "## Categorical variables:\n",
        " comparing groups or multiple categories\n"
      ]
    },
    {
      "cell_type": "code",
      "metadata": {
        "id": "81HPs71YmqfZ",
        "outputId": "37df16a5-01e2-4032-cb6b-39f88131e46c",
        "colab": {
          "base_uri": "https://localhost:8080/"
        }
      },
      "source": [
        "data = pd.read_csv('https://scipy-lectures.org/_downloads/brain_size.csv', sep=';', na_values=\".\")\n",
        "model = ols(\"VIQ ~ Gender + 1\", data).fit()\n",
        "print(model.summary())  "
      ],
      "execution_count": null,
      "outputs": [
        {
          "output_type": "stream",
          "name": "stdout",
          "text": [
            "                            OLS Regression Results                            \n",
            "==============================================================================\n",
            "Dep. Variable:                    VIQ   R-squared:                       0.015\n",
            "Model:                            OLS   Adj. R-squared:                 -0.010\n",
            "Method:                 Least Squares   F-statistic:                    0.5969\n",
            "Date:                Mon, 04 Oct 2021   Prob (F-statistic):              0.445\n",
            "Time:                        08:54:46   Log-Likelihood:                -182.42\n",
            "No. Observations:                  40   AIC:                             368.8\n",
            "Df Residuals:                      38   BIC:                             372.2\n",
            "Df Model:                           1                                         \n",
            "Covariance Type:            nonrobust                                         \n",
            "==================================================================================\n",
            "                     coef    std err          t      P>|t|      [0.025      0.975]\n",
            "----------------------------------------------------------------------------------\n",
            "Intercept        109.4500      5.308     20.619      0.000      98.704     120.196\n",
            "Gender[T.Male]     5.8000      7.507      0.773      0.445      -9.397      20.997\n",
            "==============================================================================\n",
            "Omnibus:                       26.188   Durbin-Watson:                   1.709\n",
            "Prob(Omnibus):                  0.000   Jarque-Bera (JB):                3.703\n",
            "Skew:                           0.010   Prob(JB):                        0.157\n",
            "Kurtosis:                       1.510   Cond. No.                         2.62\n",
            "==============================================================================\n",
            "\n",
            "Warnings:\n",
            "[1] Standard Errors assume that the covariance matrix of the errors is correctly specified.\n"
          ]
        }
      ]
    },
    {
      "cell_type": "markdown",
      "metadata": {
        "id": "AWX588mpnIez"
      },
      "source": [
        "\n",
        "## Link to t-tests between different FSIQ and PIQ\n",
        "\n",
        "To compare different types of IQ, we need to create a “long-form” table, listing IQs, where the type of IQ is indicated by a categorical variable:"
      ]
    },
    {
      "cell_type": "code",
      "metadata": {
        "id": "NiuWkDTPnHny",
        "outputId": "0a221c8c-ec43-483b-8fbe-052479cd2744",
        "colab": {
          "base_uri": "https://localhost:8080/",
          "height": 534
        }
      },
      "source": [
        "data_fisq = pd.DataFrame({'iq': data['FSIQ'], 'type': 'fsiq'})\n",
        "data_piq = pd.DataFrame({'iq': data['PIQ'], 'type': 'piq'})\n",
        "data_long = pd.concat((data_fisq, data_piq))\n",
        "print(data_long)\n",
        "\n",
        "#sns.boxplot(data=data_long,x='type',y='iq')\n",
        "sns.violinplot(data=data_long,x='type',y='iq')\n",
        "\n"
      ],
      "execution_count": null,
      "outputs": [
        {
          "output_type": "stream",
          "name": "stdout",
          "text": [
            "     iq  type\n",
            "0   133  fsiq\n",
            "1   140  fsiq\n",
            "2   139  fsiq\n",
            "3   133  fsiq\n",
            "4   137  fsiq\n",
            "..  ...   ...\n",
            "35  128   piq\n",
            "36  124   piq\n",
            "37   94   piq\n",
            "38   74   piq\n",
            "39   89   piq\n",
            "\n",
            "[80 rows x 2 columns]\n"
          ]
        },
        {
          "output_type": "execute_result",
          "data": {
            "text/plain": [
              "<matplotlib.axes._subplots.AxesSubplot at 0x7f5209970a90>"
            ]
          },
          "metadata": {},
          "execution_count": 112
        },
        {
          "output_type": "display_data",
          "data": {
            "image/png": "[encoded data removed]",
            "text/plain": [
              "<Figure size 432x288 with 1 Axes>"
            ]
          },
          "metadata": {
            "needs_background": "light"
          }
        }
      ]
    },
    {
      "cell_type": "code",
      "metadata": {
        "id": "85zfO1j_nZuQ",
        "outputId": "4a6af54f-33f7-4265-e451-c42299ecb999",
        "colab": {
          "base_uri": "https://localhost:8080/"
        }
      },
      "source": [
        "model = ols(\"iq ~ type\", data_long).fit()\n",
        "print(model.summary())\n"
      ],
      "execution_count": null,
      "outputs": [
        {
          "output_type": "stream",
          "name": "stdout",
          "text": [
            "                            OLS Regression Results                            \n",
            "==============================================================================\n",
            "Dep. Variable:                     iq   R-squared:                       0.003\n",
            "Model:                            OLS   Adj. R-squared:                 -0.010\n",
            "Method:                 Least Squares   F-statistic:                    0.2168\n",
            "Date:                Mon, 04 Oct 2021   Prob (F-statistic):              0.643\n",
            "Time:                        08:58:28   Log-Likelihood:                -364.35\n",
            "No. Observations:                  80   AIC:                             732.7\n",
            "Df Residuals:                      78   BIC:                             737.5\n",
            "Df Model:                           1                                         \n",
            "Covariance Type:            nonrobust                                         \n",
            "===============================================================================\n",
            "                  coef    std err          t      P>|t|      [0.025      0.975]\n",
            "-------------------------------------------------------------------------------\n",
            "Intercept     113.4500      3.683     30.807      0.000     106.119     120.781\n",
            "type[T.piq]    -2.4250      5.208     -0.466      0.643     -12.793       7.943\n",
            "==============================================================================\n",
            "Omnibus:                      164.598   Durbin-Watson:                   1.531\n",
            "Prob(Omnibus):                  0.000   Jarque-Bera (JB):                8.062\n",
            "Skew:                          -0.110   Prob(JB):                       0.0178\n",
            "Kurtosis:                       1.461   Cond. No.                         2.62\n",
            "==============================================================================\n",
            "\n",
            "Warnings:\n",
            "[1] Standard Errors assume that the covariance matrix of the errors is correctly specified.\n"
          ]
        }
      ]
    },
    {
      "cell_type": "markdown",
      "metadata": {
        "id": "bizizr1OndAv"
      },
      "source": [
        "## Multiple Regression: \n",
        "including multiple factors"
      ]
    },
    {
      "cell_type": "code",
      "metadata": {
        "id": "ApeDiDzgnctM"
      },
      "source": [
        "data = pd.read_csv('https://scipy-lectures.org/_downloads/iris.csv')\n",
        "model = ols('sepal_width ~ name + petal_length', data).fit()\n",
        "print(model.summary())  "
      ],
      "execution_count": null,
      "outputs": []
    },
    {
      "cell_type": "markdown",
      "metadata": {
        "id": "n7VmJAkzoDy9"
      },
      "source": [
        "# Analysis of variance (ANOVA)\n",
        "In the above iris example, we wish to test if the petal length is different between versicolor and virginica, after removing the effect of sepal width. This can be formulated as testing the difference between the coefficient associated to versicolor and virginica in the linear model estimated above (it is an Analysis of Variance, ANOVA). For this, we write a vector of ‘contrast’ on the parameters estimated: we want to test \"name[T.versicolor] - name[T.virginica]\", with an F-test."
      ]
    },
    {
      "cell_type": "code",
      "metadata": {
        "id": "iix02Vn9oqZd"
      },
      "source": [
        "print(model.f_test([0, 1, -1, 0]))  "
      ],
      "execution_count": null,
      "outputs": []
    }
  ]
}